{
 "cells": [
  {
   "cell_type": "markdown",
   "metadata": {},
   "source": [
    "# Data Cleaning and Processing\n",
    "\n",
    "This Notebook will process the data and extract all the relevant information needed for analysis. This will include:\n",
    "- Feature Selection\n",
    "- Imputing missing values\n",
    "- Removing possible Duplicates (in case it was not properly preformed in the data collection process)\n",
    "- Normalizing and Encoding categorical variables\n",
    "\n",
    "Then the cleaned data will be exported into a format for the next step of EDA.\n",
    "\n",
    "Imputing missing values will be done using the following methods:\n",
    "- Mode for categorical variables\n",
    "- For `selftext` the blank values will be filled with \"title_only\"\n"
   ]
  },
  {
   "cell_type": "markdown",
   "metadata": {},
   "source": [
    "## Import Data"
   ]
  },
  {
   "cell_type": "code",
   "execution_count": 1,
   "metadata": {},
   "outputs": [],
   "source": [
    "## Imports\n",
    "import pandas as pd\n",
    "\n",
    "## Sklearn \n",
    "from sklearn.preprocessing import  StandardScaler\n",
    "\n",
    "#Ignore warnings\n",
    "from warnings import filterwarnings\n",
    "filterwarnings('ignore')"
   ]
  },
  {
   "cell_type": "code",
   "execution_count": 2,
   "metadata": {},
   "outputs": [
    {
     "name": "stdout",
     "output_type": "stream",
     "text": [
      "(9219, 118)\n"
     ]
    },
    {
     "data": {
      "text/html": [
       "<div>\n",
       "<style scoped>\n",
       "    .dataframe tbody tr th:only-of-type {\n",
       "        vertical-align: middle;\n",
       "    }\n",
       "\n",
       "    .dataframe tbody tr th {\n",
       "        vertical-align: top;\n",
       "    }\n",
       "\n",
       "    .dataframe thead th {\n",
       "        text-align: right;\n",
       "    }\n",
       "</style>\n",
       "<table border=\"1\" class=\"dataframe\">\n",
       "  <thead>\n",
       "    <tr style=\"text-align: right;\">\n",
       "      <th></th>\n",
       "      <th>approved_at_utc</th>\n",
       "      <th>subreddit</th>\n",
       "      <th>selftext</th>\n",
       "      <th>author_fullname</th>\n",
       "      <th>saved</th>\n",
       "      <th>mod_reason_title</th>\n",
       "      <th>gilded</th>\n",
       "      <th>clicked</th>\n",
       "      <th>title</th>\n",
       "      <th>link_flair_richtext</th>\n",
       "      <th>...</th>\n",
       "      <th>preview</th>\n",
       "      <th>is_gallery</th>\n",
       "      <th>media_metadata</th>\n",
       "      <th>gallery_data</th>\n",
       "      <th>author_cakeday</th>\n",
       "      <th>link_flair_template_id</th>\n",
       "      <th>poll_data</th>\n",
       "      <th>crosspost_parent_list</th>\n",
       "      <th>crosspost_parent</th>\n",
       "      <th>collections</th>\n",
       "    </tr>\n",
       "  </thead>\n",
       "  <tbody>\n",
       "    <tr>\n",
       "      <th>0</th>\n",
       "      <td>NaN</td>\n",
       "      <td>Army</td>\n",
       "      <td>This was a convo I had with one of my buddies ...</td>\n",
       "      <td>t2_3vmh30ad</td>\n",
       "      <td>False</td>\n",
       "      <td>NaN</td>\n",
       "      <td>0</td>\n",
       "      <td>False</td>\n",
       "      <td>If you could create a new MRE based on a Fast ...</td>\n",
       "      <td>[]</td>\n",
       "      <td>...</td>\n",
       "      <td>NaN</td>\n",
       "      <td>NaN</td>\n",
       "      <td>NaN</td>\n",
       "      <td>NaN</td>\n",
       "      <td>NaN</td>\n",
       "      <td>NaN</td>\n",
       "      <td>NaN</td>\n",
       "      <td>NaN</td>\n",
       "      <td>NaN</td>\n",
       "      <td>NaN</td>\n",
       "    </tr>\n",
       "    <tr>\n",
       "      <th>1</th>\n",
       "      <td>NaN</td>\n",
       "      <td>Army</td>\n",
       "      <td>BLUF: how do you overcome imposter syndrome?\\n...</td>\n",
       "      <td>t2_9mqncmmb</td>\n",
       "      <td>False</td>\n",
       "      <td>NaN</td>\n",
       "      <td>0</td>\n",
       "      <td>False</td>\n",
       "      <td>how do you even Army?</td>\n",
       "      <td>[]</td>\n",
       "      <td>...</td>\n",
       "      <td>NaN</td>\n",
       "      <td>NaN</td>\n",
       "      <td>NaN</td>\n",
       "      <td>NaN</td>\n",
       "      <td>NaN</td>\n",
       "      <td>NaN</td>\n",
       "      <td>NaN</td>\n",
       "      <td>NaN</td>\n",
       "      <td>NaN</td>\n",
       "      <td>NaN</td>\n",
       "    </tr>\n",
       "    <tr>\n",
       "      <th>2</th>\n",
       "      <td>NaN</td>\n",
       "      <td>Army</td>\n",
       "      <td>Long story short, my estranged (soon to be ex)...</td>\n",
       "      <td>t2_ag69n7u7</td>\n",
       "      <td>False</td>\n",
       "      <td>NaN</td>\n",
       "      <td>0</td>\n",
       "      <td>False</td>\n",
       "      <td>Command Directed No-Contact Order?</td>\n",
       "      <td>[]</td>\n",
       "      <td>...</td>\n",
       "      <td>NaN</td>\n",
       "      <td>NaN</td>\n",
       "      <td>NaN</td>\n",
       "      <td>NaN</td>\n",
       "      <td>NaN</td>\n",
       "      <td>NaN</td>\n",
       "      <td>NaN</td>\n",
       "      <td>NaN</td>\n",
       "      <td>NaN</td>\n",
       "      <td>NaN</td>\n",
       "    </tr>\n",
       "    <tr>\n",
       "      <th>3</th>\n",
       "      <td>NaN</td>\n",
       "      <td>Army</td>\n",
       "      <td>\\nMy husband is 35T, and just graduated AIT. W...</td>\n",
       "      <td>t2_lb56g2zm</td>\n",
       "      <td>False</td>\n",
       "      <td>NaN</td>\n",
       "      <td>0</td>\n",
       "      <td>False</td>\n",
       "      <td>Anyone 35T?</td>\n",
       "      <td>[]</td>\n",
       "      <td>...</td>\n",
       "      <td>NaN</td>\n",
       "      <td>NaN</td>\n",
       "      <td>NaN</td>\n",
       "      <td>NaN</td>\n",
       "      <td>NaN</td>\n",
       "      <td>NaN</td>\n",
       "      <td>NaN</td>\n",
       "      <td>NaN</td>\n",
       "      <td>NaN</td>\n",
       "      <td>NaN</td>\n",
       "    </tr>\n",
       "    <tr>\n",
       "      <th>4</th>\n",
       "      <td>NaN</td>\n",
       "      <td>Army</td>\n",
       "      <td>I could use some advice on going recruiting. I...</td>\n",
       "      <td>t2_i4rellgt</td>\n",
       "      <td>False</td>\n",
       "      <td>NaN</td>\n",
       "      <td>0</td>\n",
       "      <td>False</td>\n",
       "      <td>Thinking of going recruiter as brand new E5</td>\n",
       "      <td>[]</td>\n",
       "      <td>...</td>\n",
       "      <td>NaN</td>\n",
       "      <td>NaN</td>\n",
       "      <td>NaN</td>\n",
       "      <td>NaN</td>\n",
       "      <td>NaN</td>\n",
       "      <td>NaN</td>\n",
       "      <td>NaN</td>\n",
       "      <td>NaN</td>\n",
       "      <td>NaN</td>\n",
       "      <td>NaN</td>\n",
       "    </tr>\n",
       "  </tbody>\n",
       "</table>\n",
       "<p>5 rows × 118 columns</p>\n",
       "</div>"
      ],
      "text/plain": [
       "   approved_at_utc subreddit  \\\n",
       "0              NaN      Army   \n",
       "1              NaN      Army   \n",
       "2              NaN      Army   \n",
       "3              NaN      Army   \n",
       "4              NaN      Army   \n",
       "\n",
       "                                            selftext author_fullname  saved  \\\n",
       "0  This was a convo I had with one of my buddies ...     t2_3vmh30ad  False   \n",
       "1  BLUF: how do you overcome imposter syndrome?\\n...     t2_9mqncmmb  False   \n",
       "2  Long story short, my estranged (soon to be ex)...     t2_ag69n7u7  False   \n",
       "3  \\nMy husband is 35T, and just graduated AIT. W...     t2_lb56g2zm  False   \n",
       "4  I could use some advice on going recruiting. I...     t2_i4rellgt  False   \n",
       "\n",
       "   mod_reason_title  gilded  clicked  \\\n",
       "0               NaN       0    False   \n",
       "1               NaN       0    False   \n",
       "2               NaN       0    False   \n",
       "3               NaN       0    False   \n",
       "4               NaN       0    False   \n",
       "\n",
       "                                               title link_flair_richtext  ...  \\\n",
       "0  If you could create a new MRE based on a Fast ...                  []  ...   \n",
       "1                              how do you even Army?                  []  ...   \n",
       "2                 Command Directed No-Contact Order?                  []  ...   \n",
       "3                                        Anyone 35T?                  []  ...   \n",
       "4        Thinking of going recruiter as brand new E5                  []  ...   \n",
       "\n",
       "  preview  is_gallery  media_metadata gallery_data  author_cakeday  \\\n",
       "0     NaN         NaN             NaN          NaN             NaN   \n",
       "1     NaN         NaN             NaN          NaN             NaN   \n",
       "2     NaN         NaN             NaN          NaN             NaN   \n",
       "3     NaN         NaN             NaN          NaN             NaN   \n",
       "4     NaN         NaN             NaN          NaN             NaN   \n",
       "\n",
       "   link_flair_template_id  poll_data  crosspost_parent_list crosspost_parent  \\\n",
       "0                     NaN        NaN                    NaN              NaN   \n",
       "1                     NaN        NaN                    NaN              NaN   \n",
       "2                     NaN        NaN                    NaN              NaN   \n",
       "3                     NaN        NaN                    NaN              NaN   \n",
       "4                     NaN        NaN                    NaN              NaN   \n",
       "\n",
       "   collections  \n",
       "0          NaN  \n",
       "1          NaN  \n",
       "2          NaN  \n",
       "3          NaN  \n",
       "4          NaN  \n",
       "\n",
       "[5 rows x 118 columns]"
      ]
     },
     "execution_count": 2,
     "metadata": {},
     "output_type": "execute_result"
    }
   ],
   "source": [
    "## Load data\n",
    "agg_df = pd.read_csv('../2_EDA/data/00_master.csv')\n",
    "\n",
    "print(agg_df.shape)\n",
    "agg_df.head()"
   ]
  },
  {
   "cell_type": "markdown",
   "metadata": {},
   "source": [
    "## Data Statistics"
   ]
  },
  {
   "cell_type": "code",
   "execution_count": 3,
   "metadata": {},
   "outputs": [
    {
     "data": {
      "text/plain": [
       "Index(['approved_at_utc', 'subreddit', 'selftext', 'author_fullname', 'saved',\n",
       "       'mod_reason_title', 'gilded', 'clicked', 'title', 'link_flair_richtext',\n",
       "       ...\n",
       "       'preview', 'is_gallery', 'media_metadata', 'gallery_data',\n",
       "       'author_cakeday', 'link_flair_template_id', 'poll_data',\n",
       "       'crosspost_parent_list', 'crosspost_parent', 'collections'],\n",
       "      dtype='object', length=118)"
      ]
     },
     "execution_count": 3,
     "metadata": {},
     "output_type": "execute_result"
    }
   ],
   "source": [
    "agg_df.columns"
   ]
  },
  {
   "cell_type": "code",
   "execution_count": 4,
   "metadata": {},
   "outputs": [
    {
     "name": "stdout",
     "output_type": "stream",
     "text": [
      "<class 'pandas.core.frame.DataFrame'>\n",
      "RangeIndex: 9219 entries, 0 to 9218\n",
      "Columns: 118 entries, approved_at_utc to collections\n",
      "dtypes: bool(28), float64(25), int64(8), object(57)\n",
      "memory usage: 6.6+ MB\n"
     ]
    }
   ],
   "source": [
    "agg_df.info()"
   ]
  },
  {
   "cell_type": "code",
   "execution_count": 5,
   "metadata": {},
   "outputs": [
    {
     "data": {
      "text/plain": [
       "approved_at_utc           float64\n",
       "subreddit                  object\n",
       "selftext                   object\n",
       "author_fullname            object\n",
       "saved                        bool\n",
       "                           ...   \n",
       "link_flair_template_id     object\n",
       "poll_data                  object\n",
       "crosspost_parent_list      object\n",
       "crosspost_parent           object\n",
       "collections                object\n",
       "Length: 118, dtype: object"
      ]
     },
     "execution_count": 5,
     "metadata": {},
     "output_type": "execute_result"
    }
   ],
   "source": [
    "agg_df.dtypes"
   ]
  },
  {
   "cell_type": "markdown",
   "metadata": {},
   "source": [
    "## Feature Selection"
   ]
  },
  {
   "cell_type": "markdown",
   "metadata": {},
   "source": [
    "### Dropped Columns"
   ]
  },
  {
   "cell_type": "code",
   "execution_count": 6,
   "metadata": {},
   "outputs": [],
   "source": [
    "# Drop columns: 'thumbnail_width', 'media_embed' and 74 other columns\n",
    "agg_df = agg_df.drop(columns=['thumbnail_width', 'media_embed', 'author_flair_template_id', 'is_original_content', 'user_reports', 'secure_media', 'is_reddit_media_domain', 'is_meta', 'category', 'secure_media_embed', 'link_flair_text', 'can_mod_post', 'approved_by', 'is_created_from_ads_ui', 'author_premium', 'gildings', 'content_categories', 'mod_note', 'wls', 'removed_by_category', 'banned_by', 'link_flair_type', 'allow_live_comments', 'selftext_html', 'likes', 'suggested_sort', 'banned_at_utc', 'view_count', 'archived', 'is_crosspostable', 'pinned', 'all_awardings', 'awarders', 'media_only', 'can_gild', 'spoiler', 'treatment_tags', 'visited', 'removed_by', 'num_reports', 'distinguished', 'subreddit_id', 'author_is_blocked', 'mod_reason_by', 'removal_reason', 'link_flair_background_color', 'id', 'is_robot_indexable', 'report_reasons', 'discussion_type', 'send_replies', 'whitelist_status', 'contest_mode', 'mod_reports', 'author_patreon_flair', 'author_flair_text_color', 'permalink', 'parent_whitelist_status', 'stickied', 'url', 'subreddit_subscribers', 'created_utc', 'num_crossposts', 'media', 'post_hint', 'url_overridden_by_dest', 'preview', 'is_gallery', 'media_metadata', 'gallery_data', 'author_cakeday', 'link_flair_template_id', 'poll_data', 'crosspost_parent_list', 'crosspost_parent', 'collections', 'approved_at_utc', 'saved', 'mod_reason_title', 'gilded', 'clicked', 'hidden', 'pwls', 'link_flair_css_class', 'downs', 'thumbnail_height', 'top_awarded_type', 'hide_score', 'name', 'quarantine', 'link_flair_text_color', 'author_flair_background_color', 'subreddit_type', 'total_awards_received'])"
   ]
  },
  {
   "cell_type": "code",
   "execution_count": 7,
   "metadata": {},
   "outputs": [
    {
     "data": {
      "text/plain": [
       "author_flair_css_class     8764\n",
       "author_flair_text          6936\n",
       "thumbnail                  2304\n",
       "selftext                   1322\n",
       "author_flair_richtext        36\n",
       "author_fullname              36\n",
       "author_flair_type            36\n",
       "created                       0\n",
       "num_comments                  0\n",
       "author                        0\n",
       "locked                        0\n",
       "over_18                       0\n",
       "no_follow                     0\n",
       "domain                        0\n",
       "subreddit                     0\n",
       "is_self                       0\n",
       "edited                        0\n",
       "score                         0\n",
       "ups                           0\n",
       "upvote_ratio                  0\n",
       "subreddit_name_prefixed       0\n",
       "link_flair_richtext           0\n",
       "title                         0\n",
       "is_video                      0\n",
       "dtype: int64"
      ]
     },
     "execution_count": 7,
     "metadata": {},
     "output_type": "execute_result"
    }
   ],
   "source": [
    "agg_df.isnull().sum().sort_values(ascending=False)\n"
   ]
  },
  {
   "cell_type": "markdown",
   "metadata": {},
   "source": [
    "### Author Flair CSS Class"
   ]
  },
  {
   "cell_type": "code",
   "execution_count": 8,
   "metadata": {},
   "outputs": [
    {
     "data": {
      "text/plain": [
       "author_flair_css_class\n",
       "visitor                    1\n",
       "drillsergeant              1\n",
       "spc                        1\n",
       "recruiter                  1\n",
       "none                       1\n",
       "logisticsbranch            2\n",
       "electronicwarfare          2\n",
       "jag                        2\n",
       "chemical                   2\n",
       "camper                     2\n",
       "darkgoldenrod              3\n",
       "Chaplain                   3\n",
       "AquisitionCorps            3\n",
       "medicalservice             3\n",
       "civilaffairs               4\n",
       "psycologicaloperations     6\n",
       "publicaffairs              6\n",
       "Cyber                      7\n",
       "a                          7\n",
       "cavalry                    8\n",
       "airdefenseartillery        9\n",
       "armor                     10\n",
       "militarypolice            10\n",
       "medicalspecialist         11\n",
       "fieldartillery            12\n",
       "transportation            13\n",
       "adjutantgeneral           13\n",
       "quartermaster             16\n",
       "medical                   20\n",
       "engineer                  21\n",
       "ordnance                  27\n",
       "aviation                  31\n",
       "militaryintelligence      42\n",
       "signal                    43\n",
       "infantry                  55\n",
       "blank                     57\n",
       "Name: count, dtype: int64"
      ]
     },
     "execution_count": 8,
     "metadata": {},
     "output_type": "execute_result"
    }
   ],
   "source": [
    "#Replace null values with 'blank' in 'author_flair_css_class'\n",
    "agg_df['author_flair_css_class'].value_counts(ascending=True)\n"
   ]
  },
  {
   "cell_type": "markdown",
   "metadata": {},
   "source": [
    "### Author flair text"
   ]
  },
  {
   "cell_type": "code",
   "execution_count": 9,
   "metadata": {},
   "outputs": [],
   "source": [
    "agg_df['author_flair_text'].value_counts()\n",
    "agg_df.drop(columns=['author_flair_text'], inplace=True)"
   ]
  },
  {
   "cell_type": "markdown",
   "metadata": {},
   "source": [
    "### Thumbnail"
   ]
  },
  {
   "cell_type": "code",
   "execution_count": 10,
   "metadata": {},
   "outputs": [],
   "source": [
    "agg_df['thumbnail'].value_counts()\n",
    "agg_df.drop(columns=['thumbnail'], inplace=True)"
   ]
  },
  {
   "cell_type": "markdown",
   "metadata": {},
   "source": [
    "### Self Text"
   ]
  },
  {
   "cell_type": "code",
   "execution_count": 11,
   "metadata": {},
   "outputs": [
    {
     "data": {
      "text/plain": [
       "selftext\n",
       "SGT Plank had his neck snapped whilst standing duty. Doc did the best he could to provide medical aid, SGT Plank is probably disabled.                                                                                                                                                                                                                                                                                                                                                                                                                                                                                                                                                                                                                                                                                                                                                                                                                                                                                                                                                                                                                                                                                                                                                                                                                                                                                                                                                                                                                                                                                                                                                                                                                                                                                                                                                                                                                                                                                                                                                                                                                                                                                                                                                                                                                                                                                                                                                                                                                                                                                                                       9\n",
       "So when fresh faced idiot babies (2nd Lts) go through the Basic School there is a peer evaluation process that encourages back stabbing and other such nonsense. Part of it is a list of attributes and one-word descriptors you have to assign to everyone in your platoon. I actively campaigned to get the “springbutt” moniker. I was proud of 85% of the platoon ranking that as the first thing they thought of when looking at me. \\n\\nAnyway, I’m trying to find that form, anyone have a copy?                                                                                                                                                                                                                                                                                                                                                                                                                                                                                                                                                                                                                                                                                                                                                                                                                                                                                                                                                                                                                                                                                                                                                                                                                                                                                                                                                                                                                                                                                                                                                                                                                                                                                                                                                                                                                                                                                                                                                                                                                                                                                                                                                      9\n",
       "Has anyone done an At Home Sleep Study then got told they didn’t have anything and got tested in person and needed up having it? I just know for a fact I got it because I wake up the whole house. Thank you.                                                                                                                                                                                                                                                                                                                                                                                                                                                                                                                                                                                                                                                                                                                                                                                                                                                                                                                                                                                                                                                                                                                                                                                                                                                                                                                                                                                                                                                                                                                                                                                                                                                                                                                                                                                                                                                                                                                                                                                                                                                                                                                                                                                                                                                                                                                                                                                                                                               8\n",
       "Its not POG (persons other than grunts).  Its Pogue, as in \"pogey bait.\"   Pogey is WWII slang for a homosexual.   Most of you have probably read the book *Battle Cry*.   The unit described therein is the \"Pogey bait 6th\" of Belleau Wood fame.    Pogey bait is candy, the candy being the bait, so to speak.\\n\\nGranted, I'm fighting a losing battle.  Even the Washington Post's Military reporters use the term POG.  But still, I'm willing to absolutely die on this hill.   \\n\\nThoughts?  Any amateur (or professional) historians care to weigh in? \\n\\nEdited to clarify that a Pogue is a Pogue, but “pogey bait” is candy                                                                                                                                                                                                                                                                                                                                                                                                                                                                                                                                                                                                                                                                                                                                                                                                                                                                                                                                                                                                                                                                                                                                                                                                                                                                                                                                                                                                                                                                                                                                                                                                                                                                                                                                                                                                                                                                                                                                                                                                                   8\n",
       "When I came through bootcamp in the summer of 2000 there was a drill instructor SSgt Patton, I believe,  but it could've been Sgt Patton, that was the Receiving D.I. I noted then that he looked like Big Boi and they shared the same last name (Big Boi's real name is Antwan Patton). Then I seen this post and it looks jist like the DI, he was just stockier. I doubt he was old enough to be Big Boi's father,  but I was wondering if he was another relative of Big Boi  as Marines often keep it in the family.                                                                                                                                                                                                                                                                                                                                                                                                                                                                                                                                                                                                                                                                                                                                                                                                                                                                                                                                                                                                                                                                                                                                                                                                                                                                                                                                                                                                                                                                                                                                                                                                                                                                                                                                                                                                                                                                                                                                                                                                                                                                                                                                   8\n",
       "                                                                                                                                                                                                                                                                                                                                                                                                                                                                                                                                                                                                                                                                                                                                                                                                                                                                                                                                                                                                                                                                                                                                                                                                                                                                                                                                                                                                                                                                                                                                                                                                                                                                                                                                                                                                                                                                                                                                                                                                                                                                                                                                                                                                                                                                                                                                                                                                                                                                                                                                                                                                                                                            ..\n",
       "Anyone have experience with an Soldier Recovery Unit? How does it work? Is leadership going to make you do shit or just check up on you while you do surgery and recover? Will I PCS from oconus or just go TDY? TIA                                                                                                                                                                                                                                                                                                                                                                                                                                                                                                                                                                                                                                                                                                                                                                                                                                                                                                                                                                                                                                                                                                                                                                                                                                                                                                                                                                                                                                                                                                                                                                                                                                                                                                                                                                                                                                                                                                                                                                                                                                                                                                                                                                                                                                                                                                                                                                                                                                         1\n",
       "Hi all!\\n\\nHave some questions that l'd like to get honest answers from the community on. \\n\\nBackground on me: early thirties, no military history, BS in Physics (3+ GPA), MA in Game Design, work experience mostly in marketing.\\n\\nLooking for a life change and have interest in the [Space Officer](https://talent.army.mil/job/space-officer/) role with a direct commission.\\n\\nWould love if anyone has insight to these initial questions:\\n\\n• what are they really looking for in candidates?\\n• what is day to day of the role?\\n• what duty stations are available?\\n• do you ever go outside continental US for training?\\n• chance of ever getting forward deployed?\\n• does the role take you to combat zones?\\n• what would rank be with direct commission?\\n• any insight on signing bonus?\\n\\nThanks in advance for any answers or insight.                                                                                                                                                                                                                                                                                                                                                                                                                                                                                                                                                                                                                                                                                                                                                                                                                                                                                                                                                                                                                                                                                                                                                                                                                                                                                                                                                                                                                                                                                                                                                                                                                                                                                                                                                                                             1\n",
       "You are offered a chance to change MOS. From 9 to 5, you use VR to step into other soldiers bodies, and control them. Your only goal is to make them pass their PT test, and once they pass, you are assigned a new PT failure to train.\\n\\n* You feel everything they feel (All the pain!), but in real life, you're just sitting in a chair and wiggling around. So in real life, you're burning as much calories as the average gamer, regardless of how out of breath you feel in VR.\\n* You have a supervisor that watches your VR stream to ensure that you're working the soldier out and not shamming/sharping yourself. You or the soldier can still go to the bathroom privately; if you feel the soldier's urge to tinkle, you simply swap out. The PT Failure's eyes glow green, so everyone knows you're controlling them.\\n* You do your job at home, virtually. The only thing you pmcs is your headset. There is no other equipment, no uniform, no place of duty, no soldiers under you.\\n* You are still a soldier, so you still have the most basic responsibilities: Morning PT, medpros, certs, PCS to new units even, but as soon as you get home to do VR, you generally stay home; no COF.\\n* There is no end of failures to train. You're not expected to be a miracle worker, as you find out that some PT failures are truly hopeless. You also have to do PT tests for these soldiers about twice a week.\\n* You get lunch from 1130 to 1300.\\n* You still deploy, but you basically just wiggle for other people in other countries.\\n* You can rank up just like you normally would.\\n\\nSo yeah, I know this soldier that \\*loves\\* working out, so much to the point that I wondered if he'd exercise even if he didn't see the benefits from working out. I know most of you are going to say no to this offer, but I am wondering if some would say yes, maybe to get out of whatever MOS you're in now. Anyways, would you take the MOS?                                                                                                                                                                                                                                                                                                                                                                                                                                                                                                                                                                                                                                                                                   1\n",
       "I am not sure what to do, I am a new POG officer at an Airborne unit but not Airborne. Had a series of panic attacks and suicidal thoughts following first jump at the school, saw behavior health. Departed for my unit and now they are trying to send me again. It is making me have those same thoughts again. \\n\\nI am so panicked on what to do, unit is super busy and I fear they might not help me. I would like to be moved to a non-Airborne unit but fear retaliation and don’t know if it’s even possible. Looking for any help. Going to call BH.                                                                                                                                                                                                                                                                                                                                                                                                                                                                                                                                                                                                                                                                                                                                                                                                                                                                                                                                                                                                                                                                                                                                                                                                                                                                                                                                                                                                                                                                                                                                                                                                                                                                                                                                                                                                                                                                                                                                                                                                                                                                                              1\n",
       "I was diagnosed this week with unspecified bipolar. I’ve already asked 2 questions on here because I’m so genuinely confused. I don’t fully understand how I’m bipolar, idk if I’ve had a hypomanic episode before. I’ve showed multiple people that are close to me DIGFAST and they’ve said that, yes, I have shown signs like those listed in DIGFAST before. I can’t remember. And the past 3 maybe 4 days I’ve felt okay. I started Lamotrigine 2 days ago. But I’ve gone on a research rabbit hole about bipolar, signs of hypomania, how to identify it, and any other possible question you could ask about it. I’m obsessed. Then tonight at work when I come in at 5pm, I’m chatty, bubbly, fun to talk to, and my mind feels like it’s racing. As the night progresses, my happiness turns into stress and anxiousness. Mind is racing at a mile a second. I’m googling ever question I can think of on my break and at one point I just have so many questions in my head idk what to type and I just lay it down on the table. At this point I’m stressed and freaking out kinda. Then I get back from break and continue my shift. By the end of the shift I’m quiet, reserved, and even teary-eyed. I’m fully depressed now. I’m having suicidal thoughts and all. But none of this makes any sense because hypomania is 4+ days? So how did my mood shift so quick? What’s wrong with me??\\n\\nWhen I think about past symptoms of hypomania, I do have some. I’ve been known to be irritable, I get really into stuff for awhile then drop it out of nowhere (was getting deep into religion last month then dropped it out of nowhere, but it was all I could talk about for like a month), I get on these internet rabbit holes where I find a topic and I have to know everything about it or one time I sat and made music for 7 hours straight uninterrupted, I get distracted easily, I experience hypersexuality where I just get horny and have fantasies for nearly the whole day, I stay up until I’m exhausted and can barely keep my eyes open even if I have class in the morning, I’ve always been told I’m annoying because I talk so much, my mind races and I get tinnitus, I pace around my room back and forth for no reason, etc. But I also know sometimes during these symptoms I can also get depressed and suicidal. \\n\\nI just don’t know what to think. Is what I just described hypomania?? I need a friend who is well versed in this subject. My mom was bipolar 2 but she’s been dead since 2016 and I can’t confide in her. I feel so messed up. Idk what to do. This is all so confusing and frustrating.    1\n",
       "Name: count, Length: 3734, dtype: int64"
      ]
     },
     "execution_count": 11,
     "metadata": {},
     "output_type": "execute_result"
    }
   ],
   "source": [
    "agg_df['selftext'].value_counts()"
   ]
  },
  {
   "cell_type": "markdown",
   "metadata": {},
   "source": [
    "### Author Flair richtext"
   ]
  },
  {
   "cell_type": "code",
   "execution_count": 12,
   "metadata": {},
   "outputs": [],
   "source": [
    "agg_df['author_flair_richtext'].value_counts()\n",
    "agg_df.drop(columns=['author_flair_richtext'], inplace=True)"
   ]
  },
  {
   "cell_type": "markdown",
   "metadata": {},
   "source": [
    "### Author Full Name"
   ]
  },
  {
   "cell_type": "code",
   "execution_count": 13,
   "metadata": {},
   "outputs": [],
   "source": [
    "agg_df['author_fullname'].value_counts()\n",
    "agg_df.drop(columns=['author_fullname'], inplace=True)"
   ]
  },
  {
   "cell_type": "markdown",
   "metadata": {},
   "source": [
    "### Author Flair Type"
   ]
  },
  {
   "cell_type": "code",
   "execution_count": 14,
   "metadata": {},
   "outputs": [
    {
     "data": {
      "text/plain": [
       "author_flair_type\n",
       "text        8272\n",
       "richtext     911\n",
       "Name: count, dtype: int64"
      ]
     },
     "execution_count": 14,
     "metadata": {},
     "output_type": "execute_result"
    }
   ],
   "source": [
    "agg_df['author_flair_type'].value_counts()\n"
   ]
  },
  {
   "cell_type": "markdown",
   "metadata": {},
   "source": [
    "### Original Columns"
   ]
  },
  {
   "cell_type": "code",
   "execution_count": 15,
   "metadata": {},
   "outputs": [
    {
     "name": "stdout",
     "output_type": "stream",
     "text": [
      "(9219, 20)\n"
     ]
    },
    {
     "data": {
      "text/plain": [
       "subreddit                   object\n",
       "selftext                    object\n",
       "title                       object\n",
       "link_flair_richtext         object\n",
       "subreddit_name_prefixed     object\n",
       "upvote_ratio               float64\n",
       "ups                          int64\n",
       "score                        int64\n",
       "edited                      object\n",
       "author_flair_css_class      object\n",
       "is_self                       bool\n",
       "created                    float64\n",
       "author_flair_type           object\n",
       "domain                      object\n",
       "no_follow                     bool\n",
       "over_18                       bool\n",
       "locked                        bool\n",
       "author                      object\n",
       "num_comments                 int64\n",
       "is_video                      bool\n",
       "dtype: object"
      ]
     },
     "execution_count": 15,
     "metadata": {},
     "output_type": "execute_result"
    }
   ],
   "source": [
    "print(agg_df.shape)\n",
    "agg_df.dtypes"
   ]
  },
  {
   "cell_type": "markdown",
   "metadata": {},
   "source": [
    "## Imputing missing Values"
   ]
  },
  {
   "cell_type": "markdown",
   "metadata": {},
   "source": [
    "### Author Flair CSS Class"
   ]
  },
  {
   "cell_type": "code",
   "execution_count": 16,
   "metadata": {},
   "outputs": [
    {
     "name": "stdout",
     "output_type": "stream",
     "text": [
      "Author Flair CSS Class Null is: 0\n"
     ]
    }
   ],
   "source": [
    "agg_df['author_flair_css_class'].fillna('blank', inplace=True)\n",
    "agg_df['author_flair_css_class'].value_counts()\n",
    "print(f'Author Flair CSS Class Null is: {agg_df[\"author_flair_css_class\"].isnull().sum()}')"
   ]
  },
  {
   "cell_type": "markdown",
   "metadata": {},
   "source": [
    "### Author Flair Type"
   ]
  },
  {
   "cell_type": "code",
   "execution_count": 17,
   "metadata": {},
   "outputs": [
    {
     "name": "stdout",
     "output_type": "stream",
     "text": [
      "Author Flair Type Null is: 0\n"
     ]
    }
   ],
   "source": [
    "agg_df['author_flair_type'].fillna('unknown', inplace=True)\n",
    "agg_df['author_flair_type'].value_counts()\n",
    "print(f'Author Flair Type Null is: {agg_df[\"author_flair_type\"].isnull().sum()}')"
   ]
  },
  {
   "cell_type": "markdown",
   "metadata": {},
   "source": [
    "### Self Text"
   ]
  },
  {
   "cell_type": "code",
   "execution_count": 18,
   "metadata": {},
   "outputs": [
    {
     "name": "stdout",
     "output_type": "stream",
     "text": [
      "Self Text Null is: 0\n"
     ]
    }
   ],
   "source": [
    "agg_df['selftext'].fillna('title_only', inplace=True)\n",
    "agg_df['selftext'].value_counts()\n",
    "print(f'Self Text Null is: {agg_df[\"selftext\"].isnull().sum()}')"
   ]
  },
  {
   "cell_type": "markdown",
   "metadata": {},
   "source": [
    "### Values Count"
   ]
  },
  {
   "cell_type": "code",
   "execution_count": 19,
   "metadata": {},
   "outputs": [
    {
     "data": {
      "text/plain": [
       "subreddit                  0\n",
       "selftext                   0\n",
       "num_comments               0\n",
       "author                     0\n",
       "locked                     0\n",
       "over_18                    0\n",
       "no_follow                  0\n",
       "domain                     0\n",
       "author_flair_type          0\n",
       "created                    0\n",
       "is_self                    0\n",
       "author_flair_css_class     0\n",
       "edited                     0\n",
       "score                      0\n",
       "ups                        0\n",
       "upvote_ratio               0\n",
       "subreddit_name_prefixed    0\n",
       "link_flair_richtext        0\n",
       "title                      0\n",
       "is_video                   0\n",
       "dtype: int64"
      ]
     },
     "execution_count": 19,
     "metadata": {},
     "output_type": "execute_result"
    }
   ],
   "source": [
    "agg_df.isnull().sum().sort_values(ascending=False)"
   ]
  },
  {
   "cell_type": "markdown",
   "metadata": {},
   "source": [
    "## Removing Duplicates"
   ]
  },
  {
   "cell_type": "code",
   "execution_count": 20,
   "metadata": {},
   "outputs": [
    {
     "data": {
      "text/plain": [
       "5844"
      ]
     },
     "execution_count": 20,
     "metadata": {},
     "output_type": "execute_result"
    }
   ],
   "source": [
    "agg_df.duplicated(subset=['author']).sum()"
   ]
  },
  {
   "cell_type": "code",
   "execution_count": 21,
   "metadata": {},
   "outputs": [
    {
     "data": {
      "text/plain": [
       "5012"
      ]
     },
     "execution_count": 21,
     "metadata": {},
     "output_type": "execute_result"
    }
   ],
   "source": [
    "agg_df.duplicated(subset=['title']).sum()"
   ]
  },
  {
   "cell_type": "code",
   "execution_count": 22,
   "metadata": {},
   "outputs": [
    {
     "data": {
      "text/plain": [
       "5484"
      ]
     },
     "execution_count": 22,
     "metadata": {},
     "output_type": "execute_result"
    }
   ],
   "source": [
    "agg_df.duplicated(subset=['selftext']).sum()"
   ]
  },
  {
   "cell_type": "code",
   "execution_count": 23,
   "metadata": {},
   "outputs": [
    {
     "data": {
      "text/plain": [
       "0"
      ]
     },
     "execution_count": 23,
     "metadata": {},
     "output_type": "execute_result"
    }
   ],
   "source": [
    "agg_df.drop_duplicates(subset=['selftext'], inplace=True)\n",
    "\n",
    "agg_df.duplicated(subset=['selftext']).sum()"
   ]
  },
  {
   "cell_type": "code",
   "execution_count": 24,
   "metadata": {},
   "outputs": [
    {
     "data": {
      "text/plain": [
       "(3735, 20)"
      ]
     },
     "execution_count": 24,
     "metadata": {},
     "output_type": "execute_result"
    }
   ],
   "source": [
    "agg_df.shape"
   ]
  },
  {
   "cell_type": "code",
   "execution_count": 25,
   "metadata": {},
   "outputs": [
    {
     "data": {
      "text/plain": [
       "subreddit                  0\n",
       "selftext                   0\n",
       "num_comments               0\n",
       "author                     0\n",
       "locked                     0\n",
       "over_18                    0\n",
       "no_follow                  0\n",
       "domain                     0\n",
       "author_flair_type          0\n",
       "created                    0\n",
       "is_self                    0\n",
       "author_flair_css_class     0\n",
       "edited                     0\n",
       "score                      0\n",
       "ups                        0\n",
       "upvote_ratio               0\n",
       "subreddit_name_prefixed    0\n",
       "link_flair_richtext        0\n",
       "title                      0\n",
       "is_video                   0\n",
       "dtype: int64"
      ]
     },
     "execution_count": 25,
     "metadata": {},
     "output_type": "execute_result"
    }
   ],
   "source": [
    "agg_df.isnull().sum().sort_values(ascending=False)"
   ]
  },
  {
   "cell_type": "markdown",
   "metadata": {},
   "source": [
    "## Normalizing and Encoding"
   ]
  },
  {
   "cell_type": "code",
   "execution_count": 26,
   "metadata": {},
   "outputs": [
    {
     "data": {
      "text/plain": [
       "subreddit                   object\n",
       "selftext                    object\n",
       "title                       object\n",
       "link_flair_richtext         object\n",
       "subreddit_name_prefixed     object\n",
       "upvote_ratio               float64\n",
       "ups                          int64\n",
       "score                        int64\n",
       "edited                      object\n",
       "author_flair_css_class      object\n",
       "is_self                       bool\n",
       "created                    float64\n",
       "author_flair_type           object\n",
       "domain                      object\n",
       "no_follow                     bool\n",
       "over_18                       bool\n",
       "locked                        bool\n",
       "author                      object\n",
       "num_comments                 int64\n",
       "is_video                      bool\n",
       "dtype: object"
      ]
     },
     "execution_count": 26,
     "metadata": {},
     "output_type": "execute_result"
    }
   ],
   "source": [
    "agg_df.dtypes"
   ]
  },
  {
   "cell_type": "code",
   "execution_count": 27,
   "metadata": {},
   "outputs": [
    {
     "data": {
      "text/html": [
       "<div>\n",
       "<style scoped>\n",
       "    .dataframe tbody tr th:only-of-type {\n",
       "        vertical-align: middle;\n",
       "    }\n",
       "\n",
       "    .dataframe tbody tr th {\n",
       "        vertical-align: top;\n",
       "    }\n",
       "\n",
       "    .dataframe thead th {\n",
       "        text-align: right;\n",
       "    }\n",
       "</style>\n",
       "<table border=\"1\" class=\"dataframe\">\n",
       "  <thead>\n",
       "    <tr style=\"text-align: right;\">\n",
       "      <th></th>\n",
       "      <th>subreddit</th>\n",
       "      <th>selftext</th>\n",
       "      <th>title</th>\n",
       "      <th>link_flair_richtext</th>\n",
       "      <th>subreddit_name_prefixed</th>\n",
       "      <th>upvote_ratio</th>\n",
       "      <th>ups</th>\n",
       "      <th>score</th>\n",
       "      <th>edited</th>\n",
       "      <th>author_flair_css_class</th>\n",
       "      <th>is_self</th>\n",
       "      <th>created</th>\n",
       "      <th>author_flair_type</th>\n",
       "      <th>domain</th>\n",
       "      <th>no_follow</th>\n",
       "      <th>over_18</th>\n",
       "      <th>locked</th>\n",
       "      <th>author</th>\n",
       "      <th>num_comments</th>\n",
       "      <th>is_video</th>\n",
       "    </tr>\n",
       "  </thead>\n",
       "  <tbody>\n",
       "    <tr>\n",
       "      <th>0</th>\n",
       "      <td>Army</td>\n",
       "      <td>This was a convo I had with one of my buddies ...</td>\n",
       "      <td>If you could create a new MRE based on a Fast ...</td>\n",
       "      <td>[]</td>\n",
       "      <td>r/army</td>\n",
       "      <td>1.00</td>\n",
       "      <td>3</td>\n",
       "      <td>3</td>\n",
       "      <td>False</td>\n",
       "      <td>blank</td>\n",
       "      <td>True</td>\n",
       "      <td>1.703376e+09</td>\n",
       "      <td>text</td>\n",
       "      <td>self.army</td>\n",
       "      <td>False</td>\n",
       "      <td>False</td>\n",
       "      <td>False</td>\n",
       "      <td>Mariostar16</td>\n",
       "      <td>3</td>\n",
       "      <td>False</td>\n",
       "    </tr>\n",
       "    <tr>\n",
       "      <th>1</th>\n",
       "      <td>Army</td>\n",
       "      <td>BLUF: how do you overcome imposter syndrome?\\n...</td>\n",
       "      <td>how do you even Army?</td>\n",
       "      <td>[]</td>\n",
       "      <td>r/army</td>\n",
       "      <td>0.57</td>\n",
       "      <td>1</td>\n",
       "      <td>1</td>\n",
       "      <td>False</td>\n",
       "      <td>airdefenseartillery</td>\n",
       "      <td>True</td>\n",
       "      <td>1.703375e+09</td>\n",
       "      <td>richtext</td>\n",
       "      <td>self.army</td>\n",
       "      <td>True</td>\n",
       "      <td>False</td>\n",
       "      <td>False</td>\n",
       "      <td>Ok-Philosopher5533</td>\n",
       "      <td>4</td>\n",
       "      <td>False</td>\n",
       "    </tr>\n",
       "    <tr>\n",
       "      <th>2</th>\n",
       "      <td>Army</td>\n",
       "      <td>Long story short, my estranged (soon to be ex)...</td>\n",
       "      <td>Command Directed No-Contact Order?</td>\n",
       "      <td>[]</td>\n",
       "      <td>r/army</td>\n",
       "      <td>1.00</td>\n",
       "      <td>2</td>\n",
       "      <td>2</td>\n",
       "      <td>False</td>\n",
       "      <td>blank</td>\n",
       "      <td>True</td>\n",
       "      <td>1.703373e+09</td>\n",
       "      <td>text</td>\n",
       "      <td>self.army</td>\n",
       "      <td>False</td>\n",
       "      <td>False</td>\n",
       "      <td>False</td>\n",
       "      <td>skywri8293</td>\n",
       "      <td>4</td>\n",
       "      <td>False</td>\n",
       "    </tr>\n",
       "    <tr>\n",
       "      <th>3</th>\n",
       "      <td>Army</td>\n",
       "      <td>\\nMy husband is 35T, and just graduated AIT. W...</td>\n",
       "      <td>Anyone 35T?</td>\n",
       "      <td>[]</td>\n",
       "      <td>r/army</td>\n",
       "      <td>0.84</td>\n",
       "      <td>4</td>\n",
       "      <td>4</td>\n",
       "      <td>False</td>\n",
       "      <td>blank</td>\n",
       "      <td>True</td>\n",
       "      <td>1.703372e+09</td>\n",
       "      <td>text</td>\n",
       "      <td>self.army</td>\n",
       "      <td>False</td>\n",
       "      <td>False</td>\n",
       "      <td>False</td>\n",
       "      <td>Deep-Ad1124</td>\n",
       "      <td>8</td>\n",
       "      <td>False</td>\n",
       "    </tr>\n",
       "    <tr>\n",
       "      <th>4</th>\n",
       "      <td>Army</td>\n",
       "      <td>I could use some advice on going recruiting. I...</td>\n",
       "      <td>Thinking of going recruiter as brand new E5</td>\n",
       "      <td>[]</td>\n",
       "      <td>r/army</td>\n",
       "      <td>1.00</td>\n",
       "      <td>2</td>\n",
       "      <td>2</td>\n",
       "      <td>False</td>\n",
       "      <td>blank</td>\n",
       "      <td>True</td>\n",
       "      <td>1.703371e+09</td>\n",
       "      <td>text</td>\n",
       "      <td>self.army</td>\n",
       "      <td>False</td>\n",
       "      <td>False</td>\n",
       "      <td>False</td>\n",
       "      <td>Classcelicos</td>\n",
       "      <td>6</td>\n",
       "      <td>False</td>\n",
       "    </tr>\n",
       "    <tr>\n",
       "      <th>5</th>\n",
       "      <td>Army</td>\n",
       "      <td>At my new duty station in Massachusetts and al...</td>\n",
       "      <td>Well everyone, I’m alone for the holidays and ...</td>\n",
       "      <td>[]</td>\n",
       "      <td>r/army</td>\n",
       "      <td>0.89</td>\n",
       "      <td>29</td>\n",
       "      <td>29</td>\n",
       "      <td>False</td>\n",
       "      <td>medical</td>\n",
       "      <td>True</td>\n",
       "      <td>1.703368e+09</td>\n",
       "      <td>richtext</td>\n",
       "      <td>self.army</td>\n",
       "      <td>False</td>\n",
       "      <td>False</td>\n",
       "      <td>False</td>\n",
       "      <td>BeanieWeenie-Burrito</td>\n",
       "      <td>24</td>\n",
       "      <td>False</td>\n",
       "    </tr>\n",
       "    <tr>\n",
       "      <th>6</th>\n",
       "      <td>Army</td>\n",
       "      <td>Does anyone have experience with submitting th...</td>\n",
       "      <td>DD Form 368 has started its way up. Looking fo...</td>\n",
       "      <td>[]</td>\n",
       "      <td>r/army</td>\n",
       "      <td>0.75</td>\n",
       "      <td>2</td>\n",
       "      <td>2</td>\n",
       "      <td>False</td>\n",
       "      <td>blank</td>\n",
       "      <td>True</td>\n",
       "      <td>1.703368e+09</td>\n",
       "      <td>text</td>\n",
       "      <td>self.army</td>\n",
       "      <td>False</td>\n",
       "      <td>False</td>\n",
       "      <td>False</td>\n",
       "      <td>Aggravating_Tart_299</td>\n",
       "      <td>7</td>\n",
       "      <td>False</td>\n",
       "    </tr>\n",
       "    <tr>\n",
       "      <th>7</th>\n",
       "      <td>Army</td>\n",
       "      <td>Also what does ‘Standard Excess’ refer to for ...</td>\n",
       "      <td>What does ‘Permanent Change of Station’ refer ...</td>\n",
       "      <td>[]</td>\n",
       "      <td>r/army</td>\n",
       "      <td>0.83</td>\n",
       "      <td>8</td>\n",
       "      <td>8</td>\n",
       "      <td>False</td>\n",
       "      <td>blank</td>\n",
       "      <td>True</td>\n",
       "      <td>1.703366e+09</td>\n",
       "      <td>text</td>\n",
       "      <td>self.army</td>\n",
       "      <td>False</td>\n",
       "      <td>False</td>\n",
       "      <td>False</td>\n",
       "      <td>Bambonoy</td>\n",
       "      <td>5</td>\n",
       "      <td>False</td>\n",
       "    </tr>\n",
       "    <tr>\n",
       "      <th>8</th>\n",
       "      <td>Army</td>\n",
       "      <td>Any tips or advice. I'm in osut about to turn ...</td>\n",
       "      <td>Advice for 17 year old</td>\n",
       "      <td>[]</td>\n",
       "      <td>r/army</td>\n",
       "      <td>0.76</td>\n",
       "      <td>8</td>\n",
       "      <td>8</td>\n",
       "      <td>1703369322.0</td>\n",
       "      <td>blank</td>\n",
       "      <td>True</td>\n",
       "      <td>1.703366e+09</td>\n",
       "      <td>text</td>\n",
       "      <td>self.army</td>\n",
       "      <td>False</td>\n",
       "      <td>False</td>\n",
       "      <td>False</td>\n",
       "      <td>churnedslinger</td>\n",
       "      <td>30</td>\n",
       "      <td>False</td>\n",
       "    </tr>\n",
       "    <tr>\n",
       "      <th>9</th>\n",
       "      <td>Army</td>\n",
       "      <td>Would anyone be able to describe the process o...</td>\n",
       "      <td>Space Force NCO to Army Warrant Officer</td>\n",
       "      <td>[]</td>\n",
       "      <td>r/army</td>\n",
       "      <td>0.60</td>\n",
       "      <td>1</td>\n",
       "      <td>1</td>\n",
       "      <td>False</td>\n",
       "      <td>blank</td>\n",
       "      <td>True</td>\n",
       "      <td>1.703365e+09</td>\n",
       "      <td>text</td>\n",
       "      <td>self.army</td>\n",
       "      <td>True</td>\n",
       "      <td>False</td>\n",
       "      <td>False</td>\n",
       "      <td>cantthinkofaname1010</td>\n",
       "      <td>4</td>\n",
       "      <td>False</td>\n",
       "    </tr>\n",
       "    <tr>\n",
       "      <th>10</th>\n",
       "      <td>Army</td>\n",
       "      <td>title_only</td>\n",
       "      <td>Thanks (Secret) Santa! You always know what I ...</td>\n",
       "      <td>[]</td>\n",
       "      <td>r/army</td>\n",
       "      <td>0.91</td>\n",
       "      <td>16</td>\n",
       "      <td>16</td>\n",
       "      <td>False</td>\n",
       "      <td>aviation</td>\n",
       "      <td>False</td>\n",
       "      <td>1.703365e+09</td>\n",
       "      <td>richtext</td>\n",
       "      <td>i.redd.it</td>\n",
       "      <td>False</td>\n",
       "      <td>False</td>\n",
       "      <td>False</td>\n",
       "      <td>Baystate411</td>\n",
       "      <td>5</td>\n",
       "      <td>False</td>\n",
       "    </tr>\n",
       "    <tr>\n",
       "      <th>11</th>\n",
       "      <td>Army</td>\n",
       "      <td>Any chance the promotions will improve or just...</td>\n",
       "      <td>I think I'll go with 35M unless promotions get...</td>\n",
       "      <td>[]</td>\n",
       "      <td>r/army</td>\n",
       "      <td>0.50</td>\n",
       "      <td>0</td>\n",
       "      <td>0</td>\n",
       "      <td>False</td>\n",
       "      <td>blank</td>\n",
       "      <td>True</td>\n",
       "      <td>1.703363e+09</td>\n",
       "      <td>text</td>\n",
       "      <td>self.army</td>\n",
       "      <td>True</td>\n",
       "      <td>False</td>\n",
       "      <td>False</td>\n",
       "      <td>JungLinMun</td>\n",
       "      <td>4</td>\n",
       "      <td>False</td>\n",
       "    </tr>\n",
       "    <tr>\n",
       "      <th>12</th>\n",
       "      <td>Army</td>\n",
       "      <td>i see a lot of serious and sad stuff here, alo...</td>\n",
       "      <td>celebration</td>\n",
       "      <td>[]</td>\n",
       "      <td>r/army</td>\n",
       "      <td>0.88</td>\n",
       "      <td>13</td>\n",
       "      <td>13</td>\n",
       "      <td>False</td>\n",
       "      <td>blank</td>\n",
       "      <td>True</td>\n",
       "      <td>1.703363e+09</td>\n",
       "      <td>text</td>\n",
       "      <td>self.army</td>\n",
       "      <td>False</td>\n",
       "      <td>False</td>\n",
       "      <td>False</td>\n",
       "      <td>Maleficent_Chest4587</td>\n",
       "      <td>11</td>\n",
       "      <td>False</td>\n",
       "    </tr>\n",
       "    <tr>\n",
       "      <th>15</th>\n",
       "      <td>Army</td>\n",
       "      <td>Long time lurker here, figured I'd finally pos...</td>\n",
       "      <td>Officer Promotion Boards</td>\n",
       "      <td>[]</td>\n",
       "      <td>r/army</td>\n",
       "      <td>1.00</td>\n",
       "      <td>7</td>\n",
       "      <td>7</td>\n",
       "      <td>False</td>\n",
       "      <td>blank</td>\n",
       "      <td>True</td>\n",
       "      <td>1.703361e+09</td>\n",
       "      <td>text</td>\n",
       "      <td>self.army</td>\n",
       "      <td>False</td>\n",
       "      <td>False</td>\n",
       "      <td>False</td>\n",
       "      <td>ThreeStarRatchet</td>\n",
       "      <td>5</td>\n",
       "      <td>False</td>\n",
       "    </tr>\n",
       "    <tr>\n",
       "      <th>16</th>\n",
       "      <td>Army</td>\n",
       "      <td>I submitted a PAR with my validated ppw from t...</td>\n",
       "      <td>I made points, but I wasn’t on the list</td>\n",
       "      <td>[]</td>\n",
       "      <td>r/army</td>\n",
       "      <td>1.00</td>\n",
       "      <td>1</td>\n",
       "      <td>1</td>\n",
       "      <td>False</td>\n",
       "      <td>aviation</td>\n",
       "      <td>True</td>\n",
       "      <td>1.703360e+09</td>\n",
       "      <td>richtext</td>\n",
       "      <td>self.army</td>\n",
       "      <td>True</td>\n",
       "      <td>False</td>\n",
       "      <td>False</td>\n",
       "      <td>Lucky-Wheel-4593</td>\n",
       "      <td>8</td>\n",
       "      <td>False</td>\n",
       "    </tr>\n",
       "  </tbody>\n",
       "</table>\n",
       "</div>"
      ],
      "text/plain": [
       "   subreddit                                           selftext  \\\n",
       "0       Army  This was a convo I had with one of my buddies ...   \n",
       "1       Army  BLUF: how do you overcome imposter syndrome?\\n...   \n",
       "2       Army  Long story short, my estranged (soon to be ex)...   \n",
       "3       Army  \\nMy husband is 35T, and just graduated AIT. W...   \n",
       "4       Army  I could use some advice on going recruiting. I...   \n",
       "5       Army  At my new duty station in Massachusetts and al...   \n",
       "6       Army  Does anyone have experience with submitting th...   \n",
       "7       Army  Also what does ‘Standard Excess’ refer to for ...   \n",
       "8       Army  Any tips or advice. I'm in osut about to turn ...   \n",
       "9       Army  Would anyone be able to describe the process o...   \n",
       "10      Army                                         title_only   \n",
       "11      Army  Any chance the promotions will improve or just...   \n",
       "12      Army  i see a lot of serious and sad stuff here, alo...   \n",
       "15      Army  Long time lurker here, figured I'd finally pos...   \n",
       "16      Army  I submitted a PAR with my validated ppw from t...   \n",
       "\n",
       "                                                title link_flair_richtext  \\\n",
       "0   If you could create a new MRE based on a Fast ...                  []   \n",
       "1                               how do you even Army?                  []   \n",
       "2                  Command Directed No-Contact Order?                  []   \n",
       "3                                         Anyone 35T?                  []   \n",
       "4         Thinking of going recruiter as brand new E5                  []   \n",
       "5   Well everyone, I’m alone for the holidays and ...                  []   \n",
       "6   DD Form 368 has started its way up. Looking fo...                  []   \n",
       "7   What does ‘Permanent Change of Station’ refer ...                  []   \n",
       "8                              Advice for 17 year old                  []   \n",
       "9             Space Force NCO to Army Warrant Officer                  []   \n",
       "10  Thanks (Secret) Santa! You always know what I ...                  []   \n",
       "11  I think I'll go with 35M unless promotions get...                  []   \n",
       "12                                        celebration                  []   \n",
       "15                           Officer Promotion Boards                  []   \n",
       "16            I made points, but I wasn’t on the list                  []   \n",
       "\n",
       "   subreddit_name_prefixed  upvote_ratio  ups  score        edited  \\\n",
       "0                   r/army          1.00    3      3         False   \n",
       "1                   r/army          0.57    1      1         False   \n",
       "2                   r/army          1.00    2      2         False   \n",
       "3                   r/army          0.84    4      4         False   \n",
       "4                   r/army          1.00    2      2         False   \n",
       "5                   r/army          0.89   29     29         False   \n",
       "6                   r/army          0.75    2      2         False   \n",
       "7                   r/army          0.83    8      8         False   \n",
       "8                   r/army          0.76    8      8  1703369322.0   \n",
       "9                   r/army          0.60    1      1         False   \n",
       "10                  r/army          0.91   16     16         False   \n",
       "11                  r/army          0.50    0      0         False   \n",
       "12                  r/army          0.88   13     13         False   \n",
       "15                  r/army          1.00    7      7         False   \n",
       "16                  r/army          1.00    1      1         False   \n",
       "\n",
       "   author_flair_css_class  is_self       created author_flair_type     domain  \\\n",
       "0                   blank     True  1.703376e+09              text  self.army   \n",
       "1     airdefenseartillery     True  1.703375e+09          richtext  self.army   \n",
       "2                   blank     True  1.703373e+09              text  self.army   \n",
       "3                   blank     True  1.703372e+09              text  self.army   \n",
       "4                   blank     True  1.703371e+09              text  self.army   \n",
       "5                 medical     True  1.703368e+09          richtext  self.army   \n",
       "6                   blank     True  1.703368e+09              text  self.army   \n",
       "7                   blank     True  1.703366e+09              text  self.army   \n",
       "8                   blank     True  1.703366e+09              text  self.army   \n",
       "9                   blank     True  1.703365e+09              text  self.army   \n",
       "10               aviation    False  1.703365e+09          richtext  i.redd.it   \n",
       "11                  blank     True  1.703363e+09              text  self.army   \n",
       "12                  blank     True  1.703363e+09              text  self.army   \n",
       "15                  blank     True  1.703361e+09              text  self.army   \n",
       "16               aviation     True  1.703360e+09          richtext  self.army   \n",
       "\n",
       "    no_follow  over_18  locked                author  num_comments  is_video  \n",
       "0       False    False   False           Mariostar16             3     False  \n",
       "1        True    False   False    Ok-Philosopher5533             4     False  \n",
       "2       False    False   False            skywri8293             4     False  \n",
       "3       False    False   False           Deep-Ad1124             8     False  \n",
       "4       False    False   False          Classcelicos             6     False  \n",
       "5       False    False   False  BeanieWeenie-Burrito            24     False  \n",
       "6       False    False   False  Aggravating_Tart_299             7     False  \n",
       "7       False    False   False              Bambonoy             5     False  \n",
       "8       False    False   False        churnedslinger            30     False  \n",
       "9        True    False   False  cantthinkofaname1010             4     False  \n",
       "10      False    False   False           Baystate411             5     False  \n",
       "11       True    False   False            JungLinMun             4     False  \n",
       "12      False    False   False  Maleficent_Chest4587            11     False  \n",
       "15      False    False   False      ThreeStarRatchet             5     False  \n",
       "16       True    False   False      Lucky-Wheel-4593             8     False  "
      ]
     },
     "execution_count": 27,
     "metadata": {},
     "output_type": "execute_result"
    }
   ],
   "source": [
    "agg_df.head(15)"
   ]
  },
  {
   "cell_type": "code",
   "execution_count": 28,
   "metadata": {},
   "outputs": [],
   "source": [
    "def preprocess_dataframe(df):\n",
    "    # Normalize numerical columns\n",
    "    numerical_cols = ['upvote_ratio', 'ups', 'score', 'num_comments']\n",
    "    df[numerical_cols] = StandardScaler().fit_transform(df[numerical_cols])\n",
    "\n",
    "    # Convert boolean columns to binary\n",
    "    boolean_cols = ['edited', 'is_self', 'no_follow', 'over_18', 'locked', 'is_video']\n",
    "    for col in boolean_cols:\n",
    "        df[col] = df[col].apply(lambda x: 1 if x == True or x == 'True' else 0)\n",
    "\n",
    "    # One-hot encode categorical columns\n",
    "    categorical_cols = ['author_flair_css_class', 'author_flair_type', 'domain']\n",
    "    df = pd.get_dummies(df, columns=categorical_cols, dtype= int)\n",
    "\n",
    "    # Process 'created' column (timestamp)\n",
    "    df['created'] = pd.to_datetime(df['created'], unit='s')\n",
    "    df['hour_of_day'] = df['created'].dt.hour\n",
    "    df['day_of_week'] = df['created'].dt.dayofweek\n",
    "    df = df.drop('created', axis=1)\n",
    "\n",
    "    return df"
   ]
  },
  {
   "cell_type": "markdown",
   "metadata": {},
   "source": [
    "# Cleaned Data"
   ]
  },
  {
   "cell_type": "code",
   "execution_count": 29,
   "metadata": {},
   "outputs": [
    {
     "name": "stdout",
     "output_type": "stream",
     "text": [
      "(3735, 78)\n"
     ]
    },
    {
     "data": {
      "text/html": [
       "<div>\n",
       "<style scoped>\n",
       "    .dataframe tbody tr th:only-of-type {\n",
       "        vertical-align: middle;\n",
       "    }\n",
       "\n",
       "    .dataframe tbody tr th {\n",
       "        vertical-align: top;\n",
       "    }\n",
       "\n",
       "    .dataframe thead th {\n",
       "        text-align: right;\n",
       "    }\n",
       "</style>\n",
       "<table border=\"1\" class=\"dataframe\">\n",
       "  <thead>\n",
       "    <tr style=\"text-align: right;\">\n",
       "      <th></th>\n",
       "      <th>subreddit</th>\n",
       "      <th>selftext</th>\n",
       "      <th>title</th>\n",
       "      <th>link_flair_richtext</th>\n",
       "      <th>subreddit_name_prefixed</th>\n",
       "      <th>upvote_ratio</th>\n",
       "      <th>ups</th>\n",
       "      <th>score</th>\n",
       "      <th>edited</th>\n",
       "      <th>is_self</th>\n",
       "      <th>...</th>\n",
       "      <th>domain_self.army</th>\n",
       "      <th>domain_self.bipolar</th>\n",
       "      <th>domain_self.schizophrenia</th>\n",
       "      <th>domain_stripes.com</th>\n",
       "      <th>domain_thearmorylife.com</th>\n",
       "      <th>domain_v.redd.it</th>\n",
       "      <th>domain_youtu.be</th>\n",
       "      <th>domain_youtube.com</th>\n",
       "      <th>hour_of_day</th>\n",
       "      <th>day_of_week</th>\n",
       "    </tr>\n",
       "  </thead>\n",
       "  <tbody>\n",
       "    <tr>\n",
       "      <th>0</th>\n",
       "      <td>Army</td>\n",
       "      <td>This was a convo I had with one of my buddies ...</td>\n",
       "      <td>If you could create a new MRE based on a Fast ...</td>\n",
       "      <td>[]</td>\n",
       "      <td>r/army</td>\n",
       "      <td>0.666290</td>\n",
       "      <td>-0.237698</td>\n",
       "      <td>-0.237698</td>\n",
       "      <td>0</td>\n",
       "      <td>1</td>\n",
       "      <td>...</td>\n",
       "      <td>1</td>\n",
       "      <td>0</td>\n",
       "      <td>0</td>\n",
       "      <td>0</td>\n",
       "      <td>0</td>\n",
       "      <td>0</td>\n",
       "      <td>0</td>\n",
       "      <td>0</td>\n",
       "      <td>23</td>\n",
       "      <td>5</td>\n",
       "    </tr>\n",
       "    <tr>\n",
       "      <th>1</th>\n",
       "      <td>Army</td>\n",
       "      <td>BLUF: how do you overcome imposter syndrome?\\n...</td>\n",
       "      <td>how do you even Army?</td>\n",
       "      <td>[]</td>\n",
       "      <td>r/army</td>\n",
       "      <td>-1.563819</td>\n",
       "      <td>-0.263742</td>\n",
       "      <td>-0.263742</td>\n",
       "      <td>0</td>\n",
       "      <td>1</td>\n",
       "      <td>...</td>\n",
       "      <td>1</td>\n",
       "      <td>0</td>\n",
       "      <td>0</td>\n",
       "      <td>0</td>\n",
       "      <td>0</td>\n",
       "      <td>0</td>\n",
       "      <td>0</td>\n",
       "      <td>0</td>\n",
       "      <td>23</td>\n",
       "      <td>5</td>\n",
       "    </tr>\n",
       "    <tr>\n",
       "      <th>2</th>\n",
       "      <td>Army</td>\n",
       "      <td>Long story short, my estranged (soon to be ex)...</td>\n",
       "      <td>Command Directed No-Contact Order?</td>\n",
       "      <td>[]</td>\n",
       "      <td>r/army</td>\n",
       "      <td>0.666290</td>\n",
       "      <td>-0.250720</td>\n",
       "      <td>-0.250720</td>\n",
       "      <td>0</td>\n",
       "      <td>1</td>\n",
       "      <td>...</td>\n",
       "      <td>1</td>\n",
       "      <td>0</td>\n",
       "      <td>0</td>\n",
       "      <td>0</td>\n",
       "      <td>0</td>\n",
       "      <td>0</td>\n",
       "      <td>0</td>\n",
       "      <td>0</td>\n",
       "      <td>23</td>\n",
       "      <td>5</td>\n",
       "    </tr>\n",
       "    <tr>\n",
       "      <th>3</th>\n",
       "      <td>Army</td>\n",
       "      <td>\\nMy husband is 35T, and just graduated AIT. W...</td>\n",
       "      <td>Anyone 35T?</td>\n",
       "      <td>[]</td>\n",
       "      <td>r/army</td>\n",
       "      <td>-0.163518</td>\n",
       "      <td>-0.224675</td>\n",
       "      <td>-0.224675</td>\n",
       "      <td>0</td>\n",
       "      <td>1</td>\n",
       "      <td>...</td>\n",
       "      <td>1</td>\n",
       "      <td>0</td>\n",
       "      <td>0</td>\n",
       "      <td>0</td>\n",
       "      <td>0</td>\n",
       "      <td>0</td>\n",
       "      <td>0</td>\n",
       "      <td>0</td>\n",
       "      <td>22</td>\n",
       "      <td>5</td>\n",
       "    </tr>\n",
       "    <tr>\n",
       "      <th>4</th>\n",
       "      <td>Army</td>\n",
       "      <td>I could use some advice on going recruiting. I...</td>\n",
       "      <td>Thinking of going recruiter as brand new E5</td>\n",
       "      <td>[]</td>\n",
       "      <td>r/army</td>\n",
       "      <td>0.666290</td>\n",
       "      <td>-0.250720</td>\n",
       "      <td>-0.250720</td>\n",
       "      <td>0</td>\n",
       "      <td>1</td>\n",
       "      <td>...</td>\n",
       "      <td>1</td>\n",
       "      <td>0</td>\n",
       "      <td>0</td>\n",
       "      <td>0</td>\n",
       "      <td>0</td>\n",
       "      <td>0</td>\n",
       "      <td>0</td>\n",
       "      <td>0</td>\n",
       "      <td>22</td>\n",
       "      <td>5</td>\n",
       "    </tr>\n",
       "    <tr>\n",
       "      <th>5</th>\n",
       "      <td>Army</td>\n",
       "      <td>At my new duty station in Massachusetts and al...</td>\n",
       "      <td>Well everyone, I’m alone for the holidays and ...</td>\n",
       "      <td>[]</td>\n",
       "      <td>r/army</td>\n",
       "      <td>0.095797</td>\n",
       "      <td>0.100879</td>\n",
       "      <td>0.100879</td>\n",
       "      <td>0</td>\n",
       "      <td>1</td>\n",
       "      <td>...</td>\n",
       "      <td>1</td>\n",
       "      <td>0</td>\n",
       "      <td>0</td>\n",
       "      <td>0</td>\n",
       "      <td>0</td>\n",
       "      <td>0</td>\n",
       "      <td>0</td>\n",
       "      <td>0</td>\n",
       "      <td>21</td>\n",
       "      <td>5</td>\n",
       "    </tr>\n",
       "    <tr>\n",
       "      <th>6</th>\n",
       "      <td>Army</td>\n",
       "      <td>Does anyone have experience with submitting th...</td>\n",
       "      <td>DD Form 368 has started its way up. Looking fo...</td>\n",
       "      <td>[]</td>\n",
       "      <td>r/army</td>\n",
       "      <td>-0.630285</td>\n",
       "      <td>-0.250720</td>\n",
       "      <td>-0.250720</td>\n",
       "      <td>0</td>\n",
       "      <td>1</td>\n",
       "      <td>...</td>\n",
       "      <td>1</td>\n",
       "      <td>0</td>\n",
       "      <td>0</td>\n",
       "      <td>0</td>\n",
       "      <td>0</td>\n",
       "      <td>0</td>\n",
       "      <td>0</td>\n",
       "      <td>0</td>\n",
       "      <td>21</td>\n",
       "      <td>5</td>\n",
       "    </tr>\n",
       "    <tr>\n",
       "      <th>7</th>\n",
       "      <td>Army</td>\n",
       "      <td>Also what does ‘Standard Excess’ refer to for ...</td>\n",
       "      <td>What does ‘Permanent Change of Station’ refer ...</td>\n",
       "      <td>[]</td>\n",
       "      <td>r/army</td>\n",
       "      <td>-0.215381</td>\n",
       "      <td>-0.172587</td>\n",
       "      <td>-0.172587</td>\n",
       "      <td>0</td>\n",
       "      <td>1</td>\n",
       "      <td>...</td>\n",
       "      <td>1</td>\n",
       "      <td>0</td>\n",
       "      <td>0</td>\n",
       "      <td>0</td>\n",
       "      <td>0</td>\n",
       "      <td>0</td>\n",
       "      <td>0</td>\n",
       "      <td>0</td>\n",
       "      <td>21</td>\n",
       "      <td>5</td>\n",
       "    </tr>\n",
       "    <tr>\n",
       "      <th>8</th>\n",
       "      <td>Army</td>\n",
       "      <td>Any tips or advice. I'm in osut about to turn ...</td>\n",
       "      <td>Advice for 17 year old</td>\n",
       "      <td>[]</td>\n",
       "      <td>r/army</td>\n",
       "      <td>-0.578422</td>\n",
       "      <td>-0.172587</td>\n",
       "      <td>-0.172587</td>\n",
       "      <td>0</td>\n",
       "      <td>1</td>\n",
       "      <td>...</td>\n",
       "      <td>1</td>\n",
       "      <td>0</td>\n",
       "      <td>0</td>\n",
       "      <td>0</td>\n",
       "      <td>0</td>\n",
       "      <td>0</td>\n",
       "      <td>0</td>\n",
       "      <td>0</td>\n",
       "      <td>21</td>\n",
       "      <td>5</td>\n",
       "    </tr>\n",
       "    <tr>\n",
       "      <th>9</th>\n",
       "      <td>Army</td>\n",
       "      <td>Would anyone be able to describe the process o...</td>\n",
       "      <td>Space Force NCO to Army Warrant Officer</td>\n",
       "      <td>[]</td>\n",
       "      <td>r/army</td>\n",
       "      <td>-1.408230</td>\n",
       "      <td>-0.263742</td>\n",
       "      <td>-0.263742</td>\n",
       "      <td>0</td>\n",
       "      <td>1</td>\n",
       "      <td>...</td>\n",
       "      <td>1</td>\n",
       "      <td>0</td>\n",
       "      <td>0</td>\n",
       "      <td>0</td>\n",
       "      <td>0</td>\n",
       "      <td>0</td>\n",
       "      <td>0</td>\n",
       "      <td>0</td>\n",
       "      <td>20</td>\n",
       "      <td>5</td>\n",
       "    </tr>\n",
       "  </tbody>\n",
       "</table>\n",
       "<p>10 rows × 78 columns</p>\n",
       "</div>"
      ],
      "text/plain": [
       "  subreddit                                           selftext  \\\n",
       "0      Army  This was a convo I had with one of my buddies ...   \n",
       "1      Army  BLUF: how do you overcome imposter syndrome?\\n...   \n",
       "2      Army  Long story short, my estranged (soon to be ex)...   \n",
       "3      Army  \\nMy husband is 35T, and just graduated AIT. W...   \n",
       "4      Army  I could use some advice on going recruiting. I...   \n",
       "5      Army  At my new duty station in Massachusetts and al...   \n",
       "6      Army  Does anyone have experience with submitting th...   \n",
       "7      Army  Also what does ‘Standard Excess’ refer to for ...   \n",
       "8      Army  Any tips or advice. I'm in osut about to turn ...   \n",
       "9      Army  Would anyone be able to describe the process o...   \n",
       "\n",
       "                                               title link_flair_richtext  \\\n",
       "0  If you could create a new MRE based on a Fast ...                  []   \n",
       "1                              how do you even Army?                  []   \n",
       "2                 Command Directed No-Contact Order?                  []   \n",
       "3                                        Anyone 35T?                  []   \n",
       "4        Thinking of going recruiter as brand new E5                  []   \n",
       "5  Well everyone, I’m alone for the holidays and ...                  []   \n",
       "6  DD Form 368 has started its way up. Looking fo...                  []   \n",
       "7  What does ‘Permanent Change of Station’ refer ...                  []   \n",
       "8                             Advice for 17 year old                  []   \n",
       "9            Space Force NCO to Army Warrant Officer                  []   \n",
       "\n",
       "  subreddit_name_prefixed  upvote_ratio       ups     score  edited  is_self  \\\n",
       "0                  r/army      0.666290 -0.237698 -0.237698       0        1   \n",
       "1                  r/army     -1.563819 -0.263742 -0.263742       0        1   \n",
       "2                  r/army      0.666290 -0.250720 -0.250720       0        1   \n",
       "3                  r/army     -0.163518 -0.224675 -0.224675       0        1   \n",
       "4                  r/army      0.666290 -0.250720 -0.250720       0        1   \n",
       "5                  r/army      0.095797  0.100879  0.100879       0        1   \n",
       "6                  r/army     -0.630285 -0.250720 -0.250720       0        1   \n",
       "7                  r/army     -0.215381 -0.172587 -0.172587       0        1   \n",
       "8                  r/army     -0.578422 -0.172587 -0.172587       0        1   \n",
       "9                  r/army     -1.408230 -0.263742 -0.263742       0        1   \n",
       "\n",
       "   ...  domain_self.army  domain_self.bipolar  domain_self.schizophrenia  \\\n",
       "0  ...                 1                    0                          0   \n",
       "1  ...                 1                    0                          0   \n",
       "2  ...                 1                    0                          0   \n",
       "3  ...                 1                    0                          0   \n",
       "4  ...                 1                    0                          0   \n",
       "5  ...                 1                    0                          0   \n",
       "6  ...                 1                    0                          0   \n",
       "7  ...                 1                    0                          0   \n",
       "8  ...                 1                    0                          0   \n",
       "9  ...                 1                    0                          0   \n",
       "\n",
       "  domain_stripes.com  domain_thearmorylife.com  domain_v.redd.it  \\\n",
       "0                  0                         0                 0   \n",
       "1                  0                         0                 0   \n",
       "2                  0                         0                 0   \n",
       "3                  0                         0                 0   \n",
       "4                  0                         0                 0   \n",
       "5                  0                         0                 0   \n",
       "6                  0                         0                 0   \n",
       "7                  0                         0                 0   \n",
       "8                  0                         0                 0   \n",
       "9                  0                         0                 0   \n",
       "\n",
       "   domain_youtu.be  domain_youtube.com  hour_of_day  day_of_week  \n",
       "0                0                   0           23            5  \n",
       "1                0                   0           23            5  \n",
       "2                0                   0           23            5  \n",
       "3                0                   0           22            5  \n",
       "4                0                   0           22            5  \n",
       "5                0                   0           21            5  \n",
       "6                0                   0           21            5  \n",
       "7                0                   0           21            5  \n",
       "8                0                   0           21            5  \n",
       "9                0                   0           20            5  \n",
       "\n",
       "[10 rows x 78 columns]"
      ]
     },
     "execution_count": 29,
     "metadata": {},
     "output_type": "execute_result"
    }
   ],
   "source": [
    "processed_df = preprocess_dataframe(agg_df)\n",
    "\n",
    "print(processed_df.shape)\n",
    "processed_df.head(10)"
   ]
  },
  {
   "cell_type": "markdown",
   "metadata": {},
   "source": [
    "### Output processed df in ANALYSIS folder for further analysis"
   ]
  },
  {
   "cell_type": "code",
   "execution_count": 30,
   "metadata": {},
   "outputs": [],
   "source": [
    "#output to csv\n",
    "processed_df.to_csv('../3_ANALYSIS/data/processed_data.csv', index=False)"
   ]
  },
  {
   "cell_type": "code",
   "execution_count": 31,
   "metadata": {},
   "outputs": [
    {
     "data": {
      "text/plain": [
       "(3735, 78)"
      ]
     },
     "execution_count": 31,
     "metadata": {},
     "output_type": "execute_result"
    }
   ],
   "source": [
    "processed_df.shape"
   ]
  },
  {
   "cell_type": "code",
   "execution_count": 32,
   "metadata": {},
   "outputs": [
    {
     "data": {
      "text/plain": [
       "subreddit\n",
       "Army             1355\n",
       "bipolar          1056\n",
       "schizophrenia     810\n",
       "USMC              514\n",
       "Name: count, dtype: int64"
      ]
     },
     "execution_count": 32,
     "metadata": {},
     "output_type": "execute_result"
    }
   ],
   "source": [
    "#shape of each subreddit after preprocessing\n",
    "processed_df['subreddit'].value_counts()"
   ]
  },
  {
   "cell_type": "code",
   "execution_count": null,
   "metadata": {},
   "outputs": [],
   "source": []
  }
 ],
 "metadata": {
  "kernelspec": {
   "display_name": "dsi",
   "language": "python",
   "name": "python3"
  },
  "language_info": {
   "codemirror_mode": {
    "name": "ipython",
    "version": 3
   },
   "file_extension": ".py",
   "mimetype": "text/x-python",
   "name": "python",
   "nbconvert_exporter": "python",
   "pygments_lexer": "ipython3",
   "version": "3.9.18"
  }
 },
 "nbformat": 4,
 "nbformat_minor": 2
}
