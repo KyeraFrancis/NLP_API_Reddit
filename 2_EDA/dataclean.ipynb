{
 "cells": [
  {
   "cell_type": "markdown",
   "metadata": {},
   "source": [
    "# Data Cleaning and Processing\n",
    "\n",
    "This Notebook will process the data and extract all the relevant information needed for analysis. This will include:\n",
    "- Feature Selection\n",
    "- Imputing missing values\n",
    "- Removing possible Duplicates (in case it was not properly preformed in the data collection process)\n",
    "- Normalizing and Encoding categorical variables\n",
    "\n",
    "Then the cleaned data will be exported into a format for the next step of EDA.\n"
   ]
  },
  {
   "cell_type": "markdown",
   "metadata": {},
   "source": [
    "## Import Data"
   ]
  },
  {
   "cell_type": "code",
   "execution_count": 223,
   "metadata": {},
   "outputs": [],
   "source": [
    "## Imports\n",
    "import pandas as pd\n",
    "import numpy as np\n",
    "import matplotlib.pyplot as plt\n",
    "import seaborn as sns\n",
    "import os\n",
    "\n",
    "#Ignore warnings\n",
    "from warnings import filterwarnings\n",
    "filterwarnings('ignore')"
   ]
  },
  {
   "cell_type": "code",
   "execution_count": 224,
   "metadata": {},
   "outputs": [
    {
     "name": "stdout",
     "output_type": "stream",
     "text": [
      "(13000, 118)\n"
     ]
    },
    {
     "data": {
      "text/html": [
       "<div>\n",
       "<style scoped>\n",
       "    .dataframe tbody tr th:only-of-type {\n",
       "        vertical-align: middle;\n",
       "    }\n",
       "\n",
       "    .dataframe tbody tr th {\n",
       "        vertical-align: top;\n",
       "    }\n",
       "\n",
       "    .dataframe thead th {\n",
       "        text-align: right;\n",
       "    }\n",
       "</style>\n",
       "<table border=\"1\" class=\"dataframe\">\n",
       "  <thead>\n",
       "    <tr style=\"text-align: right;\">\n",
       "      <th></th>\n",
       "      <th>approved_at_utc</th>\n",
       "      <th>subreddit</th>\n",
       "      <th>selftext</th>\n",
       "      <th>author_fullname</th>\n",
       "      <th>saved</th>\n",
       "      <th>mod_reason_title</th>\n",
       "      <th>gilded</th>\n",
       "      <th>clicked</th>\n",
       "      <th>title</th>\n",
       "      <th>link_flair_richtext</th>\n",
       "      <th>...</th>\n",
       "      <th>preview</th>\n",
       "      <th>is_gallery</th>\n",
       "      <th>media_metadata</th>\n",
       "      <th>gallery_data</th>\n",
       "      <th>author_cakeday</th>\n",
       "      <th>link_flair_template_id</th>\n",
       "      <th>poll_data</th>\n",
       "      <th>crosspost_parent_list</th>\n",
       "      <th>crosspost_parent</th>\n",
       "      <th>collections</th>\n",
       "    </tr>\n",
       "  </thead>\n",
       "  <tbody>\n",
       "    <tr>\n",
       "      <th>0</th>\n",
       "      <td>NaN</td>\n",
       "      <td>Army</td>\n",
       "      <td>This was a convo I had with one of my buddies ...</td>\n",
       "      <td>t2_3vmh30ad</td>\n",
       "      <td>False</td>\n",
       "      <td>NaN</td>\n",
       "      <td>0</td>\n",
       "      <td>False</td>\n",
       "      <td>If you could create a new MRE based on a Fast ...</td>\n",
       "      <td>[]</td>\n",
       "      <td>...</td>\n",
       "      <td>NaN</td>\n",
       "      <td>NaN</td>\n",
       "      <td>NaN</td>\n",
       "      <td>NaN</td>\n",
       "      <td>NaN</td>\n",
       "      <td>NaN</td>\n",
       "      <td>NaN</td>\n",
       "      <td>NaN</td>\n",
       "      <td>NaN</td>\n",
       "      <td>NaN</td>\n",
       "    </tr>\n",
       "    <tr>\n",
       "      <th>1</th>\n",
       "      <td>NaN</td>\n",
       "      <td>Army</td>\n",
       "      <td>BLUF: how do you overcome imposter syndrome?\\n...</td>\n",
       "      <td>t2_9mqncmmb</td>\n",
       "      <td>False</td>\n",
       "      <td>NaN</td>\n",
       "      <td>0</td>\n",
       "      <td>False</td>\n",
       "      <td>how do you even Army?</td>\n",
       "      <td>[]</td>\n",
       "      <td>...</td>\n",
       "      <td>NaN</td>\n",
       "      <td>NaN</td>\n",
       "      <td>NaN</td>\n",
       "      <td>NaN</td>\n",
       "      <td>NaN</td>\n",
       "      <td>NaN</td>\n",
       "      <td>NaN</td>\n",
       "      <td>NaN</td>\n",
       "      <td>NaN</td>\n",
       "      <td>NaN</td>\n",
       "    </tr>\n",
       "    <tr>\n",
       "      <th>2</th>\n",
       "      <td>NaN</td>\n",
       "      <td>Army</td>\n",
       "      <td>Long story short, my estranged (soon to be ex)...</td>\n",
       "      <td>t2_ag69n7u7</td>\n",
       "      <td>False</td>\n",
       "      <td>NaN</td>\n",
       "      <td>0</td>\n",
       "      <td>False</td>\n",
       "      <td>Command Directed No-Contact Order?</td>\n",
       "      <td>[]</td>\n",
       "      <td>...</td>\n",
       "      <td>NaN</td>\n",
       "      <td>NaN</td>\n",
       "      <td>NaN</td>\n",
       "      <td>NaN</td>\n",
       "      <td>NaN</td>\n",
       "      <td>NaN</td>\n",
       "      <td>NaN</td>\n",
       "      <td>NaN</td>\n",
       "      <td>NaN</td>\n",
       "      <td>NaN</td>\n",
       "    </tr>\n",
       "    <tr>\n",
       "      <th>3</th>\n",
       "      <td>NaN</td>\n",
       "      <td>Army</td>\n",
       "      <td>\\nMy husband is 35T, and just graduated AIT. W...</td>\n",
       "      <td>t2_lb56g2zm</td>\n",
       "      <td>False</td>\n",
       "      <td>NaN</td>\n",
       "      <td>0</td>\n",
       "      <td>False</td>\n",
       "      <td>Anyone 35T?</td>\n",
       "      <td>[]</td>\n",
       "      <td>...</td>\n",
       "      <td>NaN</td>\n",
       "      <td>NaN</td>\n",
       "      <td>NaN</td>\n",
       "      <td>NaN</td>\n",
       "      <td>NaN</td>\n",
       "      <td>NaN</td>\n",
       "      <td>NaN</td>\n",
       "      <td>NaN</td>\n",
       "      <td>NaN</td>\n",
       "      <td>NaN</td>\n",
       "    </tr>\n",
       "    <tr>\n",
       "      <th>4</th>\n",
       "      <td>NaN</td>\n",
       "      <td>Army</td>\n",
       "      <td>I could use some advice on going recruiting. I...</td>\n",
       "      <td>t2_i4rellgt</td>\n",
       "      <td>False</td>\n",
       "      <td>NaN</td>\n",
       "      <td>0</td>\n",
       "      <td>False</td>\n",
       "      <td>Thinking of going recruiter as brand new E5</td>\n",
       "      <td>[]</td>\n",
       "      <td>...</td>\n",
       "      <td>NaN</td>\n",
       "      <td>NaN</td>\n",
       "      <td>NaN</td>\n",
       "      <td>NaN</td>\n",
       "      <td>NaN</td>\n",
       "      <td>NaN</td>\n",
       "      <td>NaN</td>\n",
       "      <td>NaN</td>\n",
       "      <td>NaN</td>\n",
       "      <td>NaN</td>\n",
       "    </tr>\n",
       "  </tbody>\n",
       "</table>\n",
       "<p>5 rows × 118 columns</p>\n",
       "</div>"
      ],
      "text/plain": [
       "   approved_at_utc subreddit  \\\n",
       "0              NaN      Army   \n",
       "1              NaN      Army   \n",
       "2              NaN      Army   \n",
       "3              NaN      Army   \n",
       "4              NaN      Army   \n",
       "\n",
       "                                            selftext author_fullname  saved  \\\n",
       "0  This was a convo I had with one of my buddies ...     t2_3vmh30ad  False   \n",
       "1  BLUF: how do you overcome imposter syndrome?\\n...     t2_9mqncmmb  False   \n",
       "2  Long story short, my estranged (soon to be ex)...     t2_ag69n7u7  False   \n",
       "3  \\nMy husband is 35T, and just graduated AIT. W...     t2_lb56g2zm  False   \n",
       "4  I could use some advice on going recruiting. I...     t2_i4rellgt  False   \n",
       "\n",
       "   mod_reason_title  gilded  clicked  \\\n",
       "0               NaN       0    False   \n",
       "1               NaN       0    False   \n",
       "2               NaN       0    False   \n",
       "3               NaN       0    False   \n",
       "4               NaN       0    False   \n",
       "\n",
       "                                               title link_flair_richtext  ...  \\\n",
       "0  If you could create a new MRE based on a Fast ...                  []  ...   \n",
       "1                              how do you even Army?                  []  ...   \n",
       "2                 Command Directed No-Contact Order?                  []  ...   \n",
       "3                                        Anyone 35T?                  []  ...   \n",
       "4        Thinking of going recruiter as brand new E5                  []  ...   \n",
       "\n",
       "  preview  is_gallery  media_metadata gallery_data  author_cakeday  \\\n",
       "0     NaN         NaN             NaN          NaN             NaN   \n",
       "1     NaN         NaN             NaN          NaN             NaN   \n",
       "2     NaN         NaN             NaN          NaN             NaN   \n",
       "3     NaN         NaN             NaN          NaN             NaN   \n",
       "4     NaN         NaN             NaN          NaN             NaN   \n",
       "\n",
       "   link_flair_template_id  poll_data  crosspost_parent_list crosspost_parent  \\\n",
       "0                     NaN        NaN                    NaN              NaN   \n",
       "1                     NaN        NaN                    NaN              NaN   \n",
       "2                     NaN        NaN                    NaN              NaN   \n",
       "3                     NaN        NaN                    NaN              NaN   \n",
       "4                     NaN        NaN                    NaN              NaN   \n",
       "\n",
       "   collections  \n",
       "0          NaN  \n",
       "1          NaN  \n",
       "2          NaN  \n",
       "3          NaN  \n",
       "4          NaN  \n",
       "\n",
       "[5 rows x 118 columns]"
      ]
     },
     "execution_count": 224,
     "metadata": {},
     "output_type": "execute_result"
    }
   ],
   "source": [
    "## Load data\n",
    "agg_df = pd.read_csv('../2_EDA/data/00_master.csv')\n",
    "\n",
    "print(agg_df.shape)\n",
    "agg_df.head()"
   ]
  },
  {
   "cell_type": "markdown",
   "metadata": {},
   "source": [
    "## Data Statistics"
   ]
  },
  {
   "cell_type": "code",
   "execution_count": 225,
   "metadata": {},
   "outputs": [
    {
     "data": {
      "text/plain": [
       "Index(['approved_at_utc', 'subreddit', 'selftext', 'author_fullname', 'saved',\n",
       "       'mod_reason_title', 'gilded', 'clicked', 'title', 'link_flair_richtext',\n",
       "       ...\n",
       "       'preview', 'is_gallery', 'media_metadata', 'gallery_data',\n",
       "       'author_cakeday', 'link_flair_template_id', 'poll_data',\n",
       "       'crosspost_parent_list', 'crosspost_parent', 'collections'],\n",
       "      dtype='object', length=118)"
      ]
     },
     "execution_count": 225,
     "metadata": {},
     "output_type": "execute_result"
    }
   ],
   "source": [
    "agg_df.columns"
   ]
  },
  {
   "cell_type": "code",
   "execution_count": 226,
   "metadata": {},
   "outputs": [
    {
     "name": "stdout",
     "output_type": "stream",
     "text": [
      "<class 'pandas.core.frame.DataFrame'>\n",
      "RangeIndex: 13000 entries, 0 to 12999\n",
      "Columns: 118 entries, approved_at_utc to collections\n",
      "dtypes: bool(28), float64(26), int64(8), object(56)\n",
      "memory usage: 9.3+ MB\n"
     ]
    }
   ],
   "source": [
    "agg_df.info()"
   ]
  },
  {
   "cell_type": "code",
   "execution_count": 227,
   "metadata": {},
   "outputs": [
    {
     "data": {
      "text/plain": [
       "approved_at_utc           float64\n",
       "subreddit                  object\n",
       "selftext                   object\n",
       "author_fullname            object\n",
       "saved                        bool\n",
       "                           ...   \n",
       "link_flair_template_id     object\n",
       "poll_data                  object\n",
       "crosspost_parent_list      object\n",
       "crosspost_parent           object\n",
       "collections                object\n",
       "Length: 118, dtype: object"
      ]
     },
     "execution_count": 227,
     "metadata": {},
     "output_type": "execute_result"
    }
   ],
   "source": [
    "agg_df.dtypes"
   ]
  },
  {
   "cell_type": "markdown",
   "metadata": {},
   "source": [
    "## Feature Selection"
   ]
  },
  {
   "cell_type": "markdown",
   "metadata": {},
   "source": [
    "### Dropped Columns"
   ]
  },
  {
   "cell_type": "code",
   "execution_count": 228,
   "metadata": {},
   "outputs": [],
   "source": [
    "# Drop columns: 'thumbnail_width', 'media_embed' and 74 other columns\n",
    "agg_df = agg_df.drop(columns=['thumbnail_width', 'media_embed', 'author_flair_template_id', 'is_original_content', 'user_reports', 'secure_media', 'is_reddit_media_domain', 'is_meta', 'category', 'secure_media_embed', 'link_flair_text', 'can_mod_post', 'approved_by', 'is_created_from_ads_ui', 'author_premium', 'gildings', 'content_categories', 'mod_note', 'wls', 'removed_by_category', 'banned_by', 'link_flair_type', 'allow_live_comments', 'selftext_html', 'likes', 'suggested_sort', 'banned_at_utc', 'view_count', 'archived', 'is_crosspostable', 'pinned', 'all_awardings', 'awarders', 'media_only', 'can_gild', 'spoiler', 'treatment_tags', 'visited', 'removed_by', 'num_reports', 'distinguished', 'subreddit_id', 'author_is_blocked', 'mod_reason_by', 'removal_reason', 'link_flair_background_color', 'id', 'is_robot_indexable', 'report_reasons', 'discussion_type', 'send_replies', 'whitelist_status', 'contest_mode', 'mod_reports', 'author_patreon_flair', 'author_flair_text_color', 'permalink', 'parent_whitelist_status', 'stickied', 'url', 'subreddit_subscribers', 'created_utc', 'num_crossposts', 'media', 'post_hint', 'url_overridden_by_dest', 'preview', 'is_gallery', 'media_metadata', 'gallery_data', 'author_cakeday', 'link_flair_template_id', 'poll_data', 'crosspost_parent_list', 'crosspost_parent', 'collections', 'approved_at_utc', 'saved', 'mod_reason_title', 'gilded', 'clicked', 'hidden', 'pwls', 'link_flair_css_class', 'downs', 'thumbnail_height', 'top_awarded_type', 'hide_score', 'name', 'quarantine', 'link_flair_text_color', 'author_flair_background_color', 'subreddit_type', 'total_awards_received'])"
   ]
  },
  {
   "cell_type": "code",
   "execution_count": 229,
   "metadata": {},
   "outputs": [
    {
     "data": {
      "text/plain": [
       "author_flair_css_class     11820\n",
       "author_flair_text           9614\n",
       "thumbnail                   2500\n",
       "selftext                    1974\n",
       "author_flair_richtext         60\n",
       "author_fullname               60\n",
       "author_flair_type             60\n",
       "created                        0\n",
       "num_comments                   0\n",
       "author                         0\n",
       "locked                         0\n",
       "over_18                        0\n",
       "no_follow                      0\n",
       "domain                         0\n",
       "subreddit                      0\n",
       "is_self                        0\n",
       "edited                         0\n",
       "score                          0\n",
       "ups                            0\n",
       "upvote_ratio                   0\n",
       "subreddit_name_prefixed        0\n",
       "link_flair_richtext            0\n",
       "title                          0\n",
       "is_video                       0\n",
       "dtype: int64"
      ]
     },
     "execution_count": 229,
     "metadata": {},
     "output_type": "execute_result"
    }
   ],
   "source": [
    "agg_df.isnull().sum().sort_values(ascending=False)\n"
   ]
  },
  {
   "cell_type": "markdown",
   "metadata": {},
   "source": [
    "### Author Flair CSS Class"
   ]
  },
  {
   "cell_type": "code",
   "execution_count": 230,
   "metadata": {},
   "outputs": [
    {
     "data": {
      "text/plain": [
       "author_flair_css_class\n",
       "recruiter                   2\n",
       "civilaffairs                3\n",
       "electronicwarfare           3\n",
       "darkgoldenrod               5\n",
       "none                        5\n",
       "jag                         5\n",
       "Chaplain                    5\n",
       "spc                         5\n",
       "chemical                    7\n",
       "medicalservice              8\n",
       "a                          10\n",
       "Cyber                      13\n",
       "AquisitionCorps            15\n",
       "cavalry                    18\n",
       "publicaffairs              20\n",
       "psycologicaloperations     22\n",
       "medicalspecialist          23\n",
       "transportation             24\n",
       "armor                      30\n",
       "militarypolice             32\n",
       "fieldartillery             36\n",
       "airdefenseartillery        39\n",
       "adjutantgeneral            40\n",
       "quartermaster              44\n",
       "engineer                   46\n",
       "ordnance                   60\n",
       "medical                    66\n",
       "militaryintelligence       77\n",
       "aviation                   79\n",
       "signal                    110\n",
       "blank                     152\n",
       "infantry                  176\n",
       "Name: count, dtype: int64"
      ]
     },
     "execution_count": 230,
     "metadata": {},
     "output_type": "execute_result"
    }
   ],
   "source": [
    "#Replace null values with 'blank' in 'author_flair_css_class'\n",
    "agg_df['author_flair_css_class'].value_counts(ascending=True)\n"
   ]
  },
  {
   "cell_type": "markdown",
   "metadata": {},
   "source": [
    "### Author flair text"
   ]
  },
  {
   "cell_type": "code",
   "execution_count": 231,
   "metadata": {},
   "outputs": [],
   "source": [
    "agg_df['author_flair_text'].value_counts()\n",
    "agg_df.drop(columns=['author_flair_text'], inplace=True)"
   ]
  },
  {
   "cell_type": "markdown",
   "metadata": {},
   "source": [
    "### Thumbnail"
   ]
  },
  {
   "cell_type": "code",
   "execution_count": 232,
   "metadata": {},
   "outputs": [],
   "source": [
    "agg_df['thumbnail'].value_counts()\n",
    "agg_df.drop(columns=['thumbnail'], inplace=True)"
   ]
  },
  {
   "cell_type": "markdown",
   "metadata": {},
   "source": [
    "### Self Text"
   ]
  },
  {
   "cell_type": "code",
   "execution_count": 233,
   "metadata": {},
   "outputs": [
    {
     "data": {
      "text/plain": [
       "selftext\n",
       "My plan when I joined the Marine Corps was only to do a single contract. Serve my time while I'm young and capable, do a good job, then get out... I feel I've succeeded in these goals and made a tangible and identifiable difference. Joining this organization has been the most influential and life changing decision I've ever made in my life. The experiences and lessons learned here have completely changed my outlook on life and reversed negative mental habits I sustained as a kid (most of us here can relate).\\n\\nNow, I'm finding myself having made it on the CRP, and it's creating friction in what I thought was an already decided decision to get out.\\n\\nDidn't utilize my TA for three years? Now, I could take advantage of it with a second contract. Fatigued from the workload of being a communicator in a Victor unit? Now I have the opportunity to work at a reserve station in my home state. \\n\\nMy long-term career plan is to run for public office, and that is unmovable and defined. Although there doesn't necessarily need to be a set timeframe on when I jump into this, I'm apprehensive putting myself into a position where I can't get involved in this realm for another four years. \\n\\nMy youth and inexperience are being put on full display here. What's another four years? Any advice or perspective would be immensely appreciated. I'm going to be thinking long and hard on this during the leave block.                                                                                                                                                                                                                                                                              20\n",
       "What's it like working for PMO as a civilian officer?                                                                                                                                                                                                                                                                                                                                                                                                                                                                                                                                                                                                                                                                                                                                                                                                                                                                                                                                                                                                                                                                                                                                                                                                                                                                                                                                                                                                                                                                                                                                                                                                                                                                                               20\n",
       "Just wanted to visit Camp Horno for the first time since being out and visit the boys up top again. Thing is I’ve forgotten which exact trail / fire break that leads you up its been so long. Id be thankful for someone to pm me maybe some sort of explained location of the start trail. Thank you in advance.                                                                                                                                                                                                                                                                                                                                                                                                                                                                                                                                                                                                                                                                                                                                                                                                                                                                                                                                                                                                                                                                                                                                                                                                                                                                                                                                                                                                                                  20\n",
       "I am a single O2E. Just wondering if I can get OHA or do they have a BOQ? I will be arriving in March. How's the quality of life? Thanks all!                                                                                                                                                                                                                                                                                                                                                                                                                                                                                                                                                                                                                                                                                                                                                                                                                                                                                                                                                                                                                                                                                                                                                                                                                                                                                                                                                                                                                                                                                                                                                                                                       20\n",
       "Has anyone done an At Home Sleep Study then got told they didn’t have anything and got tested in person and needed up having it? I just know for a fact I got it because I wake up the whole house. Thank you.                                                                                                                                                                                                                                                                                                                                                                                                                                                                                                                                                                                                                                                                                                                                                                                                                                                                                                                                                                                                                                                                                                                                                                                                                                                                                                                                                                                                                                                                                                                                      20\n",
       "                                                                                                                                                                                                                                                                                                                                                                                                                                                                                                                                                                                                                                                                                                                                                                                                                                                                                                                                                                                                                                                                                                                                                                                                                                                                                                                                                                                                                                                                                                                                                                                                                                                                                                                                                    ..\n",
       "Hey guys, i have a few questions in regards of ETS. My husband and i are stationed in Germany rn. Its his first and last duty station as hell get out in July. Our ETS date is on July 13th, by then he'll have 60 days of leave which hell take as ETS leave. Now i wanted to know if its possible for him to get out of germany during his leave so we can go back stateside or if he has to stay here till his ETS date. (Im german and married to him, im sorry if my grammar isnt the best lol) Also wed like to know if hes requried to fly home via military flight or if hes able to fly lufthansa with me (we have two cats and a dog which we need to take on the flight back stateside, im not command sponsored so i have to pay everything on my own and fly with lufthansa.) well go back to florida and lufthansa wont fly animals after july as its to warm, now im concerned that he cant fly with me and we arent able to fly together in may or june. I honestly dont wanna fly without him and i wanna have all my animals there at once which means because of the airline restrictions that only two animals are allowed per person. \\n\\nim sorry if i wrote absolute nonsense lo but so far noone is able to give us some kind of answer. We are gonna ship his car back hopefully as soon as we get the orders. now i wanna know if someone did leave before ETS date and what have you done to be able to do that? how does it work to ship household goods and is he able to fly with a \"normal airline\"? And maybe someone had experience flying with lufthansa maybe even as dependet and if youre able to take more luggage with you and maaaybe even how a flight works with animals.\\n\\nThank yall in advance!!!!     1\n",
       "Hello. My Grandpa received a Bronze Star in WW2.  I’d like to know the details and also find out if he received any other medals and their details. Can someone give me some guidance on how to get this info?  Thx!                                                                                                                                                                                                                                                                                                                                                                                                                                                                                                                                                                                                                                                                                                                                                                                                                                                                                                                                                                                                                                                                                                                                                                                                                                                                                                                                                                                                                                                                                                                                 1\n",
       "Throwaway. 31/f currently transitioning to male. Joined in 2020, was great at first. Then I ended up on med board because of a foot injury. COC has been murky at best about what options I have but for now I’m on a limited detail, which for an MP equates to desk duty. \\n\\nMy family wants me to stay in, saying I don’t have much prospects outside of the army. I also have a car payment but little other debt. I’ve saved exactly $0 since I’ve been in, but plan to get a job as soon as I’m out. \\n\\nMy question is - should I get out? I’ve purposely failed my last two PT’s, and frankly I’m not motivated to try. I just want out. No one gets it. If I stay in, it’ll just be more shit work with half participation. \\n\\nAnd if I do get out, what are the prospects for me? I did some limited CNA work before getting in but not formal degree. \\n\\nWill other vets (am I even a vet if I ETS?) look at me differently or down on me? I’d love to get into private security but will this hurt my chances? \\n\\nAlso, what benefits if any will I have after I get out? \\n\\nThank you all. I know I’m a POS already for wanting to break my commitment but I’m just not built for this.                                                                                                                                                                                                                                                                                                                                                                                                                                                                                                                                            1\n",
       "Discharged from the Corps trying to go back in to be a cook. I only want a 2 year deal this time around though. And yes I know it means 2 years starting when you get to your duty station.                                                                                                                                                                                                                                                                                                                                                                                                                                                                                                                                                                                                                                                                                                                                                                                                                                                                                                                                                                                                                                                                                                                                                                                                                                                                                                                                                                                                                                                                                                                                                          1\n",
       "So basically, my grandma has bipolar and she gave it to her daughter, my mom. And than my mom gave it to me, my brother and sister didn’t develop bipolar but i did. the real thing is Ive always wanted kids, but because i got bipolar through genetics Im scared if i have kids and they will get it. I know by my own experience that its sucks and i dont want my future kids getting it and going through the struggles i did. I just wanna know if its even worth having kids. Im only 19, and i wont have kids anytime soon but its always been a big topic on my mind. \\n\\nThank you for hearing me out. ❤️\\n\\nEdit:\\nbefore i forgot to mention that both my grandma and mom do have bipolar 1, and so do I. ive never been in contact with them as i am adopted, so ive never learned much of them and how they worked with bipolar. all i know is my mom was addicted to opioids, when she gave birth to me. The only reason how i learned that i got it from genetics was when i got in contact with my biological father. \\n\\nI just wanna say thank you all for your support and all of your thoughts on this, its opened my mind to many things i can choose to do. But again thank you for hearing me out and giving me, insight in all of your view points. Making me not feel so alone about this situation. ❤️❤️                                                                                                                                                                                                                                                                                                                                                                                                                 1\n",
       "Name: count, Length: 2141, dtype: int64"
      ]
     },
     "execution_count": 233,
     "metadata": {},
     "output_type": "execute_result"
    }
   ],
   "source": [
    "agg_df['selftext'].value_counts()"
   ]
  },
  {
   "cell_type": "markdown",
   "metadata": {},
   "source": [
    "### Author Flair richtext"
   ]
  },
  {
   "cell_type": "code",
   "execution_count": 234,
   "metadata": {},
   "outputs": [],
   "source": [
    "agg_df['author_flair_richtext'].value_counts()\n",
    "agg_df.drop(columns=['author_flair_richtext'], inplace=True)"
   ]
  },
  {
   "cell_type": "markdown",
   "metadata": {},
   "source": [
    "### Author Full Name"
   ]
  },
  {
   "cell_type": "code",
   "execution_count": 235,
   "metadata": {},
   "outputs": [],
   "source": [
    "agg_df['author_fullname'].value_counts()\n",
    "agg_df.drop(columns=['author_fullname'], inplace=True)"
   ]
  },
  {
   "cell_type": "markdown",
   "metadata": {},
   "source": [
    "### Author Flair Type"
   ]
  },
  {
   "cell_type": "code",
   "execution_count": 236,
   "metadata": {},
   "outputs": [
    {
     "data": {
      "text/plain": [
       "author_flair_type\n",
       "text        11215\n",
       "richtext     1725\n",
       "Name: count, dtype: int64"
      ]
     },
     "execution_count": 236,
     "metadata": {},
     "output_type": "execute_result"
    }
   ],
   "source": [
    "agg_df['author_flair_type'].value_counts()\n"
   ]
  },
  {
   "cell_type": "markdown",
   "metadata": {},
   "source": [
    "### Original Columns"
   ]
  },
  {
   "cell_type": "code",
   "execution_count": 237,
   "metadata": {},
   "outputs": [
    {
     "name": "stdout",
     "output_type": "stream",
     "text": [
      "(13000, 20)\n"
     ]
    },
    {
     "data": {
      "text/plain": [
       "subreddit                   object\n",
       "selftext                    object\n",
       "title                       object\n",
       "link_flair_richtext         object\n",
       "subreddit_name_prefixed     object\n",
       "upvote_ratio               float64\n",
       "ups                          int64\n",
       "score                        int64\n",
       "edited                      object\n",
       "author_flair_css_class      object\n",
       "is_self                       bool\n",
       "created                    float64\n",
       "author_flair_type           object\n",
       "domain                      object\n",
       "no_follow                     bool\n",
       "over_18                       bool\n",
       "locked                        bool\n",
       "author                      object\n",
       "num_comments                 int64\n",
       "is_video                      bool\n",
       "dtype: object"
      ]
     },
     "execution_count": 237,
     "metadata": {},
     "output_type": "execute_result"
    }
   ],
   "source": [
    "print(agg_df.shape)\n",
    "agg_df.dtypes"
   ]
  },
  {
   "cell_type": "markdown",
   "metadata": {},
   "source": [
    "## Imputing missing Values"
   ]
  },
  {
   "cell_type": "markdown",
   "metadata": {},
   "source": [
    "### Author Flair CSS Class"
   ]
  },
  {
   "cell_type": "code",
   "execution_count": 238,
   "metadata": {},
   "outputs": [
    {
     "name": "stdout",
     "output_type": "stream",
     "text": [
      "Author Flair CSS Class Null is: 0\n"
     ]
    }
   ],
   "source": [
    "agg_df['author_flair_css_class'].fillna('blank', inplace=True)\n",
    "agg_df['author_flair_css_class'].value_counts()\n",
    "print(f'Author Flair CSS Class Null is: {agg_df[\"author_flair_css_class\"].isnull().sum()}')"
   ]
  },
  {
   "cell_type": "markdown",
   "metadata": {},
   "source": [
    "### Author Flair Type"
   ]
  },
  {
   "cell_type": "code",
   "execution_count": 239,
   "metadata": {},
   "outputs": [
    {
     "name": "stdout",
     "output_type": "stream",
     "text": [
      "Author Flair Type Null is: 0\n"
     ]
    }
   ],
   "source": [
    "agg_df['author_flair_type'].fillna('unknown', inplace=True)\n",
    "agg_df['author_flair_type'].value_counts()\n",
    "print(f'Author Flair Type Null is: {agg_df[\"author_flair_type\"].isnull().sum()}')"
   ]
  },
  {
   "cell_type": "markdown",
   "metadata": {},
   "source": [
    "### Self Text"
   ]
  },
  {
   "cell_type": "code",
   "execution_count": 240,
   "metadata": {},
   "outputs": [
    {
     "name": "stdout",
     "output_type": "stream",
     "text": [
      "Self Text Null is: 0\n"
     ]
    }
   ],
   "source": [
    "agg_df['selftext'].fillna('title_only', inplace=True)\n",
    "agg_df['selftext'].value_counts()\n",
    "print(f'Self Text Null is: {agg_df[\"selftext\"].isnull().sum()}')"
   ]
  },
  {
   "cell_type": "markdown",
   "metadata": {},
   "source": [
    "### Values Count"
   ]
  },
  {
   "cell_type": "code",
   "execution_count": 241,
   "metadata": {},
   "outputs": [
    {
     "data": {
      "text/plain": [
       "subreddit                  0\n",
       "selftext                   0\n",
       "num_comments               0\n",
       "author                     0\n",
       "locked                     0\n",
       "over_18                    0\n",
       "no_follow                  0\n",
       "domain                     0\n",
       "author_flair_type          0\n",
       "created                    0\n",
       "is_self                    0\n",
       "author_flair_css_class     0\n",
       "edited                     0\n",
       "score                      0\n",
       "ups                        0\n",
       "upvote_ratio               0\n",
       "subreddit_name_prefixed    0\n",
       "link_flair_richtext        0\n",
       "title                      0\n",
       "is_video                   0\n",
       "dtype: int64"
      ]
     },
     "execution_count": 241,
     "metadata": {},
     "output_type": "execute_result"
    }
   ],
   "source": [
    "agg_df.isnull().sum().sort_values(ascending=False)"
   ]
  },
  {
   "cell_type": "markdown",
   "metadata": {},
   "source": [
    "## Removing Duplicates"
   ]
  },
  {
   "cell_type": "code",
   "execution_count": 242,
   "metadata": {},
   "outputs": [
    {
     "data": {
      "text/plain": [
       "10967"
      ]
     },
     "execution_count": 242,
     "metadata": {},
     "output_type": "execute_result"
    }
   ],
   "source": [
    "agg_df.duplicated(subset=['author']).sum()"
   ]
  },
  {
   "cell_type": "code",
   "execution_count": 243,
   "metadata": {},
   "outputs": [
    {
     "data": {
      "text/plain": [
       "10568"
      ]
     },
     "execution_count": 243,
     "metadata": {},
     "output_type": "execute_result"
    }
   ],
   "source": [
    "agg_df.duplicated(subset=['title']).sum()"
   ]
  },
  {
   "cell_type": "code",
   "execution_count": 244,
   "metadata": {},
   "outputs": [
    {
     "data": {
      "text/plain": [
       "10858"
      ]
     },
     "execution_count": 244,
     "metadata": {},
     "output_type": "execute_result"
    }
   ],
   "source": [
    "agg_df.duplicated(subset=['selftext']).sum()"
   ]
  },
  {
   "cell_type": "code",
   "execution_count": 245,
   "metadata": {},
   "outputs": [
    {
     "data": {
      "text/plain": [
       "0"
      ]
     },
     "execution_count": 245,
     "metadata": {},
     "output_type": "execute_result"
    }
   ],
   "source": [
    "agg_df.drop_duplicates(subset=['selftext'], inplace=True)\n",
    "\n",
    "agg_df.duplicated(subset=['selftext']).sum()"
   ]
  },
  {
   "cell_type": "code",
   "execution_count": 246,
   "metadata": {},
   "outputs": [
    {
     "data": {
      "text/plain": [
       "(2142, 20)"
      ]
     },
     "execution_count": 246,
     "metadata": {},
     "output_type": "execute_result"
    }
   ],
   "source": [
    "agg_df.shape"
   ]
  },
  {
   "cell_type": "markdown",
   "metadata": {},
   "source": [
    "## Normalizing and Encoding"
   ]
  },
  {
   "cell_type": "code",
   "execution_count": null,
   "metadata": {},
   "outputs": [],
   "source": []
  },
  {
   "cell_type": "markdown",
   "metadata": {},
   "source": [
    "# Cleaned Data"
   ]
  },
  {
   "cell_type": "code",
   "execution_count": null,
   "metadata": {},
   "outputs": [],
   "source": []
  }
 ],
 "metadata": {
  "kernelspec": {
   "display_name": "dsi",
   "language": "python",
   "name": "python3"
  },
  "language_info": {
   "codemirror_mode": {
    "name": "ipython",
    "version": 3
   },
   "file_extension": ".py",
   "mimetype": "text/x-python",
   "name": "python",
   "nbconvert_exporter": "python",
   "pygments_lexer": "ipython3",
   "version": "3.9.18"
  }
 },
 "nbformat": 4,
 "nbformat_minor": 2
}
