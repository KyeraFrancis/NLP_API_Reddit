{
 "cells": [
  {
   "cell_type": "markdown",
   "metadata": {},
   "source": [
    "# Data Cleaning and Processing\n",
    "\n",
    "This Notebook will process the data and extract all the relevant information needed for analysis. This will include:\n",
    "- Feature Selection\n",
    "- Imputing missing values\n",
    "- Removing possible Duplicates (in case it was not properly preformed in the data collection process)\n",
    "- Normalizing and Encoding categorical variables\n",
    "\n",
    "Then the cleaned data will be exported into a format for the next step of EDA.\n"
   ]
  },
  {
   "cell_type": "markdown",
   "metadata": {},
   "source": [
    "## Import Data"
   ]
  },
  {
   "cell_type": "code",
   "execution_count": 472,
   "metadata": {},
   "outputs": [],
   "source": [
    "## Imports\n",
    "import pandas as pd\n",
    "\n",
    "## Sklearn \n",
    "from sklearn.preprocessing import  StandardScaler\n",
    "from sklearn.compose import ColumnTransformer\n",
    "\n",
    "## NLTK\n",
    "import re\n",
    "import nltk\n",
    "from nltk.corpus import stopwords\n",
    "from nltk.stem import WordNetLemmatizer\n",
    "from sklearn.model_selection import train_test_split\n",
    "from sklearn.feature_extraction.text import TfidfVectorizer\n",
    "\n",
    "#Ignore warnings\n",
    "from warnings import filterwarnings\n",
    "filterwarnings('ignore')"
   ]
  },
  {
   "cell_type": "code",
   "execution_count": 473,
   "metadata": {},
   "outputs": [
    {
     "name": "stdout",
     "output_type": "stream",
     "text": [
      "(24400, 118)\n"
     ]
    },
    {
     "data": {
      "text/html": [
       "<div>\n",
       "<style scoped>\n",
       "    .dataframe tbody tr th:only-of-type {\n",
       "        vertical-align: middle;\n",
       "    }\n",
       "\n",
       "    .dataframe tbody tr th {\n",
       "        vertical-align: top;\n",
       "    }\n",
       "\n",
       "    .dataframe thead th {\n",
       "        text-align: right;\n",
       "    }\n",
       "</style>\n",
       "<table border=\"1\" class=\"dataframe\">\n",
       "  <thead>\n",
       "    <tr style=\"text-align: right;\">\n",
       "      <th></th>\n",
       "      <th>approved_at_utc</th>\n",
       "      <th>subreddit</th>\n",
       "      <th>selftext</th>\n",
       "      <th>author_fullname</th>\n",
       "      <th>saved</th>\n",
       "      <th>mod_reason_title</th>\n",
       "      <th>gilded</th>\n",
       "      <th>clicked</th>\n",
       "      <th>title</th>\n",
       "      <th>link_flair_richtext</th>\n",
       "      <th>...</th>\n",
       "      <th>preview</th>\n",
       "      <th>is_gallery</th>\n",
       "      <th>media_metadata</th>\n",
       "      <th>gallery_data</th>\n",
       "      <th>author_cakeday</th>\n",
       "      <th>link_flair_template_id</th>\n",
       "      <th>poll_data</th>\n",
       "      <th>crosspost_parent_list</th>\n",
       "      <th>crosspost_parent</th>\n",
       "      <th>collections</th>\n",
       "    </tr>\n",
       "  </thead>\n",
       "  <tbody>\n",
       "    <tr>\n",
       "      <th>0</th>\n",
       "      <td>NaN</td>\n",
       "      <td>Army</td>\n",
       "      <td>This was a convo I had with one of my buddies ...</td>\n",
       "      <td>t2_3vmh30ad</td>\n",
       "      <td>False</td>\n",
       "      <td>NaN</td>\n",
       "      <td>0</td>\n",
       "      <td>False</td>\n",
       "      <td>If you could create a new MRE based on a Fast ...</td>\n",
       "      <td>[]</td>\n",
       "      <td>...</td>\n",
       "      <td>NaN</td>\n",
       "      <td>NaN</td>\n",
       "      <td>NaN</td>\n",
       "      <td>NaN</td>\n",
       "      <td>NaN</td>\n",
       "      <td>NaN</td>\n",
       "      <td>NaN</td>\n",
       "      <td>NaN</td>\n",
       "      <td>NaN</td>\n",
       "      <td>NaN</td>\n",
       "    </tr>\n",
       "    <tr>\n",
       "      <th>1</th>\n",
       "      <td>NaN</td>\n",
       "      <td>Army</td>\n",
       "      <td>BLUF: how do you overcome imposter syndrome?\\n...</td>\n",
       "      <td>t2_9mqncmmb</td>\n",
       "      <td>False</td>\n",
       "      <td>NaN</td>\n",
       "      <td>0</td>\n",
       "      <td>False</td>\n",
       "      <td>how do you even Army?</td>\n",
       "      <td>[]</td>\n",
       "      <td>...</td>\n",
       "      <td>NaN</td>\n",
       "      <td>NaN</td>\n",
       "      <td>NaN</td>\n",
       "      <td>NaN</td>\n",
       "      <td>NaN</td>\n",
       "      <td>NaN</td>\n",
       "      <td>NaN</td>\n",
       "      <td>NaN</td>\n",
       "      <td>NaN</td>\n",
       "      <td>NaN</td>\n",
       "    </tr>\n",
       "    <tr>\n",
       "      <th>2</th>\n",
       "      <td>NaN</td>\n",
       "      <td>Army</td>\n",
       "      <td>Long story short, my estranged (soon to be ex)...</td>\n",
       "      <td>t2_ag69n7u7</td>\n",
       "      <td>False</td>\n",
       "      <td>NaN</td>\n",
       "      <td>0</td>\n",
       "      <td>False</td>\n",
       "      <td>Command Directed No-Contact Order?</td>\n",
       "      <td>[]</td>\n",
       "      <td>...</td>\n",
       "      <td>NaN</td>\n",
       "      <td>NaN</td>\n",
       "      <td>NaN</td>\n",
       "      <td>NaN</td>\n",
       "      <td>NaN</td>\n",
       "      <td>NaN</td>\n",
       "      <td>NaN</td>\n",
       "      <td>NaN</td>\n",
       "      <td>NaN</td>\n",
       "      <td>NaN</td>\n",
       "    </tr>\n",
       "    <tr>\n",
       "      <th>3</th>\n",
       "      <td>NaN</td>\n",
       "      <td>Army</td>\n",
       "      <td>\\nMy husband is 35T, and just graduated AIT. W...</td>\n",
       "      <td>t2_lb56g2zm</td>\n",
       "      <td>False</td>\n",
       "      <td>NaN</td>\n",
       "      <td>0</td>\n",
       "      <td>False</td>\n",
       "      <td>Anyone 35T?</td>\n",
       "      <td>[]</td>\n",
       "      <td>...</td>\n",
       "      <td>NaN</td>\n",
       "      <td>NaN</td>\n",
       "      <td>NaN</td>\n",
       "      <td>NaN</td>\n",
       "      <td>NaN</td>\n",
       "      <td>NaN</td>\n",
       "      <td>NaN</td>\n",
       "      <td>NaN</td>\n",
       "      <td>NaN</td>\n",
       "      <td>NaN</td>\n",
       "    </tr>\n",
       "    <tr>\n",
       "      <th>4</th>\n",
       "      <td>NaN</td>\n",
       "      <td>Army</td>\n",
       "      <td>I could use some advice on going recruiting. I...</td>\n",
       "      <td>t2_i4rellgt</td>\n",
       "      <td>False</td>\n",
       "      <td>NaN</td>\n",
       "      <td>0</td>\n",
       "      <td>False</td>\n",
       "      <td>Thinking of going recruiter as brand new E5</td>\n",
       "      <td>[]</td>\n",
       "      <td>...</td>\n",
       "      <td>NaN</td>\n",
       "      <td>NaN</td>\n",
       "      <td>NaN</td>\n",
       "      <td>NaN</td>\n",
       "      <td>NaN</td>\n",
       "      <td>NaN</td>\n",
       "      <td>NaN</td>\n",
       "      <td>NaN</td>\n",
       "      <td>NaN</td>\n",
       "      <td>NaN</td>\n",
       "    </tr>\n",
       "  </tbody>\n",
       "</table>\n",
       "<p>5 rows × 118 columns</p>\n",
       "</div>"
      ],
      "text/plain": [
       "   approved_at_utc subreddit  \\\n",
       "0              NaN      Army   \n",
       "1              NaN      Army   \n",
       "2              NaN      Army   \n",
       "3              NaN      Army   \n",
       "4              NaN      Army   \n",
       "\n",
       "                                            selftext author_fullname  saved  \\\n",
       "0  This was a convo I had with one of my buddies ...     t2_3vmh30ad  False   \n",
       "1  BLUF: how do you overcome imposter syndrome?\\n...     t2_9mqncmmb  False   \n",
       "2  Long story short, my estranged (soon to be ex)...     t2_ag69n7u7  False   \n",
       "3  \\nMy husband is 35T, and just graduated AIT. W...     t2_lb56g2zm  False   \n",
       "4  I could use some advice on going recruiting. I...     t2_i4rellgt  False   \n",
       "\n",
       "   mod_reason_title  gilded  clicked  \\\n",
       "0               NaN       0    False   \n",
       "1               NaN       0    False   \n",
       "2               NaN       0    False   \n",
       "3               NaN       0    False   \n",
       "4               NaN       0    False   \n",
       "\n",
       "                                               title link_flair_richtext  ...  \\\n",
       "0  If you could create a new MRE based on a Fast ...                  []  ...   \n",
       "1                              how do you even Army?                  []  ...   \n",
       "2                 Command Directed No-Contact Order?                  []  ...   \n",
       "3                                        Anyone 35T?                  []  ...   \n",
       "4        Thinking of going recruiter as brand new E5                  []  ...   \n",
       "\n",
       "  preview  is_gallery  media_metadata gallery_data  author_cakeday  \\\n",
       "0     NaN         NaN             NaN          NaN             NaN   \n",
       "1     NaN         NaN             NaN          NaN             NaN   \n",
       "2     NaN         NaN             NaN          NaN             NaN   \n",
       "3     NaN         NaN             NaN          NaN             NaN   \n",
       "4     NaN         NaN             NaN          NaN             NaN   \n",
       "\n",
       "   link_flair_template_id  poll_data  crosspost_parent_list crosspost_parent  \\\n",
       "0                     NaN        NaN                    NaN              NaN   \n",
       "1                     NaN        NaN                    NaN              NaN   \n",
       "2                     NaN        NaN                    NaN              NaN   \n",
       "3                     NaN        NaN                    NaN              NaN   \n",
       "4                     NaN        NaN                    NaN              NaN   \n",
       "\n",
       "   collections  \n",
       "0          NaN  \n",
       "1          NaN  \n",
       "2          NaN  \n",
       "3          NaN  \n",
       "4          NaN  \n",
       "\n",
       "[5 rows x 118 columns]"
      ]
     },
     "execution_count": 473,
     "metadata": {},
     "output_type": "execute_result"
    }
   ],
   "source": [
    "## Load data\n",
    "agg_df = pd.read_csv('../2_EDA/data/00_master.csv')\n",
    "\n",
    "print(agg_df.shape)\n",
    "agg_df.head()"
   ]
  },
  {
   "cell_type": "markdown",
   "metadata": {},
   "source": [
    "## Data Statistics"
   ]
  },
  {
   "cell_type": "code",
   "execution_count": 474,
   "metadata": {},
   "outputs": [
    {
     "data": {
      "text/plain": [
       "Index(['approved_at_utc', 'subreddit', 'selftext', 'author_fullname', 'saved',\n",
       "       'mod_reason_title', 'gilded', 'clicked', 'title', 'link_flair_richtext',\n",
       "       ...\n",
       "       'preview', 'is_gallery', 'media_metadata', 'gallery_data',\n",
       "       'author_cakeday', 'link_flair_template_id', 'poll_data',\n",
       "       'crosspost_parent_list', 'crosspost_parent', 'collections'],\n",
       "      dtype='object', length=118)"
      ]
     },
     "execution_count": 474,
     "metadata": {},
     "output_type": "execute_result"
    }
   ],
   "source": [
    "agg_df.columns"
   ]
  },
  {
   "cell_type": "code",
   "execution_count": 475,
   "metadata": {},
   "outputs": [
    {
     "name": "stdout",
     "output_type": "stream",
     "text": [
      "<class 'pandas.core.frame.DataFrame'>\n",
      "RangeIndex: 24400 entries, 0 to 24399\n",
      "Columns: 118 entries, approved_at_utc to collections\n",
      "dtypes: bool(28), float64(26), int64(8), object(56)\n",
      "memory usage: 17.4+ MB\n"
     ]
    }
   ],
   "source": [
    "agg_df.info()"
   ]
  },
  {
   "cell_type": "code",
   "execution_count": 476,
   "metadata": {},
   "outputs": [
    {
     "data": {
      "text/plain": [
       "approved_at_utc           float64\n",
       "subreddit                  object\n",
       "selftext                   object\n",
       "author_fullname            object\n",
       "saved                        bool\n",
       "                           ...   \n",
       "link_flair_template_id     object\n",
       "poll_data                  object\n",
       "crosspost_parent_list      object\n",
       "crosspost_parent           object\n",
       "collections                object\n",
       "Length: 118, dtype: object"
      ]
     },
     "execution_count": 476,
     "metadata": {},
     "output_type": "execute_result"
    }
   ],
   "source": [
    "agg_df.dtypes"
   ]
  },
  {
   "cell_type": "markdown",
   "metadata": {},
   "source": [
    "## Feature Selection"
   ]
  },
  {
   "cell_type": "markdown",
   "metadata": {},
   "source": [
    "### Dropped Columns"
   ]
  },
  {
   "cell_type": "code",
   "execution_count": 477,
   "metadata": {},
   "outputs": [],
   "source": [
    "# Drop columns: 'thumbnail_width', 'media_embed' and 74 other columns\n",
    "agg_df = agg_df.drop(columns=['thumbnail_width', 'media_embed', 'author_flair_template_id', 'is_original_content', 'user_reports', 'secure_media', 'is_reddit_media_domain', 'is_meta', 'category', 'secure_media_embed', 'link_flair_text', 'can_mod_post', 'approved_by', 'is_created_from_ads_ui', 'author_premium', 'gildings', 'content_categories', 'mod_note', 'wls', 'removed_by_category', 'banned_by', 'link_flair_type', 'allow_live_comments', 'selftext_html', 'likes', 'suggested_sort', 'banned_at_utc', 'view_count', 'archived', 'is_crosspostable', 'pinned', 'all_awardings', 'awarders', 'media_only', 'can_gild', 'spoiler', 'treatment_tags', 'visited', 'removed_by', 'num_reports', 'distinguished', 'subreddit_id', 'author_is_blocked', 'mod_reason_by', 'removal_reason', 'link_flair_background_color', 'id', 'is_robot_indexable', 'report_reasons', 'discussion_type', 'send_replies', 'whitelist_status', 'contest_mode', 'mod_reports', 'author_patreon_flair', 'author_flair_text_color', 'permalink', 'parent_whitelist_status', 'stickied', 'url', 'subreddit_subscribers', 'created_utc', 'num_crossposts', 'media', 'post_hint', 'url_overridden_by_dest', 'preview', 'is_gallery', 'media_metadata', 'gallery_data', 'author_cakeday', 'link_flair_template_id', 'poll_data', 'crosspost_parent_list', 'crosspost_parent', 'collections', 'approved_at_utc', 'saved', 'mod_reason_title', 'gilded', 'clicked', 'hidden', 'pwls', 'link_flair_css_class', 'downs', 'thumbnail_height', 'top_awarded_type', 'hide_score', 'name', 'quarantine', 'link_flair_text_color', 'author_flair_background_color', 'subreddit_type', 'total_awards_received'])"
   ]
  },
  {
   "cell_type": "code",
   "execution_count": 478,
   "metadata": {},
   "outputs": [
    {
     "data": {
      "text/plain": [
       "author_flair_css_class     22269\n",
       "author_flair_text          18110\n",
       "thumbnail                   4900\n",
       "selftext                    3597\n",
       "author_flair_richtext        105\n",
       "author_fullname              105\n",
       "author_flair_type            105\n",
       "created                        0\n",
       "num_comments                   0\n",
       "author                         0\n",
       "locked                         0\n",
       "over_18                        0\n",
       "no_follow                      0\n",
       "domain                         0\n",
       "subreddit                      0\n",
       "is_self                        0\n",
       "edited                         0\n",
       "score                          0\n",
       "ups                            0\n",
       "upvote_ratio                   0\n",
       "subreddit_name_prefixed        0\n",
       "link_flair_richtext            0\n",
       "title                          0\n",
       "is_video                       0\n",
       "dtype: int64"
      ]
     },
     "execution_count": 478,
     "metadata": {},
     "output_type": "execute_result"
    }
   ],
   "source": [
    "agg_df.isnull().sum().sort_values(ascending=False)\n"
   ]
  },
  {
   "cell_type": "markdown",
   "metadata": {},
   "source": [
    "### Author Flair CSS Class"
   ]
  },
  {
   "cell_type": "code",
   "execution_count": 479,
   "metadata": {},
   "outputs": [
    {
     "data": {
      "text/plain": [
       "author_flair_css_class\n",
       "camper                      3\n",
       "recruiter                   5\n",
       "electronicwarfare           6\n",
       "spc                         8\n",
       "jag                         8\n",
       "none                        8\n",
       "Chaplain                    8\n",
       "darkgoldenrod               8\n",
       "civilaffairs               12\n",
       "chemical                   13\n",
       "medicalservice             14\n",
       "a                          16\n",
       "AquisitionCorps            24\n",
       "Cyber                      28\n",
       "cavalry                    30\n",
       "publicaffairs              32\n",
       "psycologicaloperations     40\n",
       "transportation             42\n",
       "medicalspecialist          44\n",
       "armor                      54\n",
       "militarypolice             56\n",
       "airdefenseartillery        63\n",
       "fieldartillery             66\n",
       "adjutantgeneral            73\n",
       "quartermaster              74\n",
       "engineer                   82\n",
       "medical                   114\n",
       "ordnance                  117\n",
       "aviation                  142\n",
       "militaryintelligence      152\n",
       "signal                    203\n",
       "blank                     278\n",
       "infantry                  308\n",
       "Name: count, dtype: int64"
      ]
     },
     "execution_count": 479,
     "metadata": {},
     "output_type": "execute_result"
    }
   ],
   "source": [
    "#Replace null values with 'blank' in 'author_flair_css_class'\n",
    "agg_df['author_flair_css_class'].value_counts(ascending=True)\n"
   ]
  },
  {
   "cell_type": "markdown",
   "metadata": {},
   "source": [
    "### Author flair text"
   ]
  },
  {
   "cell_type": "code",
   "execution_count": 480,
   "metadata": {},
   "outputs": [],
   "source": [
    "agg_df['author_flair_text'].value_counts()\n",
    "agg_df.drop(columns=['author_flair_text'], inplace=True)"
   ]
  },
  {
   "cell_type": "markdown",
   "metadata": {},
   "source": [
    "### Thumbnail"
   ]
  },
  {
   "cell_type": "code",
   "execution_count": 481,
   "metadata": {},
   "outputs": [],
   "source": [
    "agg_df['thumbnail'].value_counts()\n",
    "agg_df.drop(columns=['thumbnail'], inplace=True)"
   ]
  },
  {
   "cell_type": "markdown",
   "metadata": {},
   "source": [
    "### Self Text"
   ]
  },
  {
   "cell_type": "code",
   "execution_count": 482,
   "metadata": {},
   "outputs": [
    {
     "data": {
      "text/plain": [
       "selftext\n",
       "I used to be classmates, head mates and bunk mates with this guy.  Soon after getting out in 2004 a friend sent me a link to one of his trial hearings from the same year. Looks like he finally got a sentencing. He got a BCD for popping positive on a urinalysis for herbs. He would always wear tie dyed under his cammies. I was always trying to square his ass away but he was lost. Super nice but had some demons apparently. \\n\\nhttps://triblive.com/local/man-who-killed-upper-st-clair-woman-resentenced-to-life-in-prison-instead-of-death/                                                                                                                                                                                                                                                                                                                                                                                                                                                                                                                                                                                                                                                                                                                                                                                                                                   32\n",
       "Just wanted to visit Camp Horno for the first time since being out and visit the boys up top again. Thing is I’ve forgotten which exact trail / fire break that leads you up its been so long. Id be thankful for someone to pm me maybe some sort of explained location of the start trail. Thank you in advance.                                                                                                                                                                                                                                                                                                                                                                                                                                                                                                                                                                                                                                                                                                                                                                                                                                                                                                                                                                                                                                                                           32\n",
       "What's it like working for PMO as a civilian officer?                                                                                                                                                                                                                                                                                                                                                                                                                                                                                                                                                                                                                                                                                                                                                                                                                                                                                                                                                                                                                                                                                                                                                                                                                                                                                                                                        32\n",
       "What does the packet of a NOS(Notice of Seperation) look like? If anyone can show a picture or attach a pdf that would be great                                                                                                                                                                                                                                                                                                                                                                                                                                                                                                                                                                                                                                                                                                                                                                                                                                                                                                                                                                                                                                                                                                                                                                                                                                                              32\n",
       "So when fresh faced idiot babies (2nd Lts) go through the Basic School there is a peer evaluation process that encourages back stabbing and other such nonsense. Part of it is a list of attributes and one-word descriptors you have to assign to everyone in your platoon. I actively campaigned to get the “springbutt” moniker. I was proud of 85% of the platoon ranking that as the first thing they thought of when looking at me. \\n\\nAnyway, I’m trying to find that form, anyone have a copy?                                                                                                                                                                                                                                                                                                                                                                                                                                                                                                                                                                                                                                                                                                                                                                                                                                                                                      32\n",
       "                                                                                                                                                                                                                                                                                                                                                                                                                                                                                                                                                                                                                                                                                                                                                                                                                                                                                                                                                                                                                                                                                                                                                                                                                                                                                                                                                                                             ..\n",
       "Let's hear the story.                                                                                                                                                                                                                                                                                                                                                                                                                                                                                                                                                                                                                                                                                                                                                                                                                                                                                                                                                                                                                                                                                                                                                                                                                                                                                                                                                                         1\n",
       "Prior service joining after a while. I’ve been on the couch for a few years and my job is sedentary. When does prior service take the acft?                                                                                                                                                                                                                                                                                                                                                                                                                                                                                                                                                                                                                                                                                                                                                                                                                                                                                                                                                                                                                                                                                                                                                                                                                                                   1\n",
       "Ok, so bear with me here. \\n\\nI’m conflicted because I have a couple of options that I’m weighing out but I ultimately want to go Civil Affairs. I have the option to do SMP Cadet (something like ROTC) and essentially sign with an MOS (68W), finish up my school after about 3yrs but with this route, it requires that I commission as an officer upon graduation (complete either 8 years reserve upon graduation or compete for Active Duty [4yrs]), and as far as going CA I’m aware that I’d be looking at around another 3-4 more years before I’d even be able to put in a packet for a CA Officer. \\n\\nOR\\n\\nI can directly enlist as a 38B in the Reserves and wait some time (say 2-3 years) and then try to go Active Duty and attend CAAS. During this time in the reserves I’d also like to finish my school in person (if possible), I’m guessing this way I won’t have to go the Officer route.\\n\\nAlso, how long would it take me to reach the required rank of SPC in the reserves component?\\n\\nOR\\n\\nI’ve thought about the prospect of enlisting Active Duty as a 35P (which I’m aware I’d have to go 35W), gaining valuable language skills and then putting a packet in for Civil Affairs when I reach the required rank (not sure on the timeframe). \\n\\nAny guidance or suggestions are appreciated. Which of these makes more sense?\\n\\n\\nEdit: specificity      1\n",
       "New ADA LT here heading to bolc soon. I am seeking advice about what things to do and what things to avoid to make my life easier or not unnecessary hard. As far as I know, I must avoid the Panther battalion at all costs. I have heard the stories and  I am hoping for the best while also preparing myself for 4 miserable years in this important and growing branch.                                                                                                                                                                                                                                                                                                                                                                                                                                                                                                                                                                                                                                                                                                                                                                                                                                                                                                                                                                                                                  1\n",
       "Does anybody know if movers will come to my storage unit and pack up the stuff from it? It would only be the storage unit and nothing else cause I would do a partial PPM move. I live in a 5th wheel so it would just be easier for them to go to my storage unit and pack it up for me. If anybody has any experience with this feel free to share.                                                                                                                                                                                                                                                                                                                                                                                                                                                                                                                                                                                                                                                                                                                                                                                                                                                                                                                                                                                                                                         1\n",
       "Name: count, Length: 2514, dtype: int64"
      ]
     },
     "execution_count": 482,
     "metadata": {},
     "output_type": "execute_result"
    }
   ],
   "source": [
    "agg_df['selftext'].value_counts()"
   ]
  },
  {
   "cell_type": "markdown",
   "metadata": {},
   "source": [
    "### Author Flair richtext"
   ]
  },
  {
   "cell_type": "code",
   "execution_count": 483,
   "metadata": {},
   "outputs": [],
   "source": [
    "agg_df['author_flair_richtext'].value_counts()\n",
    "agg_df.drop(columns=['author_flair_richtext'], inplace=True)"
   ]
  },
  {
   "cell_type": "markdown",
   "metadata": {},
   "source": [
    "### Author Full Name"
   ]
  },
  {
   "cell_type": "code",
   "execution_count": 484,
   "metadata": {},
   "outputs": [],
   "source": [
    "agg_df['author_fullname'].value_counts()\n",
    "agg_df.drop(columns=['author_fullname'], inplace=True)"
   ]
  },
  {
   "cell_type": "markdown",
   "metadata": {},
   "source": [
    "### Author Flair Type"
   ]
  },
  {
   "cell_type": "code",
   "execution_count": 485,
   "metadata": {},
   "outputs": [
    {
     "data": {
      "text/plain": [
       "author_flair_type\n",
       "text        21127\n",
       "richtext     3168\n",
       "Name: count, dtype: int64"
      ]
     },
     "execution_count": 485,
     "metadata": {},
     "output_type": "execute_result"
    }
   ],
   "source": [
    "agg_df['author_flair_type'].value_counts()\n"
   ]
  },
  {
   "cell_type": "markdown",
   "metadata": {},
   "source": [
    "### Original Columns"
   ]
  },
  {
   "cell_type": "code",
   "execution_count": 486,
   "metadata": {},
   "outputs": [
    {
     "name": "stdout",
     "output_type": "stream",
     "text": [
      "(24400, 20)\n"
     ]
    },
    {
     "data": {
      "text/plain": [
       "subreddit                   object\n",
       "selftext                    object\n",
       "title                       object\n",
       "link_flair_richtext         object\n",
       "subreddit_name_prefixed     object\n",
       "upvote_ratio               float64\n",
       "ups                          int64\n",
       "score                        int64\n",
       "edited                      object\n",
       "author_flair_css_class      object\n",
       "is_self                       bool\n",
       "created                    float64\n",
       "author_flair_type           object\n",
       "domain                      object\n",
       "no_follow                     bool\n",
       "over_18                       bool\n",
       "locked                        bool\n",
       "author                      object\n",
       "num_comments                 int64\n",
       "is_video                      bool\n",
       "dtype: object"
      ]
     },
     "execution_count": 486,
     "metadata": {},
     "output_type": "execute_result"
    }
   ],
   "source": [
    "print(agg_df.shape)\n",
    "agg_df.dtypes"
   ]
  },
  {
   "cell_type": "markdown",
   "metadata": {},
   "source": [
    "## Imputing missing Values"
   ]
  },
  {
   "cell_type": "markdown",
   "metadata": {},
   "source": [
    "### Author Flair CSS Class"
   ]
  },
  {
   "cell_type": "code",
   "execution_count": 487,
   "metadata": {},
   "outputs": [
    {
     "name": "stdout",
     "output_type": "stream",
     "text": [
      "Author Flair CSS Class Null is: 0\n"
     ]
    }
   ],
   "source": [
    "agg_df['author_flair_css_class'].fillna('blank', inplace=True)\n",
    "agg_df['author_flair_css_class'].value_counts()\n",
    "print(f'Author Flair CSS Class Null is: {agg_df[\"author_flair_css_class\"].isnull().sum()}')"
   ]
  },
  {
   "cell_type": "markdown",
   "metadata": {},
   "source": [
    "### Author Flair Type"
   ]
  },
  {
   "cell_type": "code",
   "execution_count": 488,
   "metadata": {},
   "outputs": [
    {
     "name": "stdout",
     "output_type": "stream",
     "text": [
      "Author Flair Type Null is: 0\n"
     ]
    }
   ],
   "source": [
    "agg_df['author_flair_type'].fillna('unknown', inplace=True)\n",
    "agg_df['author_flair_type'].value_counts()\n",
    "print(f'Author Flair Type Null is: {agg_df[\"author_flair_type\"].isnull().sum()}')"
   ]
  },
  {
   "cell_type": "markdown",
   "metadata": {},
   "source": [
    "### Self Text"
   ]
  },
  {
   "cell_type": "code",
   "execution_count": 489,
   "metadata": {},
   "outputs": [
    {
     "name": "stdout",
     "output_type": "stream",
     "text": [
      "Self Text Null is: 0\n"
     ]
    }
   ],
   "source": [
    "agg_df['selftext'].fillna('title_only', inplace=True)\n",
    "agg_df['selftext'].value_counts()\n",
    "print(f'Self Text Null is: {agg_df[\"selftext\"].isnull().sum()}')"
   ]
  },
  {
   "cell_type": "markdown",
   "metadata": {},
   "source": [
    "### Values Count"
   ]
  },
  {
   "cell_type": "code",
   "execution_count": 490,
   "metadata": {},
   "outputs": [
    {
     "data": {
      "text/plain": [
       "subreddit                  0\n",
       "selftext                   0\n",
       "num_comments               0\n",
       "author                     0\n",
       "locked                     0\n",
       "over_18                    0\n",
       "no_follow                  0\n",
       "domain                     0\n",
       "author_flair_type          0\n",
       "created                    0\n",
       "is_self                    0\n",
       "author_flair_css_class     0\n",
       "edited                     0\n",
       "score                      0\n",
       "ups                        0\n",
       "upvote_ratio               0\n",
       "subreddit_name_prefixed    0\n",
       "link_flair_richtext        0\n",
       "title                      0\n",
       "is_video                   0\n",
       "dtype: int64"
      ]
     },
     "execution_count": 490,
     "metadata": {},
     "output_type": "execute_result"
    }
   ],
   "source": [
    "agg_df.isnull().sum().sort_values(ascending=False)"
   ]
  },
  {
   "cell_type": "markdown",
   "metadata": {},
   "source": [
    "## Removing Duplicates"
   ]
  },
  {
   "cell_type": "code",
   "execution_count": 491,
   "metadata": {},
   "outputs": [
    {
     "data": {
      "text/plain": [
       "22059"
      ]
     },
     "execution_count": 491,
     "metadata": {},
     "output_type": "execute_result"
    }
   ],
   "source": [
    "agg_df.duplicated(subset=['author']).sum()"
   ]
  },
  {
   "cell_type": "code",
   "execution_count": 492,
   "metadata": {},
   "outputs": [
    {
     "data": {
      "text/plain": [
       "21569"
      ]
     },
     "execution_count": 492,
     "metadata": {},
     "output_type": "execute_result"
    }
   ],
   "source": [
    "agg_df.duplicated(subset=['title']).sum()"
   ]
  },
  {
   "cell_type": "code",
   "execution_count": 493,
   "metadata": {},
   "outputs": [
    {
     "data": {
      "text/plain": [
       "21885"
      ]
     },
     "execution_count": 493,
     "metadata": {},
     "output_type": "execute_result"
    }
   ],
   "source": [
    "agg_df.duplicated(subset=['selftext']).sum()"
   ]
  },
  {
   "cell_type": "code",
   "execution_count": 494,
   "metadata": {},
   "outputs": [
    {
     "data": {
      "text/plain": [
       "0"
      ]
     },
     "execution_count": 494,
     "metadata": {},
     "output_type": "execute_result"
    }
   ],
   "source": [
    "agg_df.drop_duplicates(subset=['selftext'], inplace=True)\n",
    "\n",
    "agg_df.duplicated(subset=['selftext']).sum()"
   ]
  },
  {
   "cell_type": "code",
   "execution_count": 495,
   "metadata": {},
   "outputs": [
    {
     "data": {
      "text/plain": [
       "(2515, 20)"
      ]
     },
     "execution_count": 495,
     "metadata": {},
     "output_type": "execute_result"
    }
   ],
   "source": [
    "agg_df.shape"
   ]
  },
  {
   "cell_type": "code",
   "execution_count": 496,
   "metadata": {},
   "outputs": [
    {
     "data": {
      "text/plain": [
       "subreddit                  0\n",
       "selftext                   0\n",
       "num_comments               0\n",
       "author                     0\n",
       "locked                     0\n",
       "over_18                    0\n",
       "no_follow                  0\n",
       "domain                     0\n",
       "author_flair_type          0\n",
       "created                    0\n",
       "is_self                    0\n",
       "author_flair_css_class     0\n",
       "edited                     0\n",
       "score                      0\n",
       "ups                        0\n",
       "upvote_ratio               0\n",
       "subreddit_name_prefixed    0\n",
       "link_flair_richtext        0\n",
       "title                      0\n",
       "is_video                   0\n",
       "dtype: int64"
      ]
     },
     "execution_count": 496,
     "metadata": {},
     "output_type": "execute_result"
    }
   ],
   "source": [
    "agg_df.isnull().sum().sort_values(ascending=False)"
   ]
  },
  {
   "cell_type": "markdown",
   "metadata": {},
   "source": [
    "## Normalizing and Encoding"
   ]
  },
  {
   "cell_type": "code",
   "execution_count": 497,
   "metadata": {},
   "outputs": [
    {
     "data": {
      "text/plain": [
       "subreddit                   object\n",
       "selftext                    object\n",
       "title                       object\n",
       "link_flair_richtext         object\n",
       "subreddit_name_prefixed     object\n",
       "upvote_ratio               float64\n",
       "ups                          int64\n",
       "score                        int64\n",
       "edited                      object\n",
       "author_flair_css_class      object\n",
       "is_self                       bool\n",
       "created                    float64\n",
       "author_flair_type           object\n",
       "domain                      object\n",
       "no_follow                     bool\n",
       "over_18                       bool\n",
       "locked                        bool\n",
       "author                      object\n",
       "num_comments                 int64\n",
       "is_video                      bool\n",
       "dtype: object"
      ]
     },
     "execution_count": 497,
     "metadata": {},
     "output_type": "execute_result"
    }
   ],
   "source": [
    "agg_df.dtypes"
   ]
  },
  {
   "cell_type": "code",
   "execution_count": 498,
   "metadata": {},
   "outputs": [
    {
     "data": {
      "text/html": [
       "<div>\n",
       "<style scoped>\n",
       "    .dataframe tbody tr th:only-of-type {\n",
       "        vertical-align: middle;\n",
       "    }\n",
       "\n",
       "    .dataframe tbody tr th {\n",
       "        vertical-align: top;\n",
       "    }\n",
       "\n",
       "    .dataframe thead th {\n",
       "        text-align: right;\n",
       "    }\n",
       "</style>\n",
       "<table border=\"1\" class=\"dataframe\">\n",
       "  <thead>\n",
       "    <tr style=\"text-align: right;\">\n",
       "      <th></th>\n",
       "      <th>subreddit</th>\n",
       "      <th>selftext</th>\n",
       "      <th>title</th>\n",
       "      <th>link_flair_richtext</th>\n",
       "      <th>subreddit_name_prefixed</th>\n",
       "      <th>upvote_ratio</th>\n",
       "      <th>ups</th>\n",
       "      <th>score</th>\n",
       "      <th>edited</th>\n",
       "      <th>author_flair_css_class</th>\n",
       "      <th>is_self</th>\n",
       "      <th>created</th>\n",
       "      <th>author_flair_type</th>\n",
       "      <th>domain</th>\n",
       "      <th>no_follow</th>\n",
       "      <th>over_18</th>\n",
       "      <th>locked</th>\n",
       "      <th>author</th>\n",
       "      <th>num_comments</th>\n",
       "      <th>is_video</th>\n",
       "    </tr>\n",
       "  </thead>\n",
       "  <tbody>\n",
       "    <tr>\n",
       "      <th>0</th>\n",
       "      <td>Army</td>\n",
       "      <td>This was a convo I had with one of my buddies ...</td>\n",
       "      <td>If you could create a new MRE based on a Fast ...</td>\n",
       "      <td>[]</td>\n",
       "      <td>r/army</td>\n",
       "      <td>1.00</td>\n",
       "      <td>3</td>\n",
       "      <td>3</td>\n",
       "      <td>False</td>\n",
       "      <td>blank</td>\n",
       "      <td>True</td>\n",
       "      <td>1.703376e+09</td>\n",
       "      <td>text</td>\n",
       "      <td>self.army</td>\n",
       "      <td>False</td>\n",
       "      <td>False</td>\n",
       "      <td>False</td>\n",
       "      <td>Mariostar16</td>\n",
       "      <td>3</td>\n",
       "      <td>False</td>\n",
       "    </tr>\n",
       "    <tr>\n",
       "      <th>1</th>\n",
       "      <td>Army</td>\n",
       "      <td>BLUF: how do you overcome imposter syndrome?\\n...</td>\n",
       "      <td>how do you even Army?</td>\n",
       "      <td>[]</td>\n",
       "      <td>r/army</td>\n",
       "      <td>0.57</td>\n",
       "      <td>1</td>\n",
       "      <td>1</td>\n",
       "      <td>False</td>\n",
       "      <td>airdefenseartillery</td>\n",
       "      <td>True</td>\n",
       "      <td>1.703375e+09</td>\n",
       "      <td>richtext</td>\n",
       "      <td>self.army</td>\n",
       "      <td>True</td>\n",
       "      <td>False</td>\n",
       "      <td>False</td>\n",
       "      <td>Ok-Philosopher5533</td>\n",
       "      <td>4</td>\n",
       "      <td>False</td>\n",
       "    </tr>\n",
       "    <tr>\n",
       "      <th>2</th>\n",
       "      <td>Army</td>\n",
       "      <td>Long story short, my estranged (soon to be ex)...</td>\n",
       "      <td>Command Directed No-Contact Order?</td>\n",
       "      <td>[]</td>\n",
       "      <td>r/army</td>\n",
       "      <td>1.00</td>\n",
       "      <td>2</td>\n",
       "      <td>2</td>\n",
       "      <td>False</td>\n",
       "      <td>blank</td>\n",
       "      <td>True</td>\n",
       "      <td>1.703373e+09</td>\n",
       "      <td>text</td>\n",
       "      <td>self.army</td>\n",
       "      <td>False</td>\n",
       "      <td>False</td>\n",
       "      <td>False</td>\n",
       "      <td>skywri8293</td>\n",
       "      <td>4</td>\n",
       "      <td>False</td>\n",
       "    </tr>\n",
       "    <tr>\n",
       "      <th>3</th>\n",
       "      <td>Army</td>\n",
       "      <td>\\nMy husband is 35T, and just graduated AIT. W...</td>\n",
       "      <td>Anyone 35T?</td>\n",
       "      <td>[]</td>\n",
       "      <td>r/army</td>\n",
       "      <td>0.84</td>\n",
       "      <td>4</td>\n",
       "      <td>4</td>\n",
       "      <td>False</td>\n",
       "      <td>blank</td>\n",
       "      <td>True</td>\n",
       "      <td>1.703372e+09</td>\n",
       "      <td>text</td>\n",
       "      <td>self.army</td>\n",
       "      <td>False</td>\n",
       "      <td>False</td>\n",
       "      <td>False</td>\n",
       "      <td>Deep-Ad1124</td>\n",
       "      <td>8</td>\n",
       "      <td>False</td>\n",
       "    </tr>\n",
       "    <tr>\n",
       "      <th>4</th>\n",
       "      <td>Army</td>\n",
       "      <td>I could use some advice on going recruiting. I...</td>\n",
       "      <td>Thinking of going recruiter as brand new E5</td>\n",
       "      <td>[]</td>\n",
       "      <td>r/army</td>\n",
       "      <td>1.00</td>\n",
       "      <td>2</td>\n",
       "      <td>2</td>\n",
       "      <td>False</td>\n",
       "      <td>blank</td>\n",
       "      <td>True</td>\n",
       "      <td>1.703371e+09</td>\n",
       "      <td>text</td>\n",
       "      <td>self.army</td>\n",
       "      <td>False</td>\n",
       "      <td>False</td>\n",
       "      <td>False</td>\n",
       "      <td>Classcelicos</td>\n",
       "      <td>6</td>\n",
       "      <td>False</td>\n",
       "    </tr>\n",
       "    <tr>\n",
       "      <th>5</th>\n",
       "      <td>Army</td>\n",
       "      <td>At my new duty station in Massachusetts and al...</td>\n",
       "      <td>Well everyone, I’m alone for the holidays and ...</td>\n",
       "      <td>[]</td>\n",
       "      <td>r/army</td>\n",
       "      <td>0.89</td>\n",
       "      <td>29</td>\n",
       "      <td>29</td>\n",
       "      <td>False</td>\n",
       "      <td>medical</td>\n",
       "      <td>True</td>\n",
       "      <td>1.703368e+09</td>\n",
       "      <td>richtext</td>\n",
       "      <td>self.army</td>\n",
       "      <td>False</td>\n",
       "      <td>False</td>\n",
       "      <td>False</td>\n",
       "      <td>BeanieWeenie-Burrito</td>\n",
       "      <td>24</td>\n",
       "      <td>False</td>\n",
       "    </tr>\n",
       "    <tr>\n",
       "      <th>6</th>\n",
       "      <td>Army</td>\n",
       "      <td>Does anyone have experience with submitting th...</td>\n",
       "      <td>DD Form 368 has started its way up. Looking fo...</td>\n",
       "      <td>[]</td>\n",
       "      <td>r/army</td>\n",
       "      <td>0.75</td>\n",
       "      <td>2</td>\n",
       "      <td>2</td>\n",
       "      <td>False</td>\n",
       "      <td>blank</td>\n",
       "      <td>True</td>\n",
       "      <td>1.703368e+09</td>\n",
       "      <td>text</td>\n",
       "      <td>self.army</td>\n",
       "      <td>False</td>\n",
       "      <td>False</td>\n",
       "      <td>False</td>\n",
       "      <td>Aggravating_Tart_299</td>\n",
       "      <td>7</td>\n",
       "      <td>False</td>\n",
       "    </tr>\n",
       "    <tr>\n",
       "      <th>7</th>\n",
       "      <td>Army</td>\n",
       "      <td>Also what does ‘Standard Excess’ refer to for ...</td>\n",
       "      <td>What does ‘Permanent Change of Station’ refer ...</td>\n",
       "      <td>[]</td>\n",
       "      <td>r/army</td>\n",
       "      <td>0.83</td>\n",
       "      <td>8</td>\n",
       "      <td>8</td>\n",
       "      <td>False</td>\n",
       "      <td>blank</td>\n",
       "      <td>True</td>\n",
       "      <td>1.703366e+09</td>\n",
       "      <td>text</td>\n",
       "      <td>self.army</td>\n",
       "      <td>False</td>\n",
       "      <td>False</td>\n",
       "      <td>False</td>\n",
       "      <td>Bambonoy</td>\n",
       "      <td>5</td>\n",
       "      <td>False</td>\n",
       "    </tr>\n",
       "    <tr>\n",
       "      <th>8</th>\n",
       "      <td>Army</td>\n",
       "      <td>Any tips or advice. I'm in osut about to turn ...</td>\n",
       "      <td>Advice for 17 year old</td>\n",
       "      <td>[]</td>\n",
       "      <td>r/army</td>\n",
       "      <td>0.76</td>\n",
       "      <td>8</td>\n",
       "      <td>8</td>\n",
       "      <td>1703369322.0</td>\n",
       "      <td>blank</td>\n",
       "      <td>True</td>\n",
       "      <td>1.703366e+09</td>\n",
       "      <td>text</td>\n",
       "      <td>self.army</td>\n",
       "      <td>False</td>\n",
       "      <td>False</td>\n",
       "      <td>False</td>\n",
       "      <td>churnedslinger</td>\n",
       "      <td>30</td>\n",
       "      <td>False</td>\n",
       "    </tr>\n",
       "    <tr>\n",
       "      <th>9</th>\n",
       "      <td>Army</td>\n",
       "      <td>Would anyone be able to describe the process o...</td>\n",
       "      <td>Space Force NCO to Army Warrant Officer</td>\n",
       "      <td>[]</td>\n",
       "      <td>r/army</td>\n",
       "      <td>0.60</td>\n",
       "      <td>1</td>\n",
       "      <td>1</td>\n",
       "      <td>False</td>\n",
       "      <td>blank</td>\n",
       "      <td>True</td>\n",
       "      <td>1.703365e+09</td>\n",
       "      <td>text</td>\n",
       "      <td>self.army</td>\n",
       "      <td>True</td>\n",
       "      <td>False</td>\n",
       "      <td>False</td>\n",
       "      <td>cantthinkofaname1010</td>\n",
       "      <td>4</td>\n",
       "      <td>False</td>\n",
       "    </tr>\n",
       "    <tr>\n",
       "      <th>10</th>\n",
       "      <td>Army</td>\n",
       "      <td>title_only</td>\n",
       "      <td>Thanks (Secret) Santa! You always know what I ...</td>\n",
       "      <td>[]</td>\n",
       "      <td>r/army</td>\n",
       "      <td>0.91</td>\n",
       "      <td>16</td>\n",
       "      <td>16</td>\n",
       "      <td>False</td>\n",
       "      <td>aviation</td>\n",
       "      <td>False</td>\n",
       "      <td>1.703365e+09</td>\n",
       "      <td>richtext</td>\n",
       "      <td>i.redd.it</td>\n",
       "      <td>False</td>\n",
       "      <td>False</td>\n",
       "      <td>False</td>\n",
       "      <td>Baystate411</td>\n",
       "      <td>5</td>\n",
       "      <td>False</td>\n",
       "    </tr>\n",
       "    <tr>\n",
       "      <th>11</th>\n",
       "      <td>Army</td>\n",
       "      <td>Any chance the promotions will improve or just...</td>\n",
       "      <td>I think I'll go with 35M unless promotions get...</td>\n",
       "      <td>[]</td>\n",
       "      <td>r/army</td>\n",
       "      <td>0.50</td>\n",
       "      <td>0</td>\n",
       "      <td>0</td>\n",
       "      <td>False</td>\n",
       "      <td>blank</td>\n",
       "      <td>True</td>\n",
       "      <td>1.703363e+09</td>\n",
       "      <td>text</td>\n",
       "      <td>self.army</td>\n",
       "      <td>True</td>\n",
       "      <td>False</td>\n",
       "      <td>False</td>\n",
       "      <td>JungLinMun</td>\n",
       "      <td>4</td>\n",
       "      <td>False</td>\n",
       "    </tr>\n",
       "    <tr>\n",
       "      <th>12</th>\n",
       "      <td>Army</td>\n",
       "      <td>i see a lot of serious and sad stuff here, alo...</td>\n",
       "      <td>celebration</td>\n",
       "      <td>[]</td>\n",
       "      <td>r/army</td>\n",
       "      <td>0.88</td>\n",
       "      <td>13</td>\n",
       "      <td>13</td>\n",
       "      <td>False</td>\n",
       "      <td>blank</td>\n",
       "      <td>True</td>\n",
       "      <td>1.703363e+09</td>\n",
       "      <td>text</td>\n",
       "      <td>self.army</td>\n",
       "      <td>False</td>\n",
       "      <td>False</td>\n",
       "      <td>False</td>\n",
       "      <td>Maleficent_Chest4587</td>\n",
       "      <td>11</td>\n",
       "      <td>False</td>\n",
       "    </tr>\n",
       "    <tr>\n",
       "      <th>15</th>\n",
       "      <td>Army</td>\n",
       "      <td>Long time lurker here, figured I'd finally pos...</td>\n",
       "      <td>Officer Promotion Boards</td>\n",
       "      <td>[]</td>\n",
       "      <td>r/army</td>\n",
       "      <td>1.00</td>\n",
       "      <td>7</td>\n",
       "      <td>7</td>\n",
       "      <td>False</td>\n",
       "      <td>blank</td>\n",
       "      <td>True</td>\n",
       "      <td>1.703361e+09</td>\n",
       "      <td>text</td>\n",
       "      <td>self.army</td>\n",
       "      <td>False</td>\n",
       "      <td>False</td>\n",
       "      <td>False</td>\n",
       "      <td>ThreeStarRatchet</td>\n",
       "      <td>5</td>\n",
       "      <td>False</td>\n",
       "    </tr>\n",
       "    <tr>\n",
       "      <th>16</th>\n",
       "      <td>Army</td>\n",
       "      <td>I submitted a PAR with my validated ppw from t...</td>\n",
       "      <td>I made points, but I wasn’t on the list</td>\n",
       "      <td>[]</td>\n",
       "      <td>r/army</td>\n",
       "      <td>1.00</td>\n",
       "      <td>1</td>\n",
       "      <td>1</td>\n",
       "      <td>False</td>\n",
       "      <td>aviation</td>\n",
       "      <td>True</td>\n",
       "      <td>1.703360e+09</td>\n",
       "      <td>richtext</td>\n",
       "      <td>self.army</td>\n",
       "      <td>True</td>\n",
       "      <td>False</td>\n",
       "      <td>False</td>\n",
       "      <td>Lucky-Wheel-4593</td>\n",
       "      <td>8</td>\n",
       "      <td>False</td>\n",
       "    </tr>\n",
       "  </tbody>\n",
       "</table>\n",
       "</div>"
      ],
      "text/plain": [
       "   subreddit                                           selftext  \\\n",
       "0       Army  This was a convo I had with one of my buddies ...   \n",
       "1       Army  BLUF: how do you overcome imposter syndrome?\\n...   \n",
       "2       Army  Long story short, my estranged (soon to be ex)...   \n",
       "3       Army  \\nMy husband is 35T, and just graduated AIT. W...   \n",
       "4       Army  I could use some advice on going recruiting. I...   \n",
       "5       Army  At my new duty station in Massachusetts and al...   \n",
       "6       Army  Does anyone have experience with submitting th...   \n",
       "7       Army  Also what does ‘Standard Excess’ refer to for ...   \n",
       "8       Army  Any tips or advice. I'm in osut about to turn ...   \n",
       "9       Army  Would anyone be able to describe the process o...   \n",
       "10      Army                                         title_only   \n",
       "11      Army  Any chance the promotions will improve or just...   \n",
       "12      Army  i see a lot of serious and sad stuff here, alo...   \n",
       "15      Army  Long time lurker here, figured I'd finally pos...   \n",
       "16      Army  I submitted a PAR with my validated ppw from t...   \n",
       "\n",
       "                                                title link_flair_richtext  \\\n",
       "0   If you could create a new MRE based on a Fast ...                  []   \n",
       "1                               how do you even Army?                  []   \n",
       "2                  Command Directed No-Contact Order?                  []   \n",
       "3                                         Anyone 35T?                  []   \n",
       "4         Thinking of going recruiter as brand new E5                  []   \n",
       "5   Well everyone, I’m alone for the holidays and ...                  []   \n",
       "6   DD Form 368 has started its way up. Looking fo...                  []   \n",
       "7   What does ‘Permanent Change of Station’ refer ...                  []   \n",
       "8                              Advice for 17 year old                  []   \n",
       "9             Space Force NCO to Army Warrant Officer                  []   \n",
       "10  Thanks (Secret) Santa! You always know what I ...                  []   \n",
       "11  I think I'll go with 35M unless promotions get...                  []   \n",
       "12                                        celebration                  []   \n",
       "15                           Officer Promotion Boards                  []   \n",
       "16            I made points, but I wasn’t on the list                  []   \n",
       "\n",
       "   subreddit_name_prefixed  upvote_ratio  ups  score        edited  \\\n",
       "0                   r/army          1.00    3      3         False   \n",
       "1                   r/army          0.57    1      1         False   \n",
       "2                   r/army          1.00    2      2         False   \n",
       "3                   r/army          0.84    4      4         False   \n",
       "4                   r/army          1.00    2      2         False   \n",
       "5                   r/army          0.89   29     29         False   \n",
       "6                   r/army          0.75    2      2         False   \n",
       "7                   r/army          0.83    8      8         False   \n",
       "8                   r/army          0.76    8      8  1703369322.0   \n",
       "9                   r/army          0.60    1      1         False   \n",
       "10                  r/army          0.91   16     16         False   \n",
       "11                  r/army          0.50    0      0         False   \n",
       "12                  r/army          0.88   13     13         False   \n",
       "15                  r/army          1.00    7      7         False   \n",
       "16                  r/army          1.00    1      1         False   \n",
       "\n",
       "   author_flair_css_class  is_self       created author_flair_type     domain  \\\n",
       "0                   blank     True  1.703376e+09              text  self.army   \n",
       "1     airdefenseartillery     True  1.703375e+09          richtext  self.army   \n",
       "2                   blank     True  1.703373e+09              text  self.army   \n",
       "3                   blank     True  1.703372e+09              text  self.army   \n",
       "4                   blank     True  1.703371e+09              text  self.army   \n",
       "5                 medical     True  1.703368e+09          richtext  self.army   \n",
       "6                   blank     True  1.703368e+09              text  self.army   \n",
       "7                   blank     True  1.703366e+09              text  self.army   \n",
       "8                   blank     True  1.703366e+09              text  self.army   \n",
       "9                   blank     True  1.703365e+09              text  self.army   \n",
       "10               aviation    False  1.703365e+09          richtext  i.redd.it   \n",
       "11                  blank     True  1.703363e+09              text  self.army   \n",
       "12                  blank     True  1.703363e+09              text  self.army   \n",
       "15                  blank     True  1.703361e+09              text  self.army   \n",
       "16               aviation     True  1.703360e+09          richtext  self.army   \n",
       "\n",
       "    no_follow  over_18  locked                author  num_comments  is_video  \n",
       "0       False    False   False           Mariostar16             3     False  \n",
       "1        True    False   False    Ok-Philosopher5533             4     False  \n",
       "2       False    False   False            skywri8293             4     False  \n",
       "3       False    False   False           Deep-Ad1124             8     False  \n",
       "4       False    False   False          Classcelicos             6     False  \n",
       "5       False    False   False  BeanieWeenie-Burrito            24     False  \n",
       "6       False    False   False  Aggravating_Tart_299             7     False  \n",
       "7       False    False   False              Bambonoy             5     False  \n",
       "8       False    False   False        churnedslinger            30     False  \n",
       "9        True    False   False  cantthinkofaname1010             4     False  \n",
       "10      False    False   False           Baystate411             5     False  \n",
       "11       True    False   False            JungLinMun             4     False  \n",
       "12      False    False   False  Maleficent_Chest4587            11     False  \n",
       "15      False    False   False      ThreeStarRatchet             5     False  \n",
       "16       True    False   False      Lucky-Wheel-4593             8     False  "
      ]
     },
     "execution_count": 498,
     "metadata": {},
     "output_type": "execute_result"
    }
   ],
   "source": [
    "agg_df.head(15)"
   ]
  },
  {
   "cell_type": "code",
   "execution_count": 499,
   "metadata": {},
   "outputs": [],
   "source": [
    "def preprocess_dataframe(df):\n",
    "    # Normalize numerical columns\n",
    "    numerical_cols = ['upvote_ratio', 'ups', 'score', 'num_comments']\n",
    "    df[numerical_cols] = StandardScaler().fit_transform(df[numerical_cols])\n",
    "\n",
    "    # Convert boolean columns to binary\n",
    "    boolean_cols = ['edited', 'is_self', 'no_follow', 'over_18', 'locked', 'is_video']\n",
    "    for col in boolean_cols:\n",
    "        df[col] = df[col].apply(lambda x: 1 if x == True or x == 'True' else 0)\n",
    "\n",
    "    # One-hot encode categorical columns\n",
    "    categorical_cols = ['author_flair_css_class', 'author_flair_type', 'domain']\n",
    "    df = pd.get_dummies(df, columns=categorical_cols, dtype= int)\n",
    "\n",
    "    # Process 'created' column (timestamp)\n",
    "    df['created'] = pd.to_datetime(df['created'], unit='s')\n",
    "    df['hour_of_day'] = df['created'].dt.hour\n",
    "    df['day_of_week'] = df['created'].dt.dayofweek\n",
    "    df = df.drop('created', axis=1)\n",
    "\n",
    "    return df"
   ]
  },
  {
   "cell_type": "markdown",
   "metadata": {},
   "source": [
    "# Cleaned Data"
   ]
  },
  {
   "cell_type": "code",
   "execution_count": 500,
   "metadata": {},
   "outputs": [
    {
     "name": "stdout",
     "output_type": "stream",
     "text": [
      "(2515, 73)\n"
     ]
    },
    {
     "data": {
      "text/html": [
       "<div>\n",
       "<style scoped>\n",
       "    .dataframe tbody tr th:only-of-type {\n",
       "        vertical-align: middle;\n",
       "    }\n",
       "\n",
       "    .dataframe tbody tr th {\n",
       "        vertical-align: top;\n",
       "    }\n",
       "\n",
       "    .dataframe thead th {\n",
       "        text-align: right;\n",
       "    }\n",
       "</style>\n",
       "<table border=\"1\" class=\"dataframe\">\n",
       "  <thead>\n",
       "    <tr style=\"text-align: right;\">\n",
       "      <th></th>\n",
       "      <th>subreddit</th>\n",
       "      <th>selftext</th>\n",
       "      <th>title</th>\n",
       "      <th>link_flair_richtext</th>\n",
       "      <th>subreddit_name_prefixed</th>\n",
       "      <th>upvote_ratio</th>\n",
       "      <th>ups</th>\n",
       "      <th>score</th>\n",
       "      <th>edited</th>\n",
       "      <th>is_self</th>\n",
       "      <th>...</th>\n",
       "      <th>domain_self.USMC</th>\n",
       "      <th>domain_self.army</th>\n",
       "      <th>domain_self.bipolar</th>\n",
       "      <th>domain_self.schizophrenia</th>\n",
       "      <th>domain_stripes.com</th>\n",
       "      <th>domain_v.redd.it</th>\n",
       "      <th>domain_youtu.be</th>\n",
       "      <th>domain_youtube.com</th>\n",
       "      <th>hour_of_day</th>\n",
       "      <th>day_of_week</th>\n",
       "    </tr>\n",
       "  </thead>\n",
       "  <tbody>\n",
       "    <tr>\n",
       "      <th>0</th>\n",
       "      <td>Army</td>\n",
       "      <td>This was a convo I had with one of my buddies ...</td>\n",
       "      <td>If you could create a new MRE based on a Fast ...</td>\n",
       "      <td>[]</td>\n",
       "      <td>r/army</td>\n",
       "      <td>0.681743</td>\n",
       "      <td>-0.267289</td>\n",
       "      <td>-0.267289</td>\n",
       "      <td>0</td>\n",
       "      <td>1</td>\n",
       "      <td>...</td>\n",
       "      <td>0</td>\n",
       "      <td>1</td>\n",
       "      <td>0</td>\n",
       "      <td>0</td>\n",
       "      <td>0</td>\n",
       "      <td>0</td>\n",
       "      <td>0</td>\n",
       "      <td>0</td>\n",
       "      <td>23</td>\n",
       "      <td>5</td>\n",
       "    </tr>\n",
       "    <tr>\n",
       "      <th>1</th>\n",
       "      <td>Army</td>\n",
       "      <td>BLUF: how do you overcome imposter syndrome?\\n...</td>\n",
       "      <td>how do you even Army?</td>\n",
       "      <td>[]</td>\n",
       "      <td>r/army</td>\n",
       "      <td>-1.586854</td>\n",
       "      <td>-0.293424</td>\n",
       "      <td>-0.293424</td>\n",
       "      <td>0</td>\n",
       "      <td>1</td>\n",
       "      <td>...</td>\n",
       "      <td>0</td>\n",
       "      <td>1</td>\n",
       "      <td>0</td>\n",
       "      <td>0</td>\n",
       "      <td>0</td>\n",
       "      <td>0</td>\n",
       "      <td>0</td>\n",
       "      <td>0</td>\n",
       "      <td>23</td>\n",
       "      <td>5</td>\n",
       "    </tr>\n",
       "    <tr>\n",
       "      <th>2</th>\n",
       "      <td>Army</td>\n",
       "      <td>Long story short, my estranged (soon to be ex)...</td>\n",
       "      <td>Command Directed No-Contact Order?</td>\n",
       "      <td>[]</td>\n",
       "      <td>r/army</td>\n",
       "      <td>0.681743</td>\n",
       "      <td>-0.280356</td>\n",
       "      <td>-0.280356</td>\n",
       "      <td>0</td>\n",
       "      <td>1</td>\n",
       "      <td>...</td>\n",
       "      <td>0</td>\n",
       "      <td>1</td>\n",
       "      <td>0</td>\n",
       "      <td>0</td>\n",
       "      <td>0</td>\n",
       "      <td>0</td>\n",
       "      <td>0</td>\n",
       "      <td>0</td>\n",
       "      <td>23</td>\n",
       "      <td>5</td>\n",
       "    </tr>\n",
       "    <tr>\n",
       "      <th>3</th>\n",
       "      <td>Army</td>\n",
       "      <td>\\nMy husband is 35T, and just graduated AIT. W...</td>\n",
       "      <td>Anyone 35T?</td>\n",
       "      <td>[]</td>\n",
       "      <td>r/army</td>\n",
       "      <td>-0.162386</td>\n",
       "      <td>-0.254221</td>\n",
       "      <td>-0.254221</td>\n",
       "      <td>0</td>\n",
       "      <td>1</td>\n",
       "      <td>...</td>\n",
       "      <td>0</td>\n",
       "      <td>1</td>\n",
       "      <td>0</td>\n",
       "      <td>0</td>\n",
       "      <td>0</td>\n",
       "      <td>0</td>\n",
       "      <td>0</td>\n",
       "      <td>0</td>\n",
       "      <td>22</td>\n",
       "      <td>5</td>\n",
       "    </tr>\n",
       "    <tr>\n",
       "      <th>4</th>\n",
       "      <td>Army</td>\n",
       "      <td>I could use some advice on going recruiting. I...</td>\n",
       "      <td>Thinking of going recruiter as brand new E5</td>\n",
       "      <td>[]</td>\n",
       "      <td>r/army</td>\n",
       "      <td>0.681743</td>\n",
       "      <td>-0.280356</td>\n",
       "      <td>-0.280356</td>\n",
       "      <td>0</td>\n",
       "      <td>1</td>\n",
       "      <td>...</td>\n",
       "      <td>0</td>\n",
       "      <td>1</td>\n",
       "      <td>0</td>\n",
       "      <td>0</td>\n",
       "      <td>0</td>\n",
       "      <td>0</td>\n",
       "      <td>0</td>\n",
       "      <td>0</td>\n",
       "      <td>22</td>\n",
       "      <td>5</td>\n",
       "    </tr>\n",
       "    <tr>\n",
       "      <th>5</th>\n",
       "      <td>Army</td>\n",
       "      <td>At my new duty station in Massachusetts and al...</td>\n",
       "      <td>Well everyone, I’m alone for the holidays and ...</td>\n",
       "      <td>[]</td>\n",
       "      <td>r/army</td>\n",
       "      <td>0.101405</td>\n",
       "      <td>0.072473</td>\n",
       "      <td>0.072473</td>\n",
       "      <td>0</td>\n",
       "      <td>1</td>\n",
       "      <td>...</td>\n",
       "      <td>0</td>\n",
       "      <td>1</td>\n",
       "      <td>0</td>\n",
       "      <td>0</td>\n",
       "      <td>0</td>\n",
       "      <td>0</td>\n",
       "      <td>0</td>\n",
       "      <td>0</td>\n",
       "      <td>21</td>\n",
       "      <td>5</td>\n",
       "    </tr>\n",
       "    <tr>\n",
       "      <th>6</th>\n",
       "      <td>Army</td>\n",
       "      <td>Does anyone have experience with submitting th...</td>\n",
       "      <td>DD Form 368 has started its way up. Looking fo...</td>\n",
       "      <td>[]</td>\n",
       "      <td>r/army</td>\n",
       "      <td>-0.637208</td>\n",
       "      <td>-0.280356</td>\n",
       "      <td>-0.280356</td>\n",
       "      <td>0</td>\n",
       "      <td>1</td>\n",
       "      <td>...</td>\n",
       "      <td>0</td>\n",
       "      <td>1</td>\n",
       "      <td>0</td>\n",
       "      <td>0</td>\n",
       "      <td>0</td>\n",
       "      <td>0</td>\n",
       "      <td>0</td>\n",
       "      <td>0</td>\n",
       "      <td>21</td>\n",
       "      <td>5</td>\n",
       "    </tr>\n",
       "    <tr>\n",
       "      <th>7</th>\n",
       "      <td>Army</td>\n",
       "      <td>Also what does ‘Standard Excess’ refer to for ...</td>\n",
       "      <td>What does ‘Permanent Change of Station’ refer ...</td>\n",
       "      <td>[]</td>\n",
       "      <td>r/army</td>\n",
       "      <td>-0.215144</td>\n",
       "      <td>-0.201950</td>\n",
       "      <td>-0.201950</td>\n",
       "      <td>0</td>\n",
       "      <td>1</td>\n",
       "      <td>...</td>\n",
       "      <td>0</td>\n",
       "      <td>1</td>\n",
       "      <td>0</td>\n",
       "      <td>0</td>\n",
       "      <td>0</td>\n",
       "      <td>0</td>\n",
       "      <td>0</td>\n",
       "      <td>0</td>\n",
       "      <td>21</td>\n",
       "      <td>5</td>\n",
       "    </tr>\n",
       "    <tr>\n",
       "      <th>8</th>\n",
       "      <td>Army</td>\n",
       "      <td>Any tips or advice. I'm in osut about to turn ...</td>\n",
       "      <td>Advice for 17 year old</td>\n",
       "      <td>[]</td>\n",
       "      <td>r/army</td>\n",
       "      <td>-0.584450</td>\n",
       "      <td>-0.201950</td>\n",
       "      <td>-0.201950</td>\n",
       "      <td>0</td>\n",
       "      <td>1</td>\n",
       "      <td>...</td>\n",
       "      <td>0</td>\n",
       "      <td>1</td>\n",
       "      <td>0</td>\n",
       "      <td>0</td>\n",
       "      <td>0</td>\n",
       "      <td>0</td>\n",
       "      <td>0</td>\n",
       "      <td>0</td>\n",
       "      <td>21</td>\n",
       "      <td>5</td>\n",
       "    </tr>\n",
       "    <tr>\n",
       "      <th>9</th>\n",
       "      <td>Army</td>\n",
       "      <td>Would anyone be able to describe the process o...</td>\n",
       "      <td>Space Force NCO to Army Warrant Officer</td>\n",
       "      <td>[]</td>\n",
       "      <td>r/army</td>\n",
       "      <td>-1.428579</td>\n",
       "      <td>-0.293424</td>\n",
       "      <td>-0.293424</td>\n",
       "      <td>0</td>\n",
       "      <td>1</td>\n",
       "      <td>...</td>\n",
       "      <td>0</td>\n",
       "      <td>1</td>\n",
       "      <td>0</td>\n",
       "      <td>0</td>\n",
       "      <td>0</td>\n",
       "      <td>0</td>\n",
       "      <td>0</td>\n",
       "      <td>0</td>\n",
       "      <td>20</td>\n",
       "      <td>5</td>\n",
       "    </tr>\n",
       "  </tbody>\n",
       "</table>\n",
       "<p>10 rows × 73 columns</p>\n",
       "</div>"
      ],
      "text/plain": [
       "  subreddit                                           selftext  \\\n",
       "0      Army  This was a convo I had with one of my buddies ...   \n",
       "1      Army  BLUF: how do you overcome imposter syndrome?\\n...   \n",
       "2      Army  Long story short, my estranged (soon to be ex)...   \n",
       "3      Army  \\nMy husband is 35T, and just graduated AIT. W...   \n",
       "4      Army  I could use some advice on going recruiting. I...   \n",
       "5      Army  At my new duty station in Massachusetts and al...   \n",
       "6      Army  Does anyone have experience with submitting th...   \n",
       "7      Army  Also what does ‘Standard Excess’ refer to for ...   \n",
       "8      Army  Any tips or advice. I'm in osut about to turn ...   \n",
       "9      Army  Would anyone be able to describe the process o...   \n",
       "\n",
       "                                               title link_flair_richtext  \\\n",
       "0  If you could create a new MRE based on a Fast ...                  []   \n",
       "1                              how do you even Army?                  []   \n",
       "2                 Command Directed No-Contact Order?                  []   \n",
       "3                                        Anyone 35T?                  []   \n",
       "4        Thinking of going recruiter as brand new E5                  []   \n",
       "5  Well everyone, I’m alone for the holidays and ...                  []   \n",
       "6  DD Form 368 has started its way up. Looking fo...                  []   \n",
       "7  What does ‘Permanent Change of Station’ refer ...                  []   \n",
       "8                             Advice for 17 year old                  []   \n",
       "9            Space Force NCO to Army Warrant Officer                  []   \n",
       "\n",
       "  subreddit_name_prefixed  upvote_ratio       ups     score  edited  is_self  \\\n",
       "0                  r/army      0.681743 -0.267289 -0.267289       0        1   \n",
       "1                  r/army     -1.586854 -0.293424 -0.293424       0        1   \n",
       "2                  r/army      0.681743 -0.280356 -0.280356       0        1   \n",
       "3                  r/army     -0.162386 -0.254221 -0.254221       0        1   \n",
       "4                  r/army      0.681743 -0.280356 -0.280356       0        1   \n",
       "5                  r/army      0.101405  0.072473  0.072473       0        1   \n",
       "6                  r/army     -0.637208 -0.280356 -0.280356       0        1   \n",
       "7                  r/army     -0.215144 -0.201950 -0.201950       0        1   \n",
       "8                  r/army     -0.584450 -0.201950 -0.201950       0        1   \n",
       "9                  r/army     -1.428579 -0.293424 -0.293424       0        1   \n",
       "\n",
       "   ...  domain_self.USMC  domain_self.army  domain_self.bipolar  \\\n",
       "0  ...                 0                 1                    0   \n",
       "1  ...                 0                 1                    0   \n",
       "2  ...                 0                 1                    0   \n",
       "3  ...                 0                 1                    0   \n",
       "4  ...                 0                 1                    0   \n",
       "5  ...                 0                 1                    0   \n",
       "6  ...                 0                 1                    0   \n",
       "7  ...                 0                 1                    0   \n",
       "8  ...                 0                 1                    0   \n",
       "9  ...                 0                 1                    0   \n",
       "\n",
       "  domain_self.schizophrenia  domain_stripes.com  domain_v.redd.it  \\\n",
       "0                         0                   0                 0   \n",
       "1                         0                   0                 0   \n",
       "2                         0                   0                 0   \n",
       "3                         0                   0                 0   \n",
       "4                         0                   0                 0   \n",
       "5                         0                   0                 0   \n",
       "6                         0                   0                 0   \n",
       "7                         0                   0                 0   \n",
       "8                         0                   0                 0   \n",
       "9                         0                   0                 0   \n",
       "\n",
       "   domain_youtu.be  domain_youtube.com  hour_of_day  day_of_week  \n",
       "0                0                   0           23            5  \n",
       "1                0                   0           23            5  \n",
       "2                0                   0           23            5  \n",
       "3                0                   0           22            5  \n",
       "4                0                   0           22            5  \n",
       "5                0                   0           21            5  \n",
       "6                0                   0           21            5  \n",
       "7                0                   0           21            5  \n",
       "8                0                   0           21            5  \n",
       "9                0                   0           20            5  \n",
       "\n",
       "[10 rows x 73 columns]"
      ]
     },
     "execution_count": 500,
     "metadata": {},
     "output_type": "execute_result"
    }
   ],
   "source": [
    "processed_df = preprocess_dataframe(agg_df)\n",
    "\n",
    "print(processed_df.shape)\n",
    "processed_df.head(10)"
   ]
  },
  {
   "cell_type": "markdown",
   "metadata": {},
   "source": [
    "### Output processed df in ANALYSIS folder for further analysis"
   ]
  },
  {
   "cell_type": "code",
   "execution_count": 501,
   "metadata": {},
   "outputs": [],
   "source": [
    "#output to csv\n",
    "processed_df.to_csv('../3_ANALYSIS/data/processed_data.csv', index=False)"
   ]
  },
  {
   "cell_type": "code",
   "execution_count": 502,
   "metadata": {},
   "outputs": [
    {
     "data": {
      "text/plain": [
       "(2515, 73)"
      ]
     },
     "execution_count": 502,
     "metadata": {},
     "output_type": "execute_result"
    }
   ],
   "source": [
    "processed_df.shape"
   ]
  }
 ],
 "metadata": {
  "kernelspec": {
   "display_name": "dsi",
   "language": "python",
   "name": "python3"
  },
  "language_info": {
   "codemirror_mode": {
    "name": "ipython",
    "version": 3
   },
   "file_extension": ".py",
   "mimetype": "text/x-python",
   "name": "python",
   "nbconvert_exporter": "python",
   "pygments_lexer": "ipython3",
   "version": "3.9.18"
  }
 },
 "nbformat": 4,
 "nbformat_minor": 2
}
