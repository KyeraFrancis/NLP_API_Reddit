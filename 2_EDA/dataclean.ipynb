{
 "cells": [
  {
   "cell_type": "markdown",
   "metadata": {},
   "source": [
    "# Data Cleaning and Processing\n",
    "\n",
    "This Notebook will process the data and extract all the relevant information needed for analysis. This will include:\n",
    "- Feature Selection\n",
    "- Imputing missing values\n",
    "- Removing possible Duplicates (in case it was not properly preformed in the data collection process)\n",
    "- Normalizing and Encoding categorical variables\n",
    "\n",
    "Then the cleaned data will be exported into a format for the next step of EDA.\n"
   ]
  },
  {
   "cell_type": "markdown",
   "metadata": {},
   "source": [
    "## Import Data"
   ]
  },
  {
   "cell_type": "code",
   "execution_count": 1,
   "metadata": {},
   "outputs": [],
   "source": [
    "## Imports\n",
    "import pandas as pd\n",
    "\n",
    "## Sklearn \n",
    "from sklearn.preprocessing import  StandardScaler\n",
    "from sklearn.compose import ColumnTransformer\n",
    "\n",
    "## NLTK\n",
    "import re\n",
    "import nltk\n",
    "from nltk.corpus import stopwords\n",
    "from nltk.stem import WordNetLemmatizer\n",
    "from sklearn.model_selection import train_test_split\n",
    "from sklearn.feature_extraction.text import TfidfVectorizer\n",
    "\n",
    "#Ignore warnings\n",
    "from warnings import filterwarnings\n",
    "filterwarnings('ignore')"
   ]
  },
  {
   "cell_type": "code",
   "execution_count": 2,
   "metadata": {},
   "outputs": [
    {
     "name": "stdout",
     "output_type": "stream",
     "text": [
      "(28600, 118)\n"
     ]
    },
    {
     "data": {
      "text/html": [
       "<div>\n",
       "<style scoped>\n",
       "    .dataframe tbody tr th:only-of-type {\n",
       "        vertical-align: middle;\n",
       "    }\n",
       "\n",
       "    .dataframe tbody tr th {\n",
       "        vertical-align: top;\n",
       "    }\n",
       "\n",
       "    .dataframe thead th {\n",
       "        text-align: right;\n",
       "    }\n",
       "</style>\n",
       "<table border=\"1\" class=\"dataframe\">\n",
       "  <thead>\n",
       "    <tr style=\"text-align: right;\">\n",
       "      <th></th>\n",
       "      <th>approved_at_utc</th>\n",
       "      <th>subreddit</th>\n",
       "      <th>selftext</th>\n",
       "      <th>author_fullname</th>\n",
       "      <th>saved</th>\n",
       "      <th>mod_reason_title</th>\n",
       "      <th>gilded</th>\n",
       "      <th>clicked</th>\n",
       "      <th>title</th>\n",
       "      <th>link_flair_richtext</th>\n",
       "      <th>...</th>\n",
       "      <th>preview</th>\n",
       "      <th>is_gallery</th>\n",
       "      <th>media_metadata</th>\n",
       "      <th>gallery_data</th>\n",
       "      <th>author_cakeday</th>\n",
       "      <th>link_flair_template_id</th>\n",
       "      <th>poll_data</th>\n",
       "      <th>crosspost_parent_list</th>\n",
       "      <th>crosspost_parent</th>\n",
       "      <th>collections</th>\n",
       "    </tr>\n",
       "  </thead>\n",
       "  <tbody>\n",
       "    <tr>\n",
       "      <th>0</th>\n",
       "      <td>NaN</td>\n",
       "      <td>Army</td>\n",
       "      <td>This was a convo I had with one of my buddies ...</td>\n",
       "      <td>t2_3vmh30ad</td>\n",
       "      <td>False</td>\n",
       "      <td>NaN</td>\n",
       "      <td>0</td>\n",
       "      <td>False</td>\n",
       "      <td>If you could create a new MRE based on a Fast ...</td>\n",
       "      <td>[]</td>\n",
       "      <td>...</td>\n",
       "      <td>NaN</td>\n",
       "      <td>NaN</td>\n",
       "      <td>NaN</td>\n",
       "      <td>NaN</td>\n",
       "      <td>NaN</td>\n",
       "      <td>NaN</td>\n",
       "      <td>NaN</td>\n",
       "      <td>NaN</td>\n",
       "      <td>NaN</td>\n",
       "      <td>NaN</td>\n",
       "    </tr>\n",
       "    <tr>\n",
       "      <th>1</th>\n",
       "      <td>NaN</td>\n",
       "      <td>Army</td>\n",
       "      <td>BLUF: how do you overcome imposter syndrome?\\n...</td>\n",
       "      <td>t2_9mqncmmb</td>\n",
       "      <td>False</td>\n",
       "      <td>NaN</td>\n",
       "      <td>0</td>\n",
       "      <td>False</td>\n",
       "      <td>how do you even Army?</td>\n",
       "      <td>[]</td>\n",
       "      <td>...</td>\n",
       "      <td>NaN</td>\n",
       "      <td>NaN</td>\n",
       "      <td>NaN</td>\n",
       "      <td>NaN</td>\n",
       "      <td>NaN</td>\n",
       "      <td>NaN</td>\n",
       "      <td>NaN</td>\n",
       "      <td>NaN</td>\n",
       "      <td>NaN</td>\n",
       "      <td>NaN</td>\n",
       "    </tr>\n",
       "    <tr>\n",
       "      <th>2</th>\n",
       "      <td>NaN</td>\n",
       "      <td>Army</td>\n",
       "      <td>Long story short, my estranged (soon to be ex)...</td>\n",
       "      <td>t2_ag69n7u7</td>\n",
       "      <td>False</td>\n",
       "      <td>NaN</td>\n",
       "      <td>0</td>\n",
       "      <td>False</td>\n",
       "      <td>Command Directed No-Contact Order?</td>\n",
       "      <td>[]</td>\n",
       "      <td>...</td>\n",
       "      <td>NaN</td>\n",
       "      <td>NaN</td>\n",
       "      <td>NaN</td>\n",
       "      <td>NaN</td>\n",
       "      <td>NaN</td>\n",
       "      <td>NaN</td>\n",
       "      <td>NaN</td>\n",
       "      <td>NaN</td>\n",
       "      <td>NaN</td>\n",
       "      <td>NaN</td>\n",
       "    </tr>\n",
       "    <tr>\n",
       "      <th>3</th>\n",
       "      <td>NaN</td>\n",
       "      <td>Army</td>\n",
       "      <td>\\nMy husband is 35T, and just graduated AIT. W...</td>\n",
       "      <td>t2_lb56g2zm</td>\n",
       "      <td>False</td>\n",
       "      <td>NaN</td>\n",
       "      <td>0</td>\n",
       "      <td>False</td>\n",
       "      <td>Anyone 35T?</td>\n",
       "      <td>[]</td>\n",
       "      <td>...</td>\n",
       "      <td>NaN</td>\n",
       "      <td>NaN</td>\n",
       "      <td>NaN</td>\n",
       "      <td>NaN</td>\n",
       "      <td>NaN</td>\n",
       "      <td>NaN</td>\n",
       "      <td>NaN</td>\n",
       "      <td>NaN</td>\n",
       "      <td>NaN</td>\n",
       "      <td>NaN</td>\n",
       "    </tr>\n",
       "    <tr>\n",
       "      <th>4</th>\n",
       "      <td>NaN</td>\n",
       "      <td>Army</td>\n",
       "      <td>I could use some advice on going recruiting. I...</td>\n",
       "      <td>t2_i4rellgt</td>\n",
       "      <td>False</td>\n",
       "      <td>NaN</td>\n",
       "      <td>0</td>\n",
       "      <td>False</td>\n",
       "      <td>Thinking of going recruiter as brand new E5</td>\n",
       "      <td>[]</td>\n",
       "      <td>...</td>\n",
       "      <td>NaN</td>\n",
       "      <td>NaN</td>\n",
       "      <td>NaN</td>\n",
       "      <td>NaN</td>\n",
       "      <td>NaN</td>\n",
       "      <td>NaN</td>\n",
       "      <td>NaN</td>\n",
       "      <td>NaN</td>\n",
       "      <td>NaN</td>\n",
       "      <td>NaN</td>\n",
       "    </tr>\n",
       "  </tbody>\n",
       "</table>\n",
       "<p>5 rows × 118 columns</p>\n",
       "</div>"
      ],
      "text/plain": [
       "   approved_at_utc subreddit  \\\n",
       "0              NaN      Army   \n",
       "1              NaN      Army   \n",
       "2              NaN      Army   \n",
       "3              NaN      Army   \n",
       "4              NaN      Army   \n",
       "\n",
       "                                            selftext author_fullname  saved  \\\n",
       "0  This was a convo I had with one of my buddies ...     t2_3vmh30ad  False   \n",
       "1  BLUF: how do you overcome imposter syndrome?\\n...     t2_9mqncmmb  False   \n",
       "2  Long story short, my estranged (soon to be ex)...     t2_ag69n7u7  False   \n",
       "3  \\nMy husband is 35T, and just graduated AIT. W...     t2_lb56g2zm  False   \n",
       "4  I could use some advice on going recruiting. I...     t2_i4rellgt  False   \n",
       "\n",
       "   mod_reason_title  gilded  clicked  \\\n",
       "0               NaN       0    False   \n",
       "1               NaN       0    False   \n",
       "2               NaN       0    False   \n",
       "3               NaN       0    False   \n",
       "4               NaN       0    False   \n",
       "\n",
       "                                               title link_flair_richtext  ...  \\\n",
       "0  If you could create a new MRE based on a Fast ...                  []  ...   \n",
       "1                              how do you even Army?                  []  ...   \n",
       "2                 Command Directed No-Contact Order?                  []  ...   \n",
       "3                                        Anyone 35T?                  []  ...   \n",
       "4        Thinking of going recruiter as brand new E5                  []  ...   \n",
       "\n",
       "  preview  is_gallery  media_metadata gallery_data  author_cakeday  \\\n",
       "0     NaN         NaN             NaN          NaN             NaN   \n",
       "1     NaN         NaN             NaN          NaN             NaN   \n",
       "2     NaN         NaN             NaN          NaN             NaN   \n",
       "3     NaN         NaN             NaN          NaN             NaN   \n",
       "4     NaN         NaN             NaN          NaN             NaN   \n",
       "\n",
       "   link_flair_template_id  poll_data  crosspost_parent_list crosspost_parent  \\\n",
       "0                     NaN        NaN                    NaN              NaN   \n",
       "1                     NaN        NaN                    NaN              NaN   \n",
       "2                     NaN        NaN                    NaN              NaN   \n",
       "3                     NaN        NaN                    NaN              NaN   \n",
       "4                     NaN        NaN                    NaN              NaN   \n",
       "\n",
       "   collections  \n",
       "0          NaN  \n",
       "1          NaN  \n",
       "2          NaN  \n",
       "3          NaN  \n",
       "4          NaN  \n",
       "\n",
       "[5 rows x 118 columns]"
      ]
     },
     "execution_count": 2,
     "metadata": {},
     "output_type": "execute_result"
    }
   ],
   "source": [
    "## Load data\n",
    "agg_df = pd.read_csv('../2_EDA/data/00_master.csv')\n",
    "\n",
    "print(agg_df.shape)\n",
    "agg_df.head()"
   ]
  },
  {
   "cell_type": "markdown",
   "metadata": {},
   "source": [
    "## Data Statistics"
   ]
  },
  {
   "cell_type": "code",
   "execution_count": 3,
   "metadata": {},
   "outputs": [
    {
     "data": {
      "text/plain": [
       "Index(['approved_at_utc', 'subreddit', 'selftext', 'author_fullname', 'saved',\n",
       "       'mod_reason_title', 'gilded', 'clicked', 'title', 'link_flair_richtext',\n",
       "       ...\n",
       "       'preview', 'is_gallery', 'media_metadata', 'gallery_data',\n",
       "       'author_cakeday', 'link_flair_template_id', 'poll_data',\n",
       "       'crosspost_parent_list', 'crosspost_parent', 'collections'],\n",
       "      dtype='object', length=118)"
      ]
     },
     "execution_count": 3,
     "metadata": {},
     "output_type": "execute_result"
    }
   ],
   "source": [
    "agg_df.columns"
   ]
  },
  {
   "cell_type": "code",
   "execution_count": 4,
   "metadata": {},
   "outputs": [
    {
     "name": "stdout",
     "output_type": "stream",
     "text": [
      "<class 'pandas.core.frame.DataFrame'>\n",
      "RangeIndex: 28600 entries, 0 to 28599\n",
      "Columns: 118 entries, approved_at_utc to collections\n",
      "dtypes: bool(28), float64(26), int64(8), object(56)\n",
      "memory usage: 20.4+ MB\n"
     ]
    }
   ],
   "source": [
    "agg_df.info()"
   ]
  },
  {
   "cell_type": "code",
   "execution_count": 5,
   "metadata": {},
   "outputs": [
    {
     "data": {
      "text/plain": [
       "approved_at_utc           float64\n",
       "subreddit                  object\n",
       "selftext                   object\n",
       "author_fullname            object\n",
       "saved                        bool\n",
       "                           ...   \n",
       "link_flair_template_id     object\n",
       "poll_data                  object\n",
       "crosspost_parent_list      object\n",
       "crosspost_parent           object\n",
       "collections                object\n",
       "Length: 118, dtype: object"
      ]
     },
     "execution_count": 5,
     "metadata": {},
     "output_type": "execute_result"
    }
   ],
   "source": [
    "agg_df.dtypes"
   ]
  },
  {
   "cell_type": "markdown",
   "metadata": {},
   "source": [
    "## Feature Selection"
   ]
  },
  {
   "cell_type": "markdown",
   "metadata": {},
   "source": [
    "### Dropped Columns"
   ]
  },
  {
   "cell_type": "code",
   "execution_count": 6,
   "metadata": {},
   "outputs": [],
   "source": [
    "# Drop columns: 'thumbnail_width', 'media_embed' and 74 other columns\n",
    "agg_df = agg_df.drop(columns=['thumbnail_width', 'media_embed', 'author_flair_template_id', 'is_original_content', 'user_reports', 'secure_media', 'is_reddit_media_domain', 'is_meta', 'category', 'secure_media_embed', 'link_flair_text', 'can_mod_post', 'approved_by', 'is_created_from_ads_ui', 'author_premium', 'gildings', 'content_categories', 'mod_note', 'wls', 'removed_by_category', 'banned_by', 'link_flair_type', 'allow_live_comments', 'selftext_html', 'likes', 'suggested_sort', 'banned_at_utc', 'view_count', 'archived', 'is_crosspostable', 'pinned', 'all_awardings', 'awarders', 'media_only', 'can_gild', 'spoiler', 'treatment_tags', 'visited', 'removed_by', 'num_reports', 'distinguished', 'subreddit_id', 'author_is_blocked', 'mod_reason_by', 'removal_reason', 'link_flair_background_color', 'id', 'is_robot_indexable', 'report_reasons', 'discussion_type', 'send_replies', 'whitelist_status', 'contest_mode', 'mod_reports', 'author_patreon_flair', 'author_flair_text_color', 'permalink', 'parent_whitelist_status', 'stickied', 'url', 'subreddit_subscribers', 'created_utc', 'num_crossposts', 'media', 'post_hint', 'url_overridden_by_dest', 'preview', 'is_gallery', 'media_metadata', 'gallery_data', 'author_cakeday', 'link_flair_template_id', 'poll_data', 'crosspost_parent_list', 'crosspost_parent', 'collections', 'approved_at_utc', 'saved', 'mod_reason_title', 'gilded', 'clicked', 'hidden', 'pwls', 'link_flair_css_class', 'downs', 'thumbnail_height', 'top_awarded_type', 'hide_score', 'name', 'quarantine', 'link_flair_text_color', 'author_flair_background_color', 'subreddit_type', 'total_awards_received'])"
   ]
  },
  {
   "cell_type": "code",
   "execution_count": 7,
   "metadata": {},
   "outputs": [
    {
     "data": {
      "text/plain": [
       "author_flair_css_class     26128\n",
       "author_flair_text          21239\n",
       "thumbnail                   5800\n",
       "selftext                    4177\n",
       "author_flair_richtext        120\n",
       "author_fullname              120\n",
       "author_flair_type            120\n",
       "created                        0\n",
       "num_comments                   0\n",
       "author                         0\n",
       "locked                         0\n",
       "over_18                        0\n",
       "no_follow                      0\n",
       "domain                         0\n",
       "subreddit                      0\n",
       "is_self                        0\n",
       "edited                         0\n",
       "score                          0\n",
       "ups                            0\n",
       "upvote_ratio                   0\n",
       "subreddit_name_prefixed        0\n",
       "link_flair_richtext            0\n",
       "title                          0\n",
       "is_video                       0\n",
       "dtype: int64"
      ]
     },
     "execution_count": 7,
     "metadata": {},
     "output_type": "execute_result"
    }
   ],
   "source": [
    "agg_df.isnull().sum().sort_values(ascending=False)\n"
   ]
  },
  {
   "cell_type": "markdown",
   "metadata": {},
   "source": [
    "### Author Flair CSS Class"
   ]
  },
  {
   "cell_type": "code",
   "execution_count": 8,
   "metadata": {},
   "outputs": [
    {
     "data": {
      "text/plain": [
       "author_flair_css_class\n",
       "camper                      4\n",
       "recruiter                   6\n",
       "electronicwarfare           7\n",
       "spc                         9\n",
       "jag                         9\n",
       "none                        9\n",
       "darkgoldenrod               9\n",
       "Chaplain                   10\n",
       "civilaffairs               15\n",
       "chemical                   15\n",
       "medicalservice             17\n",
       "a                          18\n",
       "AquisitionCorps            27\n",
       "Cyber                      33\n",
       "cavalry                    34\n",
       "publicaffairs              37\n",
       "psycologicaloperations     46\n",
       "transportation             50\n",
       "medicalspecialist          52\n",
       "armor                      63\n",
       "militarypolice             64\n",
       "airdefenseartillery        71\n",
       "fieldartillery             77\n",
       "adjutantgeneral            84\n",
       "quartermaster              86\n",
       "engineer                   95\n",
       "medical                   131\n",
       "ordnance                  137\n",
       "aviation                  164\n",
       "militaryintelligence      179\n",
       "signal                    237\n",
       "blank                     324\n",
       "infantry                  353\n",
       "Name: count, dtype: int64"
      ]
     },
     "execution_count": 8,
     "metadata": {},
     "output_type": "execute_result"
    }
   ],
   "source": [
    "#Replace null values with 'blank' in 'author_flair_css_class'\n",
    "agg_df['author_flair_css_class'].value_counts(ascending=True)\n"
   ]
  },
  {
   "cell_type": "markdown",
   "metadata": {},
   "source": [
    "### Author flair text"
   ]
  },
  {
   "cell_type": "code",
   "execution_count": 9,
   "metadata": {},
   "outputs": [],
   "source": [
    "agg_df['author_flair_text'].value_counts()\n",
    "agg_df.drop(columns=['author_flair_text'], inplace=True)"
   ]
  },
  {
   "cell_type": "markdown",
   "metadata": {},
   "source": [
    "### Thumbnail"
   ]
  },
  {
   "cell_type": "code",
   "execution_count": 10,
   "metadata": {},
   "outputs": [],
   "source": [
    "agg_df['thumbnail'].value_counts()\n",
    "agg_df.drop(columns=['thumbnail'], inplace=True)"
   ]
  },
  {
   "cell_type": "markdown",
   "metadata": {},
   "source": [
    "### Self Text"
   ]
  },
  {
   "cell_type": "code",
   "execution_count": 11,
   "metadata": {},
   "outputs": [
    {
     "data": {
      "text/plain": [
       "selftext\n",
       "I know HQ needs to release the bonus but how long does it take them to process it.                                                                                                                                                                                                                                                                                                                                                                                                                                                                                                                                                                                                                                                                                                                                                                                                                                                                                                                                                                                                                                                                                                                                                                                                                                                                                                                                                                                                                                                                                                                                                                                                                                                                                                                                                                                                                                                                                                                                                                                                                                                                                                                                                                                                                                                                                                                                                                                                                                                                                                                                                                                                                                                                                                                                                                                                                                                                                                                                                                                                                                    36\n",
       "SGT Plank had his neck snapped whilst standing duty. Doc did the best he could to provide medical aid, SGT Plank is probably disabled.                                                                                                                                                                                                                                                                                                                                                                                                                                                                                                                                                                                                                                                                                                                                                                                                                                                                                                                                                                                                                                                                                                                                                                                                                                                                                                                                                                                                                                                                                                                                                                                                                                                                                                                                                                                                                                                                                                                                                                                                                                                                                                                                                                                                                                                                                                                                                                                                                                                                                                                                                                                                                                                                                                                                                                                                                                                                                                                                                                                36\n",
       "Just wanted to visit Camp Horno for the first time since being out and visit the boys up top again. Thing is I’ve forgotten which exact trail / fire break that leads you up its been so long. Id be thankful for someone to pm me maybe some sort of explained location of the start trail. Thank you in advance.                                                                                                                                                                                                                                                                                                                                                                                                                                                                                                                                                                                                                                                                                                                                                                                                                                                                                                                                                                                                                                                                                                                                                                                                                                                                                                                                                                                                                                                                                                                                                                                                                                                                                                                                                                                                                                                                                                                                                                                                                                                                                                                                                                                                                                                                                                                                                                                                                                                                                                                                                                                                                                                                                                                                                                                                    36\n",
       "I am a single O2E. Just wondering if I can get OHA or do they have a BOQ? I will be arriving in March. How's the quality of life? Thanks all!                                                                                                                                                                                                                                                                                                                                                                                                                                                                                                                                                                                                                                                                                                                                                                                                                                                                                                                                                                                                                                                                                                                                                                                                                                                                                                                                                                                                                                                                                                                                                                                                                                                                                                                                                                                                                                                                                                                                                                                                                                                                                                                                                                                                                                                                                                                                                                                                                                                                                                                                                                                                                                                                                                                                                                                                                                                                                                                                                                         36\n",
       "This is just a rant. I've tried calling my doctor and the detroit hospital, it just rings for like 3 minutes and then hangs up! I can't even leave a message, and 6 know secure messaging exists, but it takes at least a day for them to answer wtf                                                                                                                                                                                                                                                                                                                                                                                                                                                                                                                                                                                                                                                                                                                                                                                                                                                                                                                                                                                                                                                                                                                                                                                                                                                                                                                                                                                                                                                                                                                                                                                                                                                                                                                                                                                                                                                                                                                                                                                                                                                                                                                                                                                                                                                                                                                                                                                                                                                                                                                                                                                                                                                                                                                                                                                                                                                                  36\n",
       "                                                                                                                                                                                                                                                                                                                                                                                                                                                                                                                                                                                                                                                                                                                                                                                                                                                                                                                                                                                                                                                                                                                                                                                                                                                                                                                                                                                                                                                                                                                                                                                                                                                                                                                                                                                                                                                                                                                                                                                                                                                                                                                                                                                                                                                                                                                                                                                                                                                                                                                                                                                                                                                                                                                                                                                                                                                                                                                                                                                                                                                                                                                      ..\n",
       "I finished my associate in a community college, just joined the service and want to get a bachelor ready when I’m getting out. Which school do you guys suggesting? Does it have to be in-state where I am stationed at? And how do you guys looking for online program online?                                                                                                                                                                                                                                                                                                                                                                                                                                                                                                                                                                                                                                                                                                                                                                                                                                                                                                                                                                                                                                                                                                                                                                                                                                                                                                                                                                                                                                                                                                                                                                                                                                                                                                                                                                                                                                                                                                                                                                                                                                                                                                                                                                                                                                                                                                                                                                                                                                                                                                                                                                                                                                                                                                                                                                                                                                        1\n",
       "Unless you refuse to use your GI bill or want a very specific civilian job in intel, contracting, or working mechanically with mil systems. The GI bill covering your certification / education post military makes your MOS choice pretty moot for 98% of vets. \\n\\nChose your MOS based on what YOU WANT be it quality of life or cool stories and let the GI bill cover you after. Don't pick a lame MOS because it vaguely might help you get into a lame job post military that your not even sure you want. Advice from a vet in a civilian career.\\n\\nEdit: Add medical to the exceptions.                                                                                                                                                                                                                                                                                                                                                                                                                                                                                                                                                                                                                                                                                                                                                                                                                                                                                                                                                                                                                                                                                                                                                                                                                                                                                                                                                                                                                                                                                                                                                                                                                                                                                                                                                                                                                                                                                                                                                                                                                                                                                                                                                                                                                                                                                                                                                                                                                                                                                                                      1\n",
       "For the last 18 months I have had to the distinct pleasure of having absolutely 0 army interactions while assigned to the U.S. Student Detachment as a part of the ACS program. No formations, no uniforms, no organized pt, no soldiers, all the money. Just a grossly overpaid graduate student. Highly recommend.   \\n\\n\\nAnyway, I vaguely recall IPPS A beginning to roll out when I PCSD in May 2022, but never had any reason to use it. I am only aware of people complaining about it on reddit. I finally figured out how to login in and the only thing I see is my \"talent profile\" is completely jacked up and apparently leave is called absences now? Why?  \\n\\n\\nI am really only starting to care because I suspect ill be getting my RFO soon and apparently IPPS A is involved with that transaction. So if theres any high speeds out there thats square me away that would be awesome. And yes, I could call my chain of command but that might ruin this thing I have going where they pretend I don't exist and I rather not mess that up.                                                                                                                                                                                                                                                                                                                                                                                                                                                                                                                                                                                                                                                                                                                                                                                                                                                                                                                                                                                                                                                                                                                                                                                                                                                                                                                                                                                                                                                                                                                                                                                                                                                                                                                                                                                                                                                                                                                                                                                                                                                      1\n",
       "**BLUF: the Army places too much emphasis on ACFT scores and needs to start caring more about actual professional development when it comes to promotions, OMLs, etc.**\\n\\nWhen the ACFT was first announced, it made sense as a concept. The APFT had a lot of issues: it caused injuries (situps are bad), it wasn't representative of holistic fitness, and it was super easy to game. Creating a new fitness assessment that was based more closely on what soldiers would have to do during combat made a lot of sense. We all know that didn't go as well as it could have. Let's quickly go through some highlights from the ACFT's struggles:\\n\\n* It started off as a sex and age neutral test, only having different categories based on MOS. This made a ton of sense.\\n\\n* An overwhelming majority of women failed the leg tuck, so it was replaced with an option to do a plank. Then, the plank replaced the leg tuck altogether.\\n\\n* The test was revised to have age and gender categories.\\n\\n* Congress told the Army not to do that, we didn't listen, and the fate of the test was in limbo once again.\\n\\n* The new NDAA lets us keep sex-based assessment, but requires stricter standards for combat MOSs.\\n\\nPersonally, I think the ACFT's original method of grading made more sense than anything else we've ever done. Grading by sex and/or age seems silly to me when the battlefield doesn't care about those things. Indirect fire doesn't bracket you more slowly if you're old; your 250 pound (in kit) battle buddy who got shot doesn't weigh less if you're a woman. Soldiers should all be judged by their ability (or lack thereof) to meet **the standard**, whatever we determine that is.\\n\\nI was having a conversation with a female soldier recently about all of this, and she mentioned that she was in favor of the sex-based grading for the ACFT because doing otherwise was unfair to females when it came to things like promotion points, OMLs for schools, and anything else where your score matters are more than just a method of assessing fitness. She's not wrong, but she's complaining about a symptom when she thinks she's talking about a root issue.\\n\\nThe root issue is that **the Army places FAR too much weight on fitness assessments** for things like promotions, who gets to go to what school, or selections for support personnel to SOF units. The best example of this is how promotion points are calculated. a maxed PT test is nearly worth more than the most you can achieve by maxing out PME and correspondence courses *combined*. how does that make sense? Is it just laziness, because a PT test is easier to grade than doing the work and combing through the various military professional development and MOS-specific courses and deciding what they should be worth? Or is the old joke about how soldiers are meatheads at heart little more true than we want it to be?\\n\\nYeah, I know that was a long rant. Been thinking about it for a while. I'll have a Huel. I used up my breakfasdt time writing this.     1\n",
       "21 M, a couple years ago (beginning of 2022) an ambulance got called for me while I was at Walmart because I was having a depression breakdown and they thought I was suicidal.\\nEnded up going to the hospital.\\n\\nNow, I have been fine for a long time. But I’m getting sent to collections for an ambulance bill. I never even called the ambulance and never even wanted the ambulance but here we are.\\n\\nI don’t know what to do. I’m not sure if insurance will cover it.\\n\\nThis is such bullshit                                                                                                                                                                                                                                                                                                                                                                                                                                                                                                                                                                                                                                                                                                                                                                                                                                                                                                                                                                                                                                                                                                                                                                                                                                                                                                                                                                                                                                                                                                                                                                                                                                                                                                                                                                                                                                                                                                                                                                                                                                                                                                                                                                                                                                                                                                                                                                                                                                                                                                                                                                                                             1\n",
       "Name: count, Length: 2726, dtype: int64"
      ]
     },
     "execution_count": 11,
     "metadata": {},
     "output_type": "execute_result"
    }
   ],
   "source": [
    "agg_df['selftext'].value_counts()"
   ]
  },
  {
   "cell_type": "markdown",
   "metadata": {},
   "source": [
    "### Author Flair richtext"
   ]
  },
  {
   "cell_type": "code",
   "execution_count": 12,
   "metadata": {},
   "outputs": [],
   "source": [
    "agg_df['author_flair_richtext'].value_counts()\n",
    "agg_df.drop(columns=['author_flair_richtext'], inplace=True)"
   ]
  },
  {
   "cell_type": "markdown",
   "metadata": {},
   "source": [
    "### Author Full Name"
   ]
  },
  {
   "cell_type": "code",
   "execution_count": 13,
   "metadata": {},
   "outputs": [],
   "source": [
    "agg_df['author_fullname'].value_counts()\n",
    "agg_df.drop(columns=['author_fullname'], inplace=True)"
   ]
  },
  {
   "cell_type": "markdown",
   "metadata": {},
   "source": [
    "### Author Flair Type"
   ]
  },
  {
   "cell_type": "code",
   "execution_count": 14,
   "metadata": {},
   "outputs": [
    {
     "data": {
      "text/plain": [
       "author_flair_type\n",
       "text        24793\n",
       "richtext     3687\n",
       "Name: count, dtype: int64"
      ]
     },
     "execution_count": 14,
     "metadata": {},
     "output_type": "execute_result"
    }
   ],
   "source": [
    "agg_df['author_flair_type'].value_counts()\n"
   ]
  },
  {
   "cell_type": "markdown",
   "metadata": {},
   "source": [
    "### Original Columns"
   ]
  },
  {
   "cell_type": "code",
   "execution_count": 15,
   "metadata": {},
   "outputs": [
    {
     "name": "stdout",
     "output_type": "stream",
     "text": [
      "(28600, 20)\n"
     ]
    },
    {
     "data": {
      "text/plain": [
       "subreddit                   object\n",
       "selftext                    object\n",
       "title                       object\n",
       "link_flair_richtext         object\n",
       "subreddit_name_prefixed     object\n",
       "upvote_ratio               float64\n",
       "ups                          int64\n",
       "score                        int64\n",
       "edited                      object\n",
       "author_flair_css_class      object\n",
       "is_self                       bool\n",
       "created                    float64\n",
       "author_flair_type           object\n",
       "domain                      object\n",
       "no_follow                     bool\n",
       "over_18                       bool\n",
       "locked                        bool\n",
       "author                      object\n",
       "num_comments                 int64\n",
       "is_video                      bool\n",
       "dtype: object"
      ]
     },
     "execution_count": 15,
     "metadata": {},
     "output_type": "execute_result"
    }
   ],
   "source": [
    "print(agg_df.shape)\n",
    "agg_df.dtypes"
   ]
  },
  {
   "cell_type": "markdown",
   "metadata": {},
   "source": [
    "## Imputing missing Values"
   ]
  },
  {
   "cell_type": "markdown",
   "metadata": {},
   "source": [
    "### Author Flair CSS Class"
   ]
  },
  {
   "cell_type": "code",
   "execution_count": 16,
   "metadata": {},
   "outputs": [
    {
     "name": "stdout",
     "output_type": "stream",
     "text": [
      "Author Flair CSS Class Null is: 0\n"
     ]
    }
   ],
   "source": [
    "agg_df['author_flair_css_class'].fillna('blank', inplace=True)\n",
    "agg_df['author_flair_css_class'].value_counts()\n",
    "print(f'Author Flair CSS Class Null is: {agg_df[\"author_flair_css_class\"].isnull().sum()}')"
   ]
  },
  {
   "cell_type": "markdown",
   "metadata": {},
   "source": [
    "### Author Flair Type"
   ]
  },
  {
   "cell_type": "code",
   "execution_count": 17,
   "metadata": {},
   "outputs": [
    {
     "name": "stdout",
     "output_type": "stream",
     "text": [
      "Author Flair Type Null is: 0\n"
     ]
    }
   ],
   "source": [
    "agg_df['author_flair_type'].fillna('unknown', inplace=True)\n",
    "agg_df['author_flair_type'].value_counts()\n",
    "print(f'Author Flair Type Null is: {agg_df[\"author_flair_type\"].isnull().sum()}')"
   ]
  },
  {
   "cell_type": "markdown",
   "metadata": {},
   "source": [
    "### Self Text"
   ]
  },
  {
   "cell_type": "code",
   "execution_count": 18,
   "metadata": {},
   "outputs": [
    {
     "name": "stdout",
     "output_type": "stream",
     "text": [
      "Self Text Null is: 0\n"
     ]
    }
   ],
   "source": [
    "agg_df['selftext'].fillna('title_only', inplace=True)\n",
    "agg_df['selftext'].value_counts()\n",
    "print(f'Self Text Null is: {agg_df[\"selftext\"].isnull().sum()}')"
   ]
  },
  {
   "cell_type": "markdown",
   "metadata": {},
   "source": [
    "### Values Count"
   ]
  },
  {
   "cell_type": "code",
   "execution_count": 19,
   "metadata": {},
   "outputs": [
    {
     "data": {
      "text/plain": [
       "subreddit                  0\n",
       "selftext                   0\n",
       "num_comments               0\n",
       "author                     0\n",
       "locked                     0\n",
       "over_18                    0\n",
       "no_follow                  0\n",
       "domain                     0\n",
       "author_flair_type          0\n",
       "created                    0\n",
       "is_self                    0\n",
       "author_flair_css_class     0\n",
       "edited                     0\n",
       "score                      0\n",
       "ups                        0\n",
       "upvote_ratio               0\n",
       "subreddit_name_prefixed    0\n",
       "link_flair_richtext        0\n",
       "title                      0\n",
       "is_video                   0\n",
       "dtype: int64"
      ]
     },
     "execution_count": 19,
     "metadata": {},
     "output_type": "execute_result"
    }
   ],
   "source": [
    "agg_df.isnull().sum().sort_values(ascending=False)"
   ]
  },
  {
   "cell_type": "markdown",
   "metadata": {},
   "source": [
    "## Removing Duplicates"
   ]
  },
  {
   "cell_type": "code",
   "execution_count": 20,
   "metadata": {},
   "outputs": [
    {
     "data": {
      "text/plain": [
       "26074"
      ]
     },
     "execution_count": 20,
     "metadata": {},
     "output_type": "execute_result"
    }
   ],
   "source": [
    "agg_df.duplicated(subset=['author']).sum()"
   ]
  },
  {
   "cell_type": "code",
   "execution_count": 21,
   "metadata": {},
   "outputs": [
    {
     "data": {
      "text/plain": [
       "25538"
      ]
     },
     "execution_count": 21,
     "metadata": {},
     "output_type": "execute_result"
    }
   ],
   "source": [
    "agg_df.duplicated(subset=['title']).sum()"
   ]
  },
  {
   "cell_type": "code",
   "execution_count": 22,
   "metadata": {},
   "outputs": [
    {
     "data": {
      "text/plain": [
       "25873"
      ]
     },
     "execution_count": 22,
     "metadata": {},
     "output_type": "execute_result"
    }
   ],
   "source": [
    "agg_df.duplicated(subset=['selftext']).sum()"
   ]
  },
  {
   "cell_type": "code",
   "execution_count": 23,
   "metadata": {},
   "outputs": [
    {
     "data": {
      "text/plain": [
       "0"
      ]
     },
     "execution_count": 23,
     "metadata": {},
     "output_type": "execute_result"
    }
   ],
   "source": [
    "agg_df.drop_duplicates(subset=['selftext'], inplace=True)\n",
    "\n",
    "agg_df.duplicated(subset=['selftext']).sum()"
   ]
  },
  {
   "cell_type": "code",
   "execution_count": 24,
   "metadata": {},
   "outputs": [
    {
     "data": {
      "text/plain": [
       "(2727, 20)"
      ]
     },
     "execution_count": 24,
     "metadata": {},
     "output_type": "execute_result"
    }
   ],
   "source": [
    "agg_df.shape"
   ]
  },
  {
   "cell_type": "code",
   "execution_count": 25,
   "metadata": {},
   "outputs": [
    {
     "data": {
      "text/plain": [
       "subreddit                  0\n",
       "selftext                   0\n",
       "num_comments               0\n",
       "author                     0\n",
       "locked                     0\n",
       "over_18                    0\n",
       "no_follow                  0\n",
       "domain                     0\n",
       "author_flair_type          0\n",
       "created                    0\n",
       "is_self                    0\n",
       "author_flair_css_class     0\n",
       "edited                     0\n",
       "score                      0\n",
       "ups                        0\n",
       "upvote_ratio               0\n",
       "subreddit_name_prefixed    0\n",
       "link_flair_richtext        0\n",
       "title                      0\n",
       "is_video                   0\n",
       "dtype: int64"
      ]
     },
     "execution_count": 25,
     "metadata": {},
     "output_type": "execute_result"
    }
   ],
   "source": [
    "agg_df.isnull().sum().sort_values(ascending=False)"
   ]
  },
  {
   "cell_type": "markdown",
   "metadata": {},
   "source": [
    "## Normalizing and Encoding"
   ]
  },
  {
   "cell_type": "code",
   "execution_count": 26,
   "metadata": {},
   "outputs": [
    {
     "data": {
      "text/plain": [
       "subreddit                   object\n",
       "selftext                    object\n",
       "title                       object\n",
       "link_flair_richtext         object\n",
       "subreddit_name_prefixed     object\n",
       "upvote_ratio               float64\n",
       "ups                          int64\n",
       "score                        int64\n",
       "edited                      object\n",
       "author_flair_css_class      object\n",
       "is_self                       bool\n",
       "created                    float64\n",
       "author_flair_type           object\n",
       "domain                      object\n",
       "no_follow                     bool\n",
       "over_18                       bool\n",
       "locked                        bool\n",
       "author                      object\n",
       "num_comments                 int64\n",
       "is_video                      bool\n",
       "dtype: object"
      ]
     },
     "execution_count": 26,
     "metadata": {},
     "output_type": "execute_result"
    }
   ],
   "source": [
    "agg_df.dtypes"
   ]
  },
  {
   "cell_type": "code",
   "execution_count": 27,
   "metadata": {},
   "outputs": [
    {
     "data": {
      "text/html": [
       "<div>\n",
       "<style scoped>\n",
       "    .dataframe tbody tr th:only-of-type {\n",
       "        vertical-align: middle;\n",
       "    }\n",
       "\n",
       "    .dataframe tbody tr th {\n",
       "        vertical-align: top;\n",
       "    }\n",
       "\n",
       "    .dataframe thead th {\n",
       "        text-align: right;\n",
       "    }\n",
       "</style>\n",
       "<table border=\"1\" class=\"dataframe\">\n",
       "  <thead>\n",
       "    <tr style=\"text-align: right;\">\n",
       "      <th></th>\n",
       "      <th>subreddit</th>\n",
       "      <th>selftext</th>\n",
       "      <th>title</th>\n",
       "      <th>link_flair_richtext</th>\n",
       "      <th>subreddit_name_prefixed</th>\n",
       "      <th>upvote_ratio</th>\n",
       "      <th>ups</th>\n",
       "      <th>score</th>\n",
       "      <th>edited</th>\n",
       "      <th>author_flair_css_class</th>\n",
       "      <th>is_self</th>\n",
       "      <th>created</th>\n",
       "      <th>author_flair_type</th>\n",
       "      <th>domain</th>\n",
       "      <th>no_follow</th>\n",
       "      <th>over_18</th>\n",
       "      <th>locked</th>\n",
       "      <th>author</th>\n",
       "      <th>num_comments</th>\n",
       "      <th>is_video</th>\n",
       "    </tr>\n",
       "  </thead>\n",
       "  <tbody>\n",
       "    <tr>\n",
       "      <th>0</th>\n",
       "      <td>Army</td>\n",
       "      <td>This was a convo I had with one of my buddies ...</td>\n",
       "      <td>If you could create a new MRE based on a Fast ...</td>\n",
       "      <td>[]</td>\n",
       "      <td>r/army</td>\n",
       "      <td>1.00</td>\n",
       "      <td>3</td>\n",
       "      <td>3</td>\n",
       "      <td>False</td>\n",
       "      <td>blank</td>\n",
       "      <td>True</td>\n",
       "      <td>1.703376e+09</td>\n",
       "      <td>text</td>\n",
       "      <td>self.army</td>\n",
       "      <td>False</td>\n",
       "      <td>False</td>\n",
       "      <td>False</td>\n",
       "      <td>Mariostar16</td>\n",
       "      <td>3</td>\n",
       "      <td>False</td>\n",
       "    </tr>\n",
       "    <tr>\n",
       "      <th>1</th>\n",
       "      <td>Army</td>\n",
       "      <td>BLUF: how do you overcome imposter syndrome?\\n...</td>\n",
       "      <td>how do you even Army?</td>\n",
       "      <td>[]</td>\n",
       "      <td>r/army</td>\n",
       "      <td>0.57</td>\n",
       "      <td>1</td>\n",
       "      <td>1</td>\n",
       "      <td>False</td>\n",
       "      <td>airdefenseartillery</td>\n",
       "      <td>True</td>\n",
       "      <td>1.703375e+09</td>\n",
       "      <td>richtext</td>\n",
       "      <td>self.army</td>\n",
       "      <td>True</td>\n",
       "      <td>False</td>\n",
       "      <td>False</td>\n",
       "      <td>Ok-Philosopher5533</td>\n",
       "      <td>4</td>\n",
       "      <td>False</td>\n",
       "    </tr>\n",
       "    <tr>\n",
       "      <th>2</th>\n",
       "      <td>Army</td>\n",
       "      <td>Long story short, my estranged (soon to be ex)...</td>\n",
       "      <td>Command Directed No-Contact Order?</td>\n",
       "      <td>[]</td>\n",
       "      <td>r/army</td>\n",
       "      <td>1.00</td>\n",
       "      <td>2</td>\n",
       "      <td>2</td>\n",
       "      <td>False</td>\n",
       "      <td>blank</td>\n",
       "      <td>True</td>\n",
       "      <td>1.703373e+09</td>\n",
       "      <td>text</td>\n",
       "      <td>self.army</td>\n",
       "      <td>False</td>\n",
       "      <td>False</td>\n",
       "      <td>False</td>\n",
       "      <td>skywri8293</td>\n",
       "      <td>4</td>\n",
       "      <td>False</td>\n",
       "    </tr>\n",
       "    <tr>\n",
       "      <th>3</th>\n",
       "      <td>Army</td>\n",
       "      <td>\\nMy husband is 35T, and just graduated AIT. W...</td>\n",
       "      <td>Anyone 35T?</td>\n",
       "      <td>[]</td>\n",
       "      <td>r/army</td>\n",
       "      <td>0.84</td>\n",
       "      <td>4</td>\n",
       "      <td>4</td>\n",
       "      <td>False</td>\n",
       "      <td>blank</td>\n",
       "      <td>True</td>\n",
       "      <td>1.703372e+09</td>\n",
       "      <td>text</td>\n",
       "      <td>self.army</td>\n",
       "      <td>False</td>\n",
       "      <td>False</td>\n",
       "      <td>False</td>\n",
       "      <td>Deep-Ad1124</td>\n",
       "      <td>8</td>\n",
       "      <td>False</td>\n",
       "    </tr>\n",
       "    <tr>\n",
       "      <th>4</th>\n",
       "      <td>Army</td>\n",
       "      <td>I could use some advice on going recruiting. I...</td>\n",
       "      <td>Thinking of going recruiter as brand new E5</td>\n",
       "      <td>[]</td>\n",
       "      <td>r/army</td>\n",
       "      <td>1.00</td>\n",
       "      <td>2</td>\n",
       "      <td>2</td>\n",
       "      <td>False</td>\n",
       "      <td>blank</td>\n",
       "      <td>True</td>\n",
       "      <td>1.703371e+09</td>\n",
       "      <td>text</td>\n",
       "      <td>self.army</td>\n",
       "      <td>False</td>\n",
       "      <td>False</td>\n",
       "      <td>False</td>\n",
       "      <td>Classcelicos</td>\n",
       "      <td>6</td>\n",
       "      <td>False</td>\n",
       "    </tr>\n",
       "    <tr>\n",
       "      <th>5</th>\n",
       "      <td>Army</td>\n",
       "      <td>At my new duty station in Massachusetts and al...</td>\n",
       "      <td>Well everyone, I’m alone for the holidays and ...</td>\n",
       "      <td>[]</td>\n",
       "      <td>r/army</td>\n",
       "      <td>0.89</td>\n",
       "      <td>29</td>\n",
       "      <td>29</td>\n",
       "      <td>False</td>\n",
       "      <td>medical</td>\n",
       "      <td>True</td>\n",
       "      <td>1.703368e+09</td>\n",
       "      <td>richtext</td>\n",
       "      <td>self.army</td>\n",
       "      <td>False</td>\n",
       "      <td>False</td>\n",
       "      <td>False</td>\n",
       "      <td>BeanieWeenie-Burrito</td>\n",
       "      <td>24</td>\n",
       "      <td>False</td>\n",
       "    </tr>\n",
       "    <tr>\n",
       "      <th>6</th>\n",
       "      <td>Army</td>\n",
       "      <td>Does anyone have experience with submitting th...</td>\n",
       "      <td>DD Form 368 has started its way up. Looking fo...</td>\n",
       "      <td>[]</td>\n",
       "      <td>r/army</td>\n",
       "      <td>0.75</td>\n",
       "      <td>2</td>\n",
       "      <td>2</td>\n",
       "      <td>False</td>\n",
       "      <td>blank</td>\n",
       "      <td>True</td>\n",
       "      <td>1.703368e+09</td>\n",
       "      <td>text</td>\n",
       "      <td>self.army</td>\n",
       "      <td>False</td>\n",
       "      <td>False</td>\n",
       "      <td>False</td>\n",
       "      <td>Aggravating_Tart_299</td>\n",
       "      <td>7</td>\n",
       "      <td>False</td>\n",
       "    </tr>\n",
       "    <tr>\n",
       "      <th>7</th>\n",
       "      <td>Army</td>\n",
       "      <td>Also what does ‘Standard Excess’ refer to for ...</td>\n",
       "      <td>What does ‘Permanent Change of Station’ refer ...</td>\n",
       "      <td>[]</td>\n",
       "      <td>r/army</td>\n",
       "      <td>0.83</td>\n",
       "      <td>8</td>\n",
       "      <td>8</td>\n",
       "      <td>False</td>\n",
       "      <td>blank</td>\n",
       "      <td>True</td>\n",
       "      <td>1.703366e+09</td>\n",
       "      <td>text</td>\n",
       "      <td>self.army</td>\n",
       "      <td>False</td>\n",
       "      <td>False</td>\n",
       "      <td>False</td>\n",
       "      <td>Bambonoy</td>\n",
       "      <td>5</td>\n",
       "      <td>False</td>\n",
       "    </tr>\n",
       "    <tr>\n",
       "      <th>8</th>\n",
       "      <td>Army</td>\n",
       "      <td>Any tips or advice. I'm in osut about to turn ...</td>\n",
       "      <td>Advice for 17 year old</td>\n",
       "      <td>[]</td>\n",
       "      <td>r/army</td>\n",
       "      <td>0.76</td>\n",
       "      <td>8</td>\n",
       "      <td>8</td>\n",
       "      <td>1703369322.0</td>\n",
       "      <td>blank</td>\n",
       "      <td>True</td>\n",
       "      <td>1.703366e+09</td>\n",
       "      <td>text</td>\n",
       "      <td>self.army</td>\n",
       "      <td>False</td>\n",
       "      <td>False</td>\n",
       "      <td>False</td>\n",
       "      <td>churnedslinger</td>\n",
       "      <td>30</td>\n",
       "      <td>False</td>\n",
       "    </tr>\n",
       "    <tr>\n",
       "      <th>9</th>\n",
       "      <td>Army</td>\n",
       "      <td>Would anyone be able to describe the process o...</td>\n",
       "      <td>Space Force NCO to Army Warrant Officer</td>\n",
       "      <td>[]</td>\n",
       "      <td>r/army</td>\n",
       "      <td>0.60</td>\n",
       "      <td>1</td>\n",
       "      <td>1</td>\n",
       "      <td>False</td>\n",
       "      <td>blank</td>\n",
       "      <td>True</td>\n",
       "      <td>1.703365e+09</td>\n",
       "      <td>text</td>\n",
       "      <td>self.army</td>\n",
       "      <td>True</td>\n",
       "      <td>False</td>\n",
       "      <td>False</td>\n",
       "      <td>cantthinkofaname1010</td>\n",
       "      <td>4</td>\n",
       "      <td>False</td>\n",
       "    </tr>\n",
       "    <tr>\n",
       "      <th>10</th>\n",
       "      <td>Army</td>\n",
       "      <td>title_only</td>\n",
       "      <td>Thanks (Secret) Santa! You always know what I ...</td>\n",
       "      <td>[]</td>\n",
       "      <td>r/army</td>\n",
       "      <td>0.91</td>\n",
       "      <td>16</td>\n",
       "      <td>16</td>\n",
       "      <td>False</td>\n",
       "      <td>aviation</td>\n",
       "      <td>False</td>\n",
       "      <td>1.703365e+09</td>\n",
       "      <td>richtext</td>\n",
       "      <td>i.redd.it</td>\n",
       "      <td>False</td>\n",
       "      <td>False</td>\n",
       "      <td>False</td>\n",
       "      <td>Baystate411</td>\n",
       "      <td>5</td>\n",
       "      <td>False</td>\n",
       "    </tr>\n",
       "    <tr>\n",
       "      <th>11</th>\n",
       "      <td>Army</td>\n",
       "      <td>Any chance the promotions will improve or just...</td>\n",
       "      <td>I think I'll go with 35M unless promotions get...</td>\n",
       "      <td>[]</td>\n",
       "      <td>r/army</td>\n",
       "      <td>0.50</td>\n",
       "      <td>0</td>\n",
       "      <td>0</td>\n",
       "      <td>False</td>\n",
       "      <td>blank</td>\n",
       "      <td>True</td>\n",
       "      <td>1.703363e+09</td>\n",
       "      <td>text</td>\n",
       "      <td>self.army</td>\n",
       "      <td>True</td>\n",
       "      <td>False</td>\n",
       "      <td>False</td>\n",
       "      <td>JungLinMun</td>\n",
       "      <td>4</td>\n",
       "      <td>False</td>\n",
       "    </tr>\n",
       "    <tr>\n",
       "      <th>12</th>\n",
       "      <td>Army</td>\n",
       "      <td>i see a lot of serious and sad stuff here, alo...</td>\n",
       "      <td>celebration</td>\n",
       "      <td>[]</td>\n",
       "      <td>r/army</td>\n",
       "      <td>0.88</td>\n",
       "      <td>13</td>\n",
       "      <td>13</td>\n",
       "      <td>False</td>\n",
       "      <td>blank</td>\n",
       "      <td>True</td>\n",
       "      <td>1.703363e+09</td>\n",
       "      <td>text</td>\n",
       "      <td>self.army</td>\n",
       "      <td>False</td>\n",
       "      <td>False</td>\n",
       "      <td>False</td>\n",
       "      <td>Maleficent_Chest4587</td>\n",
       "      <td>11</td>\n",
       "      <td>False</td>\n",
       "    </tr>\n",
       "    <tr>\n",
       "      <th>15</th>\n",
       "      <td>Army</td>\n",
       "      <td>Long time lurker here, figured I'd finally pos...</td>\n",
       "      <td>Officer Promotion Boards</td>\n",
       "      <td>[]</td>\n",
       "      <td>r/army</td>\n",
       "      <td>1.00</td>\n",
       "      <td>7</td>\n",
       "      <td>7</td>\n",
       "      <td>False</td>\n",
       "      <td>blank</td>\n",
       "      <td>True</td>\n",
       "      <td>1.703361e+09</td>\n",
       "      <td>text</td>\n",
       "      <td>self.army</td>\n",
       "      <td>False</td>\n",
       "      <td>False</td>\n",
       "      <td>False</td>\n",
       "      <td>ThreeStarRatchet</td>\n",
       "      <td>5</td>\n",
       "      <td>False</td>\n",
       "    </tr>\n",
       "    <tr>\n",
       "      <th>16</th>\n",
       "      <td>Army</td>\n",
       "      <td>I submitted a PAR with my validated ppw from t...</td>\n",
       "      <td>I made points, but I wasn’t on the list</td>\n",
       "      <td>[]</td>\n",
       "      <td>r/army</td>\n",
       "      <td>1.00</td>\n",
       "      <td>1</td>\n",
       "      <td>1</td>\n",
       "      <td>False</td>\n",
       "      <td>aviation</td>\n",
       "      <td>True</td>\n",
       "      <td>1.703360e+09</td>\n",
       "      <td>richtext</td>\n",
       "      <td>self.army</td>\n",
       "      <td>True</td>\n",
       "      <td>False</td>\n",
       "      <td>False</td>\n",
       "      <td>Lucky-Wheel-4593</td>\n",
       "      <td>8</td>\n",
       "      <td>False</td>\n",
       "    </tr>\n",
       "  </tbody>\n",
       "</table>\n",
       "</div>"
      ],
      "text/plain": [
       "   subreddit                                           selftext  \\\n",
       "0       Army  This was a convo I had with one of my buddies ...   \n",
       "1       Army  BLUF: how do you overcome imposter syndrome?\\n...   \n",
       "2       Army  Long story short, my estranged (soon to be ex)...   \n",
       "3       Army  \\nMy husband is 35T, and just graduated AIT. W...   \n",
       "4       Army  I could use some advice on going recruiting. I...   \n",
       "5       Army  At my new duty station in Massachusetts and al...   \n",
       "6       Army  Does anyone have experience with submitting th...   \n",
       "7       Army  Also what does ‘Standard Excess’ refer to for ...   \n",
       "8       Army  Any tips or advice. I'm in osut about to turn ...   \n",
       "9       Army  Would anyone be able to describe the process o...   \n",
       "10      Army                                         title_only   \n",
       "11      Army  Any chance the promotions will improve or just...   \n",
       "12      Army  i see a lot of serious and sad stuff here, alo...   \n",
       "15      Army  Long time lurker here, figured I'd finally pos...   \n",
       "16      Army  I submitted a PAR with my validated ppw from t...   \n",
       "\n",
       "                                                title link_flair_richtext  \\\n",
       "0   If you could create a new MRE based on a Fast ...                  []   \n",
       "1                               how do you even Army?                  []   \n",
       "2                  Command Directed No-Contact Order?                  []   \n",
       "3                                         Anyone 35T?                  []   \n",
       "4         Thinking of going recruiter as brand new E5                  []   \n",
       "5   Well everyone, I’m alone for the holidays and ...                  []   \n",
       "6   DD Form 368 has started its way up. Looking fo...                  []   \n",
       "7   What does ‘Permanent Change of Station’ refer ...                  []   \n",
       "8                              Advice for 17 year old                  []   \n",
       "9             Space Force NCO to Army Warrant Officer                  []   \n",
       "10  Thanks (Secret) Santa! You always know what I ...                  []   \n",
       "11  I think I'll go with 35M unless promotions get...                  []   \n",
       "12                                        celebration                  []   \n",
       "15                           Officer Promotion Boards                  []   \n",
       "16            I made points, but I wasn’t on the list                  []   \n",
       "\n",
       "   subreddit_name_prefixed  upvote_ratio  ups  score        edited  \\\n",
       "0                   r/army          1.00    3      3         False   \n",
       "1                   r/army          0.57    1      1         False   \n",
       "2                   r/army          1.00    2      2         False   \n",
       "3                   r/army          0.84    4      4         False   \n",
       "4                   r/army          1.00    2      2         False   \n",
       "5                   r/army          0.89   29     29         False   \n",
       "6                   r/army          0.75    2      2         False   \n",
       "7                   r/army          0.83    8      8         False   \n",
       "8                   r/army          0.76    8      8  1703369322.0   \n",
       "9                   r/army          0.60    1      1         False   \n",
       "10                  r/army          0.91   16     16         False   \n",
       "11                  r/army          0.50    0      0         False   \n",
       "12                  r/army          0.88   13     13         False   \n",
       "15                  r/army          1.00    7      7         False   \n",
       "16                  r/army          1.00    1      1         False   \n",
       "\n",
       "   author_flair_css_class  is_self       created author_flair_type     domain  \\\n",
       "0                   blank     True  1.703376e+09              text  self.army   \n",
       "1     airdefenseartillery     True  1.703375e+09          richtext  self.army   \n",
       "2                   blank     True  1.703373e+09              text  self.army   \n",
       "3                   blank     True  1.703372e+09              text  self.army   \n",
       "4                   blank     True  1.703371e+09              text  self.army   \n",
       "5                 medical     True  1.703368e+09          richtext  self.army   \n",
       "6                   blank     True  1.703368e+09              text  self.army   \n",
       "7                   blank     True  1.703366e+09              text  self.army   \n",
       "8                   blank     True  1.703366e+09              text  self.army   \n",
       "9                   blank     True  1.703365e+09              text  self.army   \n",
       "10               aviation    False  1.703365e+09          richtext  i.redd.it   \n",
       "11                  blank     True  1.703363e+09              text  self.army   \n",
       "12                  blank     True  1.703363e+09              text  self.army   \n",
       "15                  blank     True  1.703361e+09              text  self.army   \n",
       "16               aviation     True  1.703360e+09          richtext  self.army   \n",
       "\n",
       "    no_follow  over_18  locked                author  num_comments  is_video  \n",
       "0       False    False   False           Mariostar16             3     False  \n",
       "1        True    False   False    Ok-Philosopher5533             4     False  \n",
       "2       False    False   False            skywri8293             4     False  \n",
       "3       False    False   False           Deep-Ad1124             8     False  \n",
       "4       False    False   False          Classcelicos             6     False  \n",
       "5       False    False   False  BeanieWeenie-Burrito            24     False  \n",
       "6       False    False   False  Aggravating_Tart_299             7     False  \n",
       "7       False    False   False              Bambonoy             5     False  \n",
       "8       False    False   False        churnedslinger            30     False  \n",
       "9        True    False   False  cantthinkofaname1010             4     False  \n",
       "10      False    False   False           Baystate411             5     False  \n",
       "11       True    False   False            JungLinMun             4     False  \n",
       "12      False    False   False  Maleficent_Chest4587            11     False  \n",
       "15      False    False   False      ThreeStarRatchet             5     False  \n",
       "16       True    False   False      Lucky-Wheel-4593             8     False  "
      ]
     },
     "execution_count": 27,
     "metadata": {},
     "output_type": "execute_result"
    }
   ],
   "source": [
    "agg_df.head(15)"
   ]
  },
  {
   "cell_type": "code",
   "execution_count": 28,
   "metadata": {},
   "outputs": [],
   "source": [
    "def preprocess_dataframe(df):\n",
    "    # Normalize numerical columns\n",
    "    numerical_cols = ['upvote_ratio', 'ups', 'score', 'num_comments']\n",
    "    df[numerical_cols] = StandardScaler().fit_transform(df[numerical_cols])\n",
    "\n",
    "    # Convert boolean columns to binary\n",
    "    boolean_cols = ['edited', 'is_self', 'no_follow', 'over_18', 'locked', 'is_video']\n",
    "    for col in boolean_cols:\n",
    "        df[col] = df[col].apply(lambda x: 1 if x == True or x == 'True' else 0)\n",
    "\n",
    "    # One-hot encode categorical columns\n",
    "    categorical_cols = ['author_flair_css_class', 'author_flair_type', 'domain']\n",
    "    df = pd.get_dummies(df, columns=categorical_cols, dtype= int)\n",
    "\n",
    "    # Process 'created' column (timestamp)\n",
    "    df['created'] = pd.to_datetime(df['created'], unit='s')\n",
    "    df['hour_of_day'] = df['created'].dt.hour\n",
    "    df['day_of_week'] = df['created'].dt.dayofweek\n",
    "    df = df.drop('created', axis=1)\n",
    "\n",
    "    return df"
   ]
  },
  {
   "cell_type": "markdown",
   "metadata": {},
   "source": [
    "# Cleaned Data"
   ]
  },
  {
   "cell_type": "code",
   "execution_count": 29,
   "metadata": {},
   "outputs": [
    {
     "name": "stdout",
     "output_type": "stream",
     "text": [
      "(2727, 73)\n"
     ]
    },
    {
     "data": {
      "text/html": [
       "<div>\n",
       "<style scoped>\n",
       "    .dataframe tbody tr th:only-of-type {\n",
       "        vertical-align: middle;\n",
       "    }\n",
       "\n",
       "    .dataframe tbody tr th {\n",
       "        vertical-align: top;\n",
       "    }\n",
       "\n",
       "    .dataframe thead th {\n",
       "        text-align: right;\n",
       "    }\n",
       "</style>\n",
       "<table border=\"1\" class=\"dataframe\">\n",
       "  <thead>\n",
       "    <tr style=\"text-align: right;\">\n",
       "      <th></th>\n",
       "      <th>subreddit</th>\n",
       "      <th>selftext</th>\n",
       "      <th>title</th>\n",
       "      <th>link_flair_richtext</th>\n",
       "      <th>subreddit_name_prefixed</th>\n",
       "      <th>upvote_ratio</th>\n",
       "      <th>ups</th>\n",
       "      <th>score</th>\n",
       "      <th>edited</th>\n",
       "      <th>is_self</th>\n",
       "      <th>...</th>\n",
       "      <th>domain_self.USMC</th>\n",
       "      <th>domain_self.army</th>\n",
       "      <th>domain_self.bipolar</th>\n",
       "      <th>domain_self.schizophrenia</th>\n",
       "      <th>domain_stripes.com</th>\n",
       "      <th>domain_v.redd.it</th>\n",
       "      <th>domain_youtu.be</th>\n",
       "      <th>domain_youtube.com</th>\n",
       "      <th>hour_of_day</th>\n",
       "      <th>day_of_week</th>\n",
       "    </tr>\n",
       "  </thead>\n",
       "  <tbody>\n",
       "    <tr>\n",
       "      <th>0</th>\n",
       "      <td>Army</td>\n",
       "      <td>This was a convo I had with one of my buddies ...</td>\n",
       "      <td>If you could create a new MRE based on a Fast ...</td>\n",
       "      <td>[]</td>\n",
       "      <td>r/army</td>\n",
       "      <td>0.673935</td>\n",
       "      <td>-0.263955</td>\n",
       "      <td>-0.263955</td>\n",
       "      <td>0</td>\n",
       "      <td>1</td>\n",
       "      <td>...</td>\n",
       "      <td>0</td>\n",
       "      <td>1</td>\n",
       "      <td>0</td>\n",
       "      <td>0</td>\n",
       "      <td>0</td>\n",
       "      <td>0</td>\n",
       "      <td>0</td>\n",
       "      <td>0</td>\n",
       "      <td>23</td>\n",
       "      <td>5</td>\n",
       "    </tr>\n",
       "    <tr>\n",
       "      <th>1</th>\n",
       "      <td>Army</td>\n",
       "      <td>BLUF: how do you overcome imposter syndrome?\\n...</td>\n",
       "      <td>how do you even Army?</td>\n",
       "      <td>[]</td>\n",
       "      <td>r/army</td>\n",
       "      <td>-1.607424</td>\n",
       "      <td>-0.290761</td>\n",
       "      <td>-0.290761</td>\n",
       "      <td>0</td>\n",
       "      <td>1</td>\n",
       "      <td>...</td>\n",
       "      <td>0</td>\n",
       "      <td>1</td>\n",
       "      <td>0</td>\n",
       "      <td>0</td>\n",
       "      <td>0</td>\n",
       "      <td>0</td>\n",
       "      <td>0</td>\n",
       "      <td>0</td>\n",
       "      <td>23</td>\n",
       "      <td>5</td>\n",
       "    </tr>\n",
       "    <tr>\n",
       "      <th>2</th>\n",
       "      <td>Army</td>\n",
       "      <td>Long story short, my estranged (soon to be ex)...</td>\n",
       "      <td>Command Directed No-Contact Order?</td>\n",
       "      <td>[]</td>\n",
       "      <td>r/army</td>\n",
       "      <td>0.673935</td>\n",
       "      <td>-0.277358</td>\n",
       "      <td>-0.277358</td>\n",
       "      <td>0</td>\n",
       "      <td>1</td>\n",
       "      <td>...</td>\n",
       "      <td>0</td>\n",
       "      <td>1</td>\n",
       "      <td>0</td>\n",
       "      <td>0</td>\n",
       "      <td>0</td>\n",
       "      <td>0</td>\n",
       "      <td>0</td>\n",
       "      <td>0</td>\n",
       "      <td>23</td>\n",
       "      <td>5</td>\n",
       "    </tr>\n",
       "    <tr>\n",
       "      <th>3</th>\n",
       "      <td>Army</td>\n",
       "      <td>\\nMy husband is 35T, and just graduated AIT. W...</td>\n",
       "      <td>Anyone 35T?</td>\n",
       "      <td>[]</td>\n",
       "      <td>r/army</td>\n",
       "      <td>-0.174943</td>\n",
       "      <td>-0.250552</td>\n",
       "      <td>-0.250552</td>\n",
       "      <td>0</td>\n",
       "      <td>1</td>\n",
       "      <td>...</td>\n",
       "      <td>0</td>\n",
       "      <td>1</td>\n",
       "      <td>0</td>\n",
       "      <td>0</td>\n",
       "      <td>0</td>\n",
       "      <td>0</td>\n",
       "      <td>0</td>\n",
       "      <td>0</td>\n",
       "      <td>22</td>\n",
       "      <td>5</td>\n",
       "    </tr>\n",
       "    <tr>\n",
       "      <th>4</th>\n",
       "      <td>Army</td>\n",
       "      <td>I could use some advice on going recruiting. I...</td>\n",
       "      <td>Thinking of going recruiter as brand new E5</td>\n",
       "      <td>[]</td>\n",
       "      <td>r/army</td>\n",
       "      <td>0.673935</td>\n",
       "      <td>-0.277358</td>\n",
       "      <td>-0.277358</td>\n",
       "      <td>0</td>\n",
       "      <td>1</td>\n",
       "      <td>...</td>\n",
       "      <td>0</td>\n",
       "      <td>1</td>\n",
       "      <td>0</td>\n",
       "      <td>0</td>\n",
       "      <td>0</td>\n",
       "      <td>0</td>\n",
       "      <td>0</td>\n",
       "      <td>0</td>\n",
       "      <td>22</td>\n",
       "      <td>5</td>\n",
       "    </tr>\n",
       "    <tr>\n",
       "      <th>5</th>\n",
       "      <td>Army</td>\n",
       "      <td>At my new duty station in Massachusetts and al...</td>\n",
       "      <td>Well everyone, I’m alone for the holidays and ...</td>\n",
       "      <td>[]</td>\n",
       "      <td>r/army</td>\n",
       "      <td>0.090331</td>\n",
       "      <td>0.084528</td>\n",
       "      <td>0.084528</td>\n",
       "      <td>0</td>\n",
       "      <td>1</td>\n",
       "      <td>...</td>\n",
       "      <td>0</td>\n",
       "      <td>1</td>\n",
       "      <td>0</td>\n",
       "      <td>0</td>\n",
       "      <td>0</td>\n",
       "      <td>0</td>\n",
       "      <td>0</td>\n",
       "      <td>0</td>\n",
       "      <td>21</td>\n",
       "      <td>5</td>\n",
       "    </tr>\n",
       "    <tr>\n",
       "      <th>6</th>\n",
       "      <td>Army</td>\n",
       "      <td>Does anyone have experience with submitting th...</td>\n",
       "      <td>DD Form 368 has started its way up. Looking fo...</td>\n",
       "      <td>[]</td>\n",
       "      <td>r/army</td>\n",
       "      <td>-0.652437</td>\n",
       "      <td>-0.277358</td>\n",
       "      <td>-0.277358</td>\n",
       "      <td>0</td>\n",
       "      <td>1</td>\n",
       "      <td>...</td>\n",
       "      <td>0</td>\n",
       "      <td>1</td>\n",
       "      <td>0</td>\n",
       "      <td>0</td>\n",
       "      <td>0</td>\n",
       "      <td>0</td>\n",
       "      <td>0</td>\n",
       "      <td>0</td>\n",
       "      <td>21</td>\n",
       "      <td>5</td>\n",
       "    </tr>\n",
       "    <tr>\n",
       "      <th>7</th>\n",
       "      <td>Army</td>\n",
       "      <td>Also what does ‘Standard Excess’ refer to for ...</td>\n",
       "      <td>What does ‘Permanent Change of Station’ refer ...</td>\n",
       "      <td>[]</td>\n",
       "      <td>r/army</td>\n",
       "      <td>-0.227998</td>\n",
       "      <td>-0.196939</td>\n",
       "      <td>-0.196939</td>\n",
       "      <td>0</td>\n",
       "      <td>1</td>\n",
       "      <td>...</td>\n",
       "      <td>0</td>\n",
       "      <td>1</td>\n",
       "      <td>0</td>\n",
       "      <td>0</td>\n",
       "      <td>0</td>\n",
       "      <td>0</td>\n",
       "      <td>0</td>\n",
       "      <td>0</td>\n",
       "      <td>21</td>\n",
       "      <td>5</td>\n",
       "    </tr>\n",
       "    <tr>\n",
       "      <th>8</th>\n",
       "      <td>Army</td>\n",
       "      <td>Any tips or advice. I'm in osut about to turn ...</td>\n",
       "      <td>Advice for 17 year old</td>\n",
       "      <td>[]</td>\n",
       "      <td>r/army</td>\n",
       "      <td>-0.599382</td>\n",
       "      <td>-0.196939</td>\n",
       "      <td>-0.196939</td>\n",
       "      <td>0</td>\n",
       "      <td>1</td>\n",
       "      <td>...</td>\n",
       "      <td>0</td>\n",
       "      <td>1</td>\n",
       "      <td>0</td>\n",
       "      <td>0</td>\n",
       "      <td>0</td>\n",
       "      <td>0</td>\n",
       "      <td>0</td>\n",
       "      <td>0</td>\n",
       "      <td>21</td>\n",
       "      <td>5</td>\n",
       "    </tr>\n",
       "    <tr>\n",
       "      <th>9</th>\n",
       "      <td>Army</td>\n",
       "      <td>Would anyone be able to describe the process o...</td>\n",
       "      <td>Space Force NCO to Army Warrant Officer</td>\n",
       "      <td>[]</td>\n",
       "      <td>r/army</td>\n",
       "      <td>-1.448259</td>\n",
       "      <td>-0.290761</td>\n",
       "      <td>-0.290761</td>\n",
       "      <td>0</td>\n",
       "      <td>1</td>\n",
       "      <td>...</td>\n",
       "      <td>0</td>\n",
       "      <td>1</td>\n",
       "      <td>0</td>\n",
       "      <td>0</td>\n",
       "      <td>0</td>\n",
       "      <td>0</td>\n",
       "      <td>0</td>\n",
       "      <td>0</td>\n",
       "      <td>20</td>\n",
       "      <td>5</td>\n",
       "    </tr>\n",
       "  </tbody>\n",
       "</table>\n",
       "<p>10 rows × 73 columns</p>\n",
       "</div>"
      ],
      "text/plain": [
       "  subreddit                                           selftext  \\\n",
       "0      Army  This was a convo I had with one of my buddies ...   \n",
       "1      Army  BLUF: how do you overcome imposter syndrome?\\n...   \n",
       "2      Army  Long story short, my estranged (soon to be ex)...   \n",
       "3      Army  \\nMy husband is 35T, and just graduated AIT. W...   \n",
       "4      Army  I could use some advice on going recruiting. I...   \n",
       "5      Army  At my new duty station in Massachusetts and al...   \n",
       "6      Army  Does anyone have experience with submitting th...   \n",
       "7      Army  Also what does ‘Standard Excess’ refer to for ...   \n",
       "8      Army  Any tips or advice. I'm in osut about to turn ...   \n",
       "9      Army  Would anyone be able to describe the process o...   \n",
       "\n",
       "                                               title link_flair_richtext  \\\n",
       "0  If you could create a new MRE based on a Fast ...                  []   \n",
       "1                              how do you even Army?                  []   \n",
       "2                 Command Directed No-Contact Order?                  []   \n",
       "3                                        Anyone 35T?                  []   \n",
       "4        Thinking of going recruiter as brand new E5                  []   \n",
       "5  Well everyone, I’m alone for the holidays and ...                  []   \n",
       "6  DD Form 368 has started its way up. Looking fo...                  []   \n",
       "7  What does ‘Permanent Change of Station’ refer ...                  []   \n",
       "8                             Advice for 17 year old                  []   \n",
       "9            Space Force NCO to Army Warrant Officer                  []   \n",
       "\n",
       "  subreddit_name_prefixed  upvote_ratio       ups     score  edited  is_self  \\\n",
       "0                  r/army      0.673935 -0.263955 -0.263955       0        1   \n",
       "1                  r/army     -1.607424 -0.290761 -0.290761       0        1   \n",
       "2                  r/army      0.673935 -0.277358 -0.277358       0        1   \n",
       "3                  r/army     -0.174943 -0.250552 -0.250552       0        1   \n",
       "4                  r/army      0.673935 -0.277358 -0.277358       0        1   \n",
       "5                  r/army      0.090331  0.084528  0.084528       0        1   \n",
       "6                  r/army     -0.652437 -0.277358 -0.277358       0        1   \n",
       "7                  r/army     -0.227998 -0.196939 -0.196939       0        1   \n",
       "8                  r/army     -0.599382 -0.196939 -0.196939       0        1   \n",
       "9                  r/army     -1.448259 -0.290761 -0.290761       0        1   \n",
       "\n",
       "   ...  domain_self.USMC  domain_self.army  domain_self.bipolar  \\\n",
       "0  ...                 0                 1                    0   \n",
       "1  ...                 0                 1                    0   \n",
       "2  ...                 0                 1                    0   \n",
       "3  ...                 0                 1                    0   \n",
       "4  ...                 0                 1                    0   \n",
       "5  ...                 0                 1                    0   \n",
       "6  ...                 0                 1                    0   \n",
       "7  ...                 0                 1                    0   \n",
       "8  ...                 0                 1                    0   \n",
       "9  ...                 0                 1                    0   \n",
       "\n",
       "  domain_self.schizophrenia  domain_stripes.com  domain_v.redd.it  \\\n",
       "0                         0                   0                 0   \n",
       "1                         0                   0                 0   \n",
       "2                         0                   0                 0   \n",
       "3                         0                   0                 0   \n",
       "4                         0                   0                 0   \n",
       "5                         0                   0                 0   \n",
       "6                         0                   0                 0   \n",
       "7                         0                   0                 0   \n",
       "8                         0                   0                 0   \n",
       "9                         0                   0                 0   \n",
       "\n",
       "   domain_youtu.be  domain_youtube.com  hour_of_day  day_of_week  \n",
       "0                0                   0           23            5  \n",
       "1                0                   0           23            5  \n",
       "2                0                   0           23            5  \n",
       "3                0                   0           22            5  \n",
       "4                0                   0           22            5  \n",
       "5                0                   0           21            5  \n",
       "6                0                   0           21            5  \n",
       "7                0                   0           21            5  \n",
       "8                0                   0           21            5  \n",
       "9                0                   0           20            5  \n",
       "\n",
       "[10 rows x 73 columns]"
      ]
     },
     "execution_count": 29,
     "metadata": {},
     "output_type": "execute_result"
    }
   ],
   "source": [
    "processed_df = preprocess_dataframe(agg_df)\n",
    "\n",
    "print(processed_df.shape)\n",
    "processed_df.head(10)"
   ]
  },
  {
   "cell_type": "markdown",
   "metadata": {},
   "source": [
    "### Output processed df in ANALYSIS folder for further analysis"
   ]
  },
  {
   "cell_type": "code",
   "execution_count": 30,
   "metadata": {},
   "outputs": [],
   "source": [
    "#output to csv\n",
    "processed_df.to_csv('../3_ANALYSIS/data/processed_data.csv', index=False)"
   ]
  },
  {
   "cell_type": "code",
   "execution_count": 31,
   "metadata": {},
   "outputs": [
    {
     "data": {
      "text/plain": [
       "(2727, 73)"
      ]
     },
     "execution_count": 31,
     "metadata": {},
     "output_type": "execute_result"
    }
   ],
   "source": [
    "processed_df.shape"
   ]
  }
 ],
 "metadata": {
  "kernelspec": {
   "display_name": "dsi",
   "language": "python",
   "name": "python3"
  },
  "language_info": {
   "codemirror_mode": {
    "name": "ipython",
    "version": 3
   },
   "file_extension": ".py",
   "mimetype": "text/x-python",
   "name": "python",
   "nbconvert_exporter": "python",
   "pygments_lexer": "ipython3",
   "version": "3.9.18"
  }
 },
 "nbformat": 4,
 "nbformat_minor": 2
}
